{
  "nbformat": 4,
  "nbformat_minor": 0,
  "metadata": {
    "colab": {
      "name": "MLP_MNIST_Keras.ipynb",
      "provenance": [],
      "collapsed_sections": [],
      "include_colab_link": true
    },
    "kernelspec": {
      "display_name": "Python 3",
      "language": "python",
      "name": "python3"
    }
  },
  "cells": [
    {
      "cell_type": "markdown",
      "metadata": {
        "id": "view-in-github",
        "colab_type": "text"
      },
      "source": [
        "<a href=\"https://colab.research.google.com/github/idrissdeme/Exerc-cos_Python_UERJ_202/blob/main/Exemplos_MLP/MLP_MNIST_Keras.ipynb\" target=\"_parent\"><img src=\"https://colab.research.google.com/assets/colab-badge.svg\" alt=\"Open In Colab\"/></a>"
      ]
    },
    {
      "cell_type": "markdown",
      "metadata": {
        "id": "ftxVZMcL9zlw"
      },
      "source": [
        "**JUPYTER NOTEBOOK FOR A MLP LEARNING MNIST NUMBERS from 0 to 9 **"
      ]
    },
    {
      "cell_type": "code",
      "metadata": {
        "id": "h1MQaRXWLVxm"
      },
      "source": [
        "from keras.models import Sequential\n",
        "from keras.layers import Dense\n",
        "from keras.optimizers import SGD\n",
        "from keras.datasets import mnist\n",
        "from keras.utils import np_utils"
      ],
      "execution_count": null,
      "outputs": []
    },
    {
      "cell_type": "markdown",
      "metadata": {
        "id": "yvoxEUZsXSpp"
      },
      "source": [
        "**Define the network hyperparameters**"
      ]
    },
    {
      "cell_type": "code",
      "metadata": {
        "id": "Oo7CQ7KkFSud"
      },
      "source": [
        "# Trainign batch size \n",
        "batch_size = 100\n",
        "# Number of training epochs\n",
        "epochs = 50\n",
        "# Fraction of the training data to be used as validation\n",
        "val_split = 0.3\n",
        "# Learning rate\n",
        "lr=0.05\n"
      ],
      "execution_count": null,
      "outputs": []
    },
    {
      "cell_type": "markdown",
      "metadata": {
        "id": "VA0a8nUbXes8"
      },
      "source": [
        "**Load the MNIST dataset and format it for train and validation**"
      ]
    },
    {
      "cell_type": "code",
      "metadata": {
        "id": "vwHyt7p9FSun",
        "outputId": "46d659f2-9a71-4c73-9364-39b9080089e8",
        "colab": {
          "base_uri": "https://localhost:8080/",
          "height": 51
        }
      },
      "source": [
        "# Load MNIST dataset (28x28 pixel images)\n",
        "(X_train, y_train), (X_test, y_test) = mnist.load_data()\n",
        "X_train = X_train.reshape(60000, 784)\n",
        "X_test = X_test.reshape(10000, 784)\n",
        "X_train = X_train.astype('float32')\n",
        "X_test = X_test.astype('float32')\n",
        "X_train /= 255\n",
        "X_test /= 255\n",
        "Y_Train = y_train/10.\n",
        "print(y_test)\n",
        "Y_Test = y_test/10.\n",
        "print(Y_Test)"
      ],
      "execution_count": null,
      "outputs": [
        {
          "output_type": "stream",
          "text": [
            "[7 2 1 ... 4 5 6]\n",
            "[0.7 0.2 0.1 ... 0.4 0.5 0.6]\n"
          ],
          "name": "stdout"
        }
      ]
    },
    {
      "cell_type": "markdown",
      "metadata": {
        "id": "bW5Ef_8PXtYs"
      },
      "source": [
        "**Define the MLP achitecture using KERAS sequential API**"
      ]
    },
    {
      "cell_type": "code",
      "metadata": {
        "id": "vnEXAUWpFSus",
        "outputId": "cd510907-b3c7-44ac-db45-ebe7d8ac5999",
        "colab": {
          "base_uri": "https://localhost:8080/",
          "height": 289
        }
      },
      "source": [
        "# Multilayer Perceptron model\n",
        "model = Sequential()\n",
        "model.add(Dense(input_dim=784, activation=\"relu\", units=100, kernel_initializer=\"normal\"))\n",
        "model.add(Dense(activation=\"relu\", units=50, kernel_initializer=\"normal\")) # after first layer no need to specify input_dim\n",
        "model.add(Dense(activation=\"relu\", units=25, kernel_initializer=\"normal\")) # after first layer no need to specify input_dim\n",
        "model.add(Dense(activation=\"sigmoid\", units=1, kernel_initializer=\"normal\"))\n",
        "model.compile(optimizer=SGD(lr=lr), loss='mean_squared_error', metrics=['accuracy'])\n",
        "model.summary()"
      ],
      "execution_count": null,
      "outputs": [
        {
          "output_type": "stream",
          "text": [
            "Model: \"sequential_16\"\n",
            "_________________________________________________________________\n",
            "Layer (type)                 Output Shape              Param #   \n",
            "=================================================================\n",
            "dense_46 (Dense)             (None, 100)               78500     \n",
            "_________________________________________________________________\n",
            "dense_47 (Dense)             (None, 50)                5050      \n",
            "_________________________________________________________________\n",
            "dense_48 (Dense)             (None, 25)                1275      \n",
            "_________________________________________________________________\n",
            "dense_49 (Dense)             (None, 1)                 26        \n",
            "=================================================================\n",
            "Total params: 84,851\n",
            "Trainable params: 84,851\n",
            "Non-trainable params: 0\n",
            "_________________________________________________________________\n"
          ],
          "name": "stdout"
        }
      ]
    },
    {
      "cell_type": "markdown",
      "metadata": {
        "id": "R1Uju_bZX45K"
      },
      "source": [
        "**Train the MLP**"
      ]
    },
    {
      "cell_type": "code",
      "metadata": {
        "id": "v1ZdRrtvFSu3",
        "outputId": "5718c4b6-ca0b-429a-f90e-d91f8e50a478",
        "colab": {
          "base_uri": "https://localhost:8080/",
          "height": 1000
        }
      },
      "source": [
        "# Train\n",
        "history = model.fit(X_train, Y_Train, validation_split=val_split, epochs=epochs, batch_size=batch_size, verbose=1)\n"
      ],
      "execution_count": null,
      "outputs": [
        {
          "output_type": "stream",
          "text": [
            "Train on 42000 samples, validate on 18000 samples\n",
            "Epoch 1/50\n",
            "42000/42000 [==============================] - 2s 49us/step - loss: 0.0839 - acc: 0.0986 - val_loss: 0.0824 - val_acc: 0.0989\n",
            "Epoch 2/50\n",
            "42000/42000 [==============================] - 1s 35us/step - loss: 0.0820 - acc: 0.0986 - val_loss: 0.0796 - val_acc: 0.0989\n",
            "Epoch 3/50\n",
            "42000/42000 [==============================] - 1s 34us/step - loss: 0.0708 - acc: 0.0975 - val_loss: 0.0521 - val_acc: 0.0928\n",
            "Epoch 4/50\n",
            "42000/42000 [==============================] - 1s 35us/step - loss: 0.0431 - acc: 0.0940 - val_loss: 0.0377 - val_acc: 0.0933\n",
            "Epoch 5/50\n",
            "42000/42000 [==============================] - 2s 36us/step - loss: 0.0361 - acc: 0.0944 - val_loss: 0.0337 - val_acc: 0.0940\n",
            "Epoch 6/50\n",
            "42000/42000 [==============================] - 2s 36us/step - loss: 0.0326 - acc: 0.0954 - val_loss: 0.0306 - val_acc: 0.0954\n",
            "Epoch 7/50\n",
            "42000/42000 [==============================] - 2s 37us/step - loss: 0.0295 - acc: 0.0958 - val_loss: 0.0276 - val_acc: 0.0957\n",
            "Epoch 8/50\n",
            "42000/42000 [==============================] - 1s 35us/step - loss: 0.0263 - acc: 0.0963 - val_loss: 0.0244 - val_acc: 0.0967\n",
            "Epoch 9/50\n",
            "42000/42000 [==============================] - 1s 34us/step - loss: 0.0232 - acc: 0.0968 - val_loss: 0.0216 - val_acc: 0.0969\n",
            "Epoch 10/50\n",
            "42000/42000 [==============================] - 1s 34us/step - loss: 0.0206 - acc: 0.0970 - val_loss: 0.0196 - val_acc: 0.0974\n",
            "Epoch 11/50\n",
            "42000/42000 [==============================] - 1s 35us/step - loss: 0.0187 - acc: 0.0972 - val_loss: 0.0179 - val_acc: 0.0974\n",
            "Epoch 12/50\n",
            "42000/42000 [==============================] - 1s 35us/step - loss: 0.0172 - acc: 0.0974 - val_loss: 0.0167 - val_acc: 0.0977\n",
            "Epoch 13/50\n",
            "42000/42000 [==============================] - 1s 34us/step - loss: 0.0160 - acc: 0.0976 - val_loss: 0.0157 - val_acc: 0.0978\n",
            "Epoch 14/50\n",
            "42000/42000 [==============================] - 1s 34us/step - loss: 0.0151 - acc: 0.0977 - val_loss: 0.0150 - val_acc: 0.0981\n",
            "Epoch 15/50\n",
            "42000/42000 [==============================] - 1s 34us/step - loss: 0.0143 - acc: 0.0977 - val_loss: 0.0143 - val_acc: 0.0981\n",
            "Epoch 16/50\n",
            "42000/42000 [==============================] - 1s 35us/step - loss: 0.0137 - acc: 0.0978 - val_loss: 0.0137 - val_acc: 0.0981\n",
            "Epoch 17/50\n",
            "42000/42000 [==============================] - 1s 34us/step - loss: 0.0131 - acc: 0.0978 - val_loss: 0.0133 - val_acc: 0.0982\n",
            "Epoch 18/50\n",
            "42000/42000 [==============================] - 1s 34us/step - loss: 0.0126 - acc: 0.0979 - val_loss: 0.0129 - val_acc: 0.0982\n",
            "Epoch 19/50\n",
            "42000/42000 [==============================] - 1s 35us/step - loss: 0.0122 - acc: 0.0980 - val_loss: 0.0127 - val_acc: 0.0980\n",
            "Epoch 20/50\n",
            "42000/42000 [==============================] - 1s 34us/step - loss: 0.0118 - acc: 0.0980 - val_loss: 0.0123 - val_acc: 0.0983\n",
            "Epoch 21/50\n",
            "42000/42000 [==============================] - 1s 35us/step - loss: 0.0115 - acc: 0.0981 - val_loss: 0.0121 - val_acc: 0.0983\n",
            "Epoch 22/50\n",
            "42000/42000 [==============================] - 1s 35us/step - loss: 0.0112 - acc: 0.0981 - val_loss: 0.0119 - val_acc: 0.0981\n",
            "Epoch 23/50\n",
            "42000/42000 [==============================] - 1s 34us/step - loss: 0.0109 - acc: 0.0981 - val_loss: 0.0117 - val_acc: 0.0981\n",
            "Epoch 24/50\n",
            "42000/42000 [==============================] - 1s 34us/step - loss: 0.0106 - acc: 0.0982 - val_loss: 0.0115 - val_acc: 0.0981\n",
            "Epoch 25/50\n",
            "42000/42000 [==============================] - 1s 35us/step - loss: 0.0104 - acc: 0.0982 - val_loss: 0.0115 - val_acc: 0.0986\n",
            "Epoch 26/50\n",
            "42000/42000 [==============================] - 1s 35us/step - loss: 0.0102 - acc: 0.0982 - val_loss: 0.0111 - val_acc: 0.0983\n",
            "Epoch 27/50\n",
            "42000/42000 [==============================] - 1s 34us/step - loss: 0.0100 - acc: 0.0982 - val_loss: 0.0110 - val_acc: 0.0983\n",
            "Epoch 28/50\n",
            "42000/42000 [==============================] - 1s 35us/step - loss: 0.0098 - acc: 0.0982 - val_loss: 0.0109 - val_acc: 0.0983\n",
            "Epoch 29/50\n",
            "42000/42000 [==============================] - 1s 35us/step - loss: 0.0096 - acc: 0.0983 - val_loss: 0.0109 - val_acc: 0.0986\n",
            "Epoch 30/50\n",
            "42000/42000 [==============================] - 1s 35us/step - loss: 0.0094 - acc: 0.0983 - val_loss: 0.0109 - val_acc: 0.0982\n",
            "Epoch 31/50\n",
            "42000/42000 [==============================] - 1s 35us/step - loss: 0.0093 - acc: 0.0984 - val_loss: 0.0105 - val_acc: 0.0985\n",
            "Epoch 32/50\n",
            "42000/42000 [==============================] - 1s 34us/step - loss: 0.0091 - acc: 0.0984 - val_loss: 0.0104 - val_acc: 0.0984\n",
            "Epoch 33/50\n",
            "42000/42000 [==============================] - 1s 35us/step - loss: 0.0090 - acc: 0.0984 - val_loss: 0.0103 - val_acc: 0.0984\n",
            "Epoch 34/50\n",
            "42000/42000 [==============================] - 1s 34us/step - loss: 0.0088 - acc: 0.0984 - val_loss: 0.0101 - val_acc: 0.0984\n",
            "Epoch 35/50\n",
            "42000/42000 [==============================] - 1s 35us/step - loss: 0.0087 - acc: 0.0985 - val_loss: 0.0101 - val_acc: 0.0984\n",
            "Epoch 36/50\n",
            "42000/42000 [==============================] - 1s 35us/step - loss: 0.0085 - acc: 0.0985 - val_loss: 0.0100 - val_acc: 0.0983\n",
            "Epoch 37/50\n",
            "42000/42000 [==============================] - 1s 35us/step - loss: 0.0084 - acc: 0.0984 - val_loss: 0.0100 - val_acc: 0.0986\n",
            "Epoch 38/50\n",
            "42000/42000 [==============================] - 1s 34us/step - loss: 0.0083 - acc: 0.0984 - val_loss: 0.0099 - val_acc: 0.0985\n",
            "Epoch 39/50\n",
            "42000/42000 [==============================] - 1s 35us/step - loss: 0.0082 - acc: 0.0985 - val_loss: 0.0098 - val_acc: 0.0984\n",
            "Epoch 40/50\n",
            "42000/42000 [==============================] - 2s 36us/step - loss: 0.0081 - acc: 0.0985 - val_loss: 0.0097 - val_acc: 0.0984\n",
            "Epoch 41/50\n",
            "42000/42000 [==============================] - 1s 36us/step - loss: 0.0080 - acc: 0.0985 - val_loss: 0.0100 - val_acc: 0.0983\n",
            "Epoch 42/50\n",
            "42000/42000 [==============================] - 1s 35us/step - loss: 0.0078 - acc: 0.0985 - val_loss: 0.0097 - val_acc: 0.0986\n",
            "Epoch 43/50\n",
            "42000/42000 [==============================] - 1s 34us/step - loss: 0.0077 - acc: 0.0985 - val_loss: 0.0095 - val_acc: 0.0984\n",
            "Epoch 44/50\n",
            "42000/42000 [==============================] - 1s 35us/step - loss: 0.0076 - acc: 0.0985 - val_loss: 0.0095 - val_acc: 0.0985\n",
            "Epoch 45/50\n",
            "42000/42000 [==============================] - 1s 35us/step - loss: 0.0075 - acc: 0.0985 - val_loss: 0.0094 - val_acc: 0.0984\n",
            "Epoch 46/50\n",
            "42000/42000 [==============================] - 1s 34us/step - loss: 0.0074 - acc: 0.0985 - val_loss: 0.0094 - val_acc: 0.0984\n",
            "Epoch 47/50\n",
            "42000/42000 [==============================] - 1s 35us/step - loss: 0.0074 - acc: 0.0985 - val_loss: 0.0092 - val_acc: 0.0984\n",
            "Epoch 48/50\n",
            "42000/42000 [==============================] - 1s 35us/step - loss: 0.0073 - acc: 0.0985 - val_loss: 0.0092 - val_acc: 0.0984\n",
            "Epoch 49/50\n",
            "42000/42000 [==============================] - 1s 35us/step - loss: 0.0072 - acc: 0.0985 - val_loss: 0.0092 - val_acc: 0.0984\n",
            "Epoch 50/50\n",
            "42000/42000 [==============================] - 1s 34us/step - loss: 0.0071 - acc: 0.0985 - val_loss: 0.0092 - val_acc: 0.0984\n"
          ],
          "name": "stdout"
        }
      ]
    },
    {
      "cell_type": "markdown",
      "metadata": {
        "id": "87neTyT0X-1f"
      },
      "source": [
        "**Evaluate the MLP performance**"
      ]
    },
    {
      "cell_type": "code",
      "metadata": {
        "id": "tOlt7lO3FSvA",
        "outputId": "ebe7ec03-b6e8-4366-a3f4-c984818ce9c0",
        "colab": {
          "base_uri": "https://localhost:8080/",
          "height": 51
        }
      },
      "source": [
        "# Evaluate\n",
        "evaluation = model.evaluate(X_test, Y_Test, verbose=1)\n",
        "print('Summary: Loss over the test dataset: %.2f, Accuracy: %.2f' % (evaluation[0], evaluation[1]))"
      ],
      "execution_count": null,
      "outputs": [
        {
          "output_type": "stream",
          "text": [
            "10000/10000 [==============================] - 0s 28us/step\n",
            "Summary: Loss over the test dataset: 0.01, Accuracy: 0.10\n"
          ],
          "name": "stdout"
        }
      ]
    },
    {
      "cell_type": "markdown",
      "metadata": {
        "id": "bEmgseziYHhS"
      },
      "source": [
        "**Plot the training and validation performances**"
      ]
    },
    {
      "cell_type": "code",
      "metadata": {
        "id": "2kdXNm_WFbME",
        "outputId": "b891cf8f-b807-4eb4-ede0-c91d4e194a19",
        "colab": {
          "base_uri": "https://localhost:8080/",
          "height": 573
        }
      },
      "source": [
        "# Training History Visualization\n",
        "import matplotlib.pyplot as plt\n",
        "\n",
        "# Plot training & validation accuracy values\n",
        "plt.plot(history.history['acc'])\n",
        "plt.plot(history.history['val_acc'])\n",
        "plt.title('Model accuracy')\n",
        "plt.ylabel('Accuracy')\n",
        "plt.xlabel('Epoch')\n",
        "plt.legend(['Train', 'Test'], loc='upper left')\n",
        "plt.show()\n",
        "\n",
        "# Plot training & validation loss values\n",
        "plt.plot(history.history['loss'])\n",
        "plt.plot(history.history['val_loss'])\n",
        "plt.title('Model loss')\n",
        "plt.ylabel('Loss')\n",
        "plt.xlabel('Epoch')\n",
        "plt.legend(['Train', 'Test'], loc='upper right')\n",
        "plt.show()"
      ],
      "execution_count": null,
      "outputs": [
        {
          "output_type": "display_data",
          "data": {
            "image/png": "[encoded data removed]",
            "text/plain": [
              "<Figure size 432x288 with 1 Axes>"
            ]
          },
          "metadata": {
            "tags": []
          }
        },
        {
          "output_type": "display_data",
          "data": {
            "image/png": "[encoded data removed]",
            "text/plain": [
              "<Figure size 432x288 with 1 Axes>"
            ]
          },
          "metadata": {
            "tags": []
          }
        }
      ]
    },
    {
      "cell_type": "code",
      "metadata": {
        "id": "54xIi0GPrGNB",
        "outputId": "22173c7a-efe4-44e1-e94a-9da41ac703e5",
        "colab": {
          "base_uri": "https://localhost:8080/",
          "height": 586
        }
      },
      "source": [
        "Nplot = 20\n",
        "plt.figure(figsize=(10,10))\n",
        "Y=model.predict(X_test) \n",
        "Y=Y*10.\n",
        "for n in range(Nplot):\n",
        "  X=X_test[n,:]\n",
        "  ax = plt.subplot(4, 5, n+1)\n",
        "  plt.imshow(X.reshape(28,28))\n",
        "  plt.axis('off')\n",
        "  plt.title('Prediction='+str(round(float(Y[n]))))\n",
        "plt.show()"
      ],
      "execution_count": null,
      "outputs": [
        {
          "output_type": "display_data",
          "data": {
            "image/png": "[encoded data removed]",
            "text/plain": [
              "<Figure size 720x720 with 20 Axes>"
            ]
          },
          "metadata": {
            "tags": []
          }
        }
      ]
    },
    {
      "cell_type": "markdown",
      "metadata": {
        "id": "4agGtlXb755a"
      },
      "source": [
        "**Exercises:**\n",
        "\n",
        "---\n",
        "\n",
        "\n",
        "**Question 1**: What happens if you increase/decrease the number of hidden layers?\n",
        "\n",
        "\n",
        "**Question 2:** What happens if you increase/decrease the number of nodes per hidden layer?\n",
        "\n",
        "**Question 3:** What happens if you increase/decrease the learning rate ?\n",
        "\n",
        "**Question 4:** What happens if you increase/decrease the number of training epochs  ?\n",
        "\n",
        "**Question 5:** What happens if you increase/decrease the training batch size ?\n",
        "\n",
        "**Question 6:** What happens if you use the ReLU activation function in the hidden layers ?"
      ]
    }
  ]
}