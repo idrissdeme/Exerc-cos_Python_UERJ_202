{
  "cells": [
    {
      "cell_type": "markdown",
      "metadata": {
        "id": "view-in-github",
        "colab_type": "text"
      },
      "source": [
        "<a href=\"https://colab.research.google.com/github/idrissdeme/Exerc-cos_Python_UERJ_202/blob/main/TCC_Espectrometria_de_netron_Sinal_neutron__MLP_SUCCESS.ipynb\" target=\"_parent\"><img src=\"https://colab.research.google.com/assets/colab-badge.svg\" alt=\"Open In Colab\"/></a>"
      ]
    },
    {
      "cell_type": "markdown",
      "metadata": {
        "id": "ftxVZMcL9zlw"
      },
      "source": [
        "** MLP LEARNING NEUTRON SIGNAL **\n",
        "\n",
        "\n"
      ]
    },
    {
      "cell_type": "code",
      "execution_count": 26,
      "metadata": {
        "id": "h1MQaRXWLVxm"
      },
      "outputs": [],
      "source": [
        "import numpy as np\n",
        "import pandas as pd\n",
        "import tensorflow as tf\n",
        "import matplotlib.pyplot as plt\n",
        "from tensorflow.keras.models import Sequential\n",
        "from tensorflow.keras.layers import Dense\n",
        "from tensorflow.keras.optimizers import SGD\n",
        "#from tensorflow.keras.datasets import mnist\n",
        "from tensorflow.keras.utils import*"
      ]
    },
    {
      "cell_type": "markdown",
      "metadata": {
        "id": "yvoxEUZsXSpp"
      },
      "source": [
        "**Define the network hyperparameters**"
      ]
    },
    {
      "cell_type": "code",
      "execution_count": 27,
      "metadata": {
        "id": "Oo7CQ7KkFSud"
      },
      "outputs": [],
      "source": [
        "# Trainign batch size \n",
        "batch_size = 1\n",
        "# Number of training epochs\n",
        "epochs = 50\n",
        "# Fraction of the training data to be used as validation\n",
        "val_split = 0.3\n",
        "# Number of classes ( multi-classification )\n",
        "nb_classes = 84\n",
        "# Learning rate\n",
        "learning_rate=0.02"
      ]
    },
    {
      "cell_type": "markdown",
      "source": [
        "Usando arquivo teste"
      ],
      "metadata": {
        "id": "m_TBP8MJiWGL"
      }
    },
    {
      "cell_type": "code",
      "source": [
        "from google.colab import drive\n",
        "drive.mount('/content/drive')"
      ],
      "metadata": {
        "id": "aKS-5q6n51qu",
        "colab": {
          "base_uri": "https://localhost:8080/"
        },
        "outputId": "289e3614-f44e-4f01-cf7e-3bb6f24ec87a"
      },
      "execution_count": 28,
      "outputs": [
        {
          "output_type": "stream",
          "name": "stdout",
          "text": [
            "Drive already mounted at /content/drive; to attempt to forcibly remount, call drive.mount(\"/content/drive\", force_remount=True).\n"
          ]
        }
      ]
    },
    {
      "cell_type": "code",
      "source": [
        "#!pip install xlrd\n",
        "df= pd.read_excel(\"/content/drive/MyDrive/Colab Notebooks/Dados_rede_MLP_Neutron.xlsx\")\n",
        "#df= pd.read_excel(\"/content/Dados_rede_MLP_Neutron.xlsx\")\n",
        "#pd.read_excel('/BASE de Teste_e_Treinamen 5.xls', engine='openpyxl')\n",
        "df= df.drop(columns=[\"Unnamed: 0\"])\n",
        "#df = df.dropna()\n",
        "df"
      ],
      "metadata": {
        "id": "nsNF1Hd3Db1w",
        "colab": {
          "base_uri": "https://localhost:8080/",
          "height": 488
        },
        "outputId": "0772cc95-7ca0-4958-dc33-590362d69da7"
      },
      "execution_count": 29,
      "outputs": [
        {
          "output_type": "execute_result",
          "data": {
            "text/plain": [
              "     Entradas  Entradas.1  Entradas.2  Entradas.3  Entradas.4  Entradas.5  \\\n",
              "0    0.543861    0.201325    0.149053    0.074173    0.021294    0.002667   \n",
              "1    0.538087    0.201298    0.152657    0.075576    0.020753    0.003106   \n",
              "2    0.525730    0.205376    0.158838    0.076627    0.021271    0.003076   \n",
              "3    0.512739    0.207309    0.165742    0.079946    0.022347    0.003031   \n",
              "4    0.493597    0.218463    0.168312    0.083218    0.023865    0.003147   \n",
              "..        ...         ...         ...         ...         ...         ...   \n",
              "281  0.000077    0.001875    0.015979    0.108308    0.260462    0.313583   \n",
              "282  0.000068    0.001338    0.012946    0.093419    0.250006    0.327649   \n",
              "283  0.000063    0.001329    0.011869    0.088642    0.248518    0.347401   \n",
              "284  0.000055    0.001247    0.011018    0.086745    0.244663    0.342767   \n",
              "285  0.000051    0.001163    0.010063    0.080476    0.234558    0.356855   \n",
              "\n",
              "     Entradas.6  Saidas  Saidas.1  Saidas.2  ...  Saidas.74  Saidas.75  \\\n",
              "0             1       1       0.0       0.0  ...        0.0        0.0   \n",
              "1             2       0       1.0       0.0  ...        0.0        0.0   \n",
              "2             3       0       0.0       1.0  ...        0.0        0.0   \n",
              "3             4       0       0.0       0.0  ...        0.0        0.0   \n",
              "4             5       0       0.0       0.0  ...        0.0        0.0   \n",
              "..          ...     ...       ...       ...  ...        ...        ...   \n",
              "281          80       0       0.0       0.0  ...        0.0        0.0   \n",
              "282          81       0       0.0       0.0  ...        0.0        0.0   \n",
              "283          82       0       0.0       0.0  ...        0.0        0.0   \n",
              "284          83       0       0.0       0.0  ...        0.0        0.0   \n",
              "285          84       0       0.0       0.0  ...        0.0        0.0   \n",
              "\n",
              "     Saidas.76  Saidas.77  Saidas.78  Saidas.79  Saidas.80  Saidas.81  \\\n",
              "0          0.0        0.0        0.0        0.0        0.0        0.0   \n",
              "1          0.0        0.0        0.0        0.0        0.0        0.0   \n",
              "2          0.0        0.0        0.0        0.0        0.0        0.0   \n",
              "3          0.0        0.0        0.0        0.0        0.0        0.0   \n",
              "4          0.0        0.0        0.0        0.0        0.0        0.0   \n",
              "..         ...        ...        ...        ...        ...        ...   \n",
              "281        0.0        0.0        0.0        1.0        0.0        0.0   \n",
              "282        0.0        0.0        0.0        0.0        1.0        0.0   \n",
              "283        0.0        0.0        0.0        0.0        0.0        1.0   \n",
              "284        0.0        0.0        0.0        0.0        0.0        0.0   \n",
              "285        0.0        0.0        0.0        0.0        0.0        0.0   \n",
              "\n",
              "     Saidas.82  Saidas.83  \n",
              "0          0.0        0.0  \n",
              "1          0.0        0.0  \n",
              "2          0.0        0.0  \n",
              "3          0.0        0.0  \n",
              "4          0.0        0.0  \n",
              "..         ...        ...  \n",
              "281        0.0        0.0  \n",
              "282        0.0        0.0  \n",
              "283        0.0        0.0  \n",
              "284        1.0        0.0  \n",
              "285        0.0        1.0  \n",
              "\n",
              "[286 rows x 91 columns]"
            ],
            "text/html": [
              "\n",
              "  <div id=\"df-1aac9f72-704f-409b-91f5-b33b6e3a4867\">\n",
              "    <div class=\"colab-df-container\">\n",
              "      <div>\n",
              "<style scoped>\n",
              "    .dataframe tbody tr th:only-of-type {\n",
              "        vertical-align: middle;\n",
              "    }\n",
              "\n",
              "    .dataframe tbody tr th {\n",
              "        vertical-align: top;\n",
              "    }\n",
              "\n",
              "    .dataframe thead th {\n",
              "        text-align: right;\n",
              "    }\n",
              "</style>\n",
              "<table border=\"1\" class=\"dataframe\">\n",
              "  <thead>\n",
              "    <tr style=\"text-align: right;\">\n",
              "      <th></th>\n",
              "      <th>Entradas</th>\n",
              "      <th>Entradas.1</th>\n",
              "      <th>Entradas.2</th>\n",
              "      <th>Entradas.3</th>\n",
              "      <th>Entradas.4</th>\n",
              "      <th>Entradas.5</th>\n",
              "      <th>Entradas.6</th>\n",
              "      <th>Saidas</th>\n",
              "      <th>Saidas.1</th>\n",
              "      <th>Saidas.2</th>\n",
              "      <th>...</th>\n",
              "      <th>Saidas.74</th>\n",
              "      <th>Saidas.75</th>\n",
              "      <th>Saidas.76</th>\n",
              "      <th>Saidas.77</th>\n",
              "      <th>Saidas.78</th>\n",
              "      <th>Saidas.79</th>\n",
              "      <th>Saidas.80</th>\n",
              "      <th>Saidas.81</th>\n",
              "      <th>Saidas.82</th>\n",
              "      <th>Saidas.83</th>\n",
              "    </tr>\n",
              "  </thead>\n",
              "  <tbody>\n",
              "    <tr>\n",
              "      <th>0</th>\n",
              "      <td>0.543861</td>\n",
              "      <td>0.201325</td>\n",
              "      <td>0.149053</td>\n",
              "      <td>0.074173</td>\n",
              "      <td>0.021294</td>\n",
              "      <td>0.002667</td>\n",
              "      <td>1</td>\n",
              "      <td>1</td>\n",
              "      <td>0.0</td>\n",
              "      <td>0.0</td>\n",
              "      <td>...</td>\n",
              "      <td>0.0</td>\n",
              "      <td>0.0</td>\n",
              "      <td>0.0</td>\n",
              "      <td>0.0</td>\n",
              "      <td>0.0</td>\n",
              "      <td>0.0</td>\n",
              "      <td>0.0</td>\n",
              "      <td>0.0</td>\n",
              "      <td>0.0</td>\n",
              "      <td>0.0</td>\n",
              "    </tr>\n",
              "    <tr>\n",
              "      <th>1</th>\n",
              "      <td>0.538087</td>\n",
              "      <td>0.201298</td>\n",
              "      <td>0.152657</td>\n",
              "      <td>0.075576</td>\n",
              "      <td>0.020753</td>\n",
              "      <td>0.003106</td>\n",
              "      <td>2</td>\n",
              "      <td>0</td>\n",
              "      <td>1.0</td>\n",
              "      <td>0.0</td>\n",
              "      <td>...</td>\n",
              "      <td>0.0</td>\n",
              "      <td>0.0</td>\n",
              "      <td>0.0</td>\n",
              "      <td>0.0</td>\n",
              "      <td>0.0</td>\n",
              "      <td>0.0</td>\n",
              "      <td>0.0</td>\n",
              "      <td>0.0</td>\n",
              "      <td>0.0</td>\n",
              "      <td>0.0</td>\n",
              "    </tr>\n",
              "    <tr>\n",
              "      <th>2</th>\n",
              "      <td>0.525730</td>\n",
              "      <td>0.205376</td>\n",
              "      <td>0.158838</td>\n",
              "      <td>0.076627</td>\n",
              "      <td>0.021271</td>\n",
              "      <td>0.003076</td>\n",
              "      <td>3</td>\n",
              "      <td>0</td>\n",
              "      <td>0.0</td>\n",
              "      <td>1.0</td>\n",
              "      <td>...</td>\n",
              "      <td>0.0</td>\n",
              "      <td>0.0</td>\n",
              "      <td>0.0</td>\n",
              "      <td>0.0</td>\n",
              "      <td>0.0</td>\n",
              "      <td>0.0</td>\n",
              "      <td>0.0</td>\n",
              "      <td>0.0</td>\n",
              "      <td>0.0</td>\n",
              "      <td>0.0</td>\n",
              "    </tr>\n",
              "    <tr>\n",
              "      <th>3</th>\n",
              "      <td>0.512739</td>\n",
              "      <td>0.207309</td>\n",
              "      <td>0.165742</td>\n",
              "      <td>0.079946</td>\n",
              "      <td>0.022347</td>\n",
              "      <td>0.003031</td>\n",
              "      <td>4</td>\n",
              "      <td>0</td>\n",
              "      <td>0.0</td>\n",
              "      <td>0.0</td>\n",
              "      <td>...</td>\n",
              "      <td>0.0</td>\n",
              "      <td>0.0</td>\n",
              "      <td>0.0</td>\n",
              "      <td>0.0</td>\n",
              "      <td>0.0</td>\n",
              "      <td>0.0</td>\n",
              "      <td>0.0</td>\n",
              "      <td>0.0</td>\n",
              "      <td>0.0</td>\n",
              "      <td>0.0</td>\n",
              "    </tr>\n",
              "    <tr>\n",
              "      <th>4</th>\n",
              "      <td>0.493597</td>\n",
              "      <td>0.218463</td>\n",
              "      <td>0.168312</td>\n",
              "      <td>0.083218</td>\n",
              "      <td>0.023865</td>\n",
              "      <td>0.003147</td>\n",
              "      <td>5</td>\n",
              "      <td>0</td>\n",
              "      <td>0.0</td>\n",
              "      <td>0.0</td>\n",
              "      <td>...</td>\n",
              "      <td>0.0</td>\n",
              "      <td>0.0</td>\n",
              "      <td>0.0</td>\n",
              "      <td>0.0</td>\n",
              "      <td>0.0</td>\n",
              "      <td>0.0</td>\n",
              "      <td>0.0</td>\n",
              "      <td>0.0</td>\n",
              "      <td>0.0</td>\n",
              "      <td>0.0</td>\n",
              "    </tr>\n",
              "    <tr>\n",
              "      <th>...</th>\n",
              "      <td>...</td>\n",
              "      <td>...</td>\n",
              "      <td>...</td>\n",
              "      <td>...</td>\n",
              "      <td>...</td>\n",
              "      <td>...</td>\n",
              "      <td>...</td>\n",
              "      <td>...</td>\n",
              "      <td>...</td>\n",
              "      <td>...</td>\n",
              "      <td>...</td>\n",
              "      <td>...</td>\n",
              "      <td>...</td>\n",
              "      <td>...</td>\n",
              "      <td>...</td>\n",
              "      <td>...</td>\n",
              "      <td>...</td>\n",
              "      <td>...</td>\n",
              "      <td>...</td>\n",
              "      <td>...</td>\n",
              "      <td>...</td>\n",
              "    </tr>\n",
              "    <tr>\n",
              "      <th>281</th>\n",
              "      <td>0.000077</td>\n",
              "      <td>0.001875</td>\n",
              "      <td>0.015979</td>\n",
              "      <td>0.108308</td>\n",
              "      <td>0.260462</td>\n",
              "      <td>0.313583</td>\n",
              "      <td>80</td>\n",
              "      <td>0</td>\n",
              "      <td>0.0</td>\n",
              "      <td>0.0</td>\n",
              "      <td>...</td>\n",
              "      <td>0.0</td>\n",
              "      <td>0.0</td>\n",
              "      <td>0.0</td>\n",
              "      <td>0.0</td>\n",
              "      <td>0.0</td>\n",
              "      <td>1.0</td>\n",
              "      <td>0.0</td>\n",
              "      <td>0.0</td>\n",
              "      <td>0.0</td>\n",
              "      <td>0.0</td>\n",
              "    </tr>\n",
              "    <tr>\n",
              "      <th>282</th>\n",
              "      <td>0.000068</td>\n",
              "      <td>0.001338</td>\n",
              "      <td>0.012946</td>\n",
              "      <td>0.093419</td>\n",
              "      <td>0.250006</td>\n",
              "      <td>0.327649</td>\n",
              "      <td>81</td>\n",
              "      <td>0</td>\n",
              "      <td>0.0</td>\n",
              "      <td>0.0</td>\n",
              "      <td>...</td>\n",
              "      <td>0.0</td>\n",
              "      <td>0.0</td>\n",
              "      <td>0.0</td>\n",
              "      <td>0.0</td>\n",
              "      <td>0.0</td>\n",
              "      <td>0.0</td>\n",
              "      <td>1.0</td>\n",
              "      <td>0.0</td>\n",
              "      <td>0.0</td>\n",
              "      <td>0.0</td>\n",
              "    </tr>\n",
              "    <tr>\n",
              "      <th>283</th>\n",
              "      <td>0.000063</td>\n",
              "      <td>0.001329</td>\n",
              "      <td>0.011869</td>\n",
              "      <td>0.088642</td>\n",
              "      <td>0.248518</td>\n",
              "      <td>0.347401</td>\n",
              "      <td>82</td>\n",
              "      <td>0</td>\n",
              "      <td>0.0</td>\n",
              "      <td>0.0</td>\n",
              "      <td>...</td>\n",
              "      <td>0.0</td>\n",
              "      <td>0.0</td>\n",
              "      <td>0.0</td>\n",
              "      <td>0.0</td>\n",
              "      <td>0.0</td>\n",
              "      <td>0.0</td>\n",
              "      <td>0.0</td>\n",
              "      <td>1.0</td>\n",
              "      <td>0.0</td>\n",
              "      <td>0.0</td>\n",
              "    </tr>\n",
              "    <tr>\n",
              "      <th>284</th>\n",
              "      <td>0.000055</td>\n",
              "      <td>0.001247</td>\n",
              "      <td>0.011018</td>\n",
              "      <td>0.086745</td>\n",
              "      <td>0.244663</td>\n",
              "      <td>0.342767</td>\n",
              "      <td>83</td>\n",
              "      <td>0</td>\n",
              "      <td>0.0</td>\n",
              "      <td>0.0</td>\n",
              "      <td>...</td>\n",
              "      <td>0.0</td>\n",
              "      <td>0.0</td>\n",
              "      <td>0.0</td>\n",
              "      <td>0.0</td>\n",
              "      <td>0.0</td>\n",
              "      <td>0.0</td>\n",
              "      <td>0.0</td>\n",
              "      <td>0.0</td>\n",
              "      <td>1.0</td>\n",
              "      <td>0.0</td>\n",
              "    </tr>\n",
              "    <tr>\n",
              "      <th>285</th>\n",
              "      <td>0.000051</td>\n",
              "      <td>0.001163</td>\n",
              "      <td>0.010063</td>\n",
              "      <td>0.080476</td>\n",
              "      <td>0.234558</td>\n",
              "      <td>0.356855</td>\n",
              "      <td>84</td>\n",
              "      <td>0</td>\n",
              "      <td>0.0</td>\n",
              "      <td>0.0</td>\n",
              "      <td>...</td>\n",
              "      <td>0.0</td>\n",
              "      <td>0.0</td>\n",
              "      <td>0.0</td>\n",
              "      <td>0.0</td>\n",
              "      <td>0.0</td>\n",
              "      <td>0.0</td>\n",
              "      <td>0.0</td>\n",
              "      <td>0.0</td>\n",
              "      <td>0.0</td>\n",
              "      <td>1.0</td>\n",
              "    </tr>\n",
              "  </tbody>\n",
              "</table>\n",
              "<p>286 rows × 91 columns</p>\n",
              "</div>\n",
              "      <button class=\"colab-df-convert\" onclick=\"convertToInteractive('df-1aac9f72-704f-409b-91f5-b33b6e3a4867')\"\n",
              "              title=\"Convert this dataframe to an interactive table.\"\n",
              "              style=\"display:none;\">\n",
              "        \n",
              "  <svg xmlns=\"http://www.w3.org/2000/svg\" height=\"24px\"viewBox=\"0 0 24 24\"\n",
              "       width=\"24px\">\n",
              "    <path d=\"M0 0h24v24H0V0z\" fill=\"none\"/>\n",
              "    <path d=\"M18.56 5.44l.94 2.06.94-2.06 2.06-.94-2.06-.94-.94-2.06-.94 2.06-2.06.94zm-11 1L8.5 8.5l.94-2.06 2.06-.94-2.06-.94L8.5 2.5l-.94 2.06-2.06.94zm10 10l.94 2.06.94-2.06 2.06-.94-2.06-.94-.94-2.06-.94 2.06-2.06.94z\"/><path d=\"M17.41 7.96l-1.37-1.37c-.4-.4-.92-.59-1.43-.59-.52 0-1.04.2-1.43.59L10.3 9.45l-7.72 7.72c-.78.78-.78 2.05 0 2.83L4 21.41c.39.39.9.59 1.41.59.51 0 1.02-.2 1.41-.59l7.78-7.78 2.81-2.81c.8-.78.8-2.07 0-2.86zM5.41 20L4 18.59l7.72-7.72 1.47 1.35L5.41 20z\"/>\n",
              "  </svg>\n",
              "      </button>\n",
              "      \n",
              "  <style>\n",
              "    .colab-df-container {\n",
              "      display:flex;\n",
              "      flex-wrap:wrap;\n",
              "      gap: 12px;\n",
              "    }\n",
              "\n",
              "    .colab-df-convert {\n",
              "      background-color: #E8F0FE;\n",
              "      border: none;\n",
              "      border-radius: 50%;\n",
              "      cursor: pointer;\n",
              "      display: none;\n",
              "      fill: #1967D2;\n",
              "      height: 32px;\n",
              "      padding: 0 0 0 0;\n",
              "      width: 32px;\n",
              "    }\n",
              "\n",
              "    .colab-df-convert:hover {\n",
              "      background-color: #E2EBFA;\n",
              "      box-shadow: 0px 1px 2px rgba(60, 64, 67, 0.3), 0px 1px 3px 1px rgba(60, 64, 67, 0.15);\n",
              "      fill: #174EA6;\n",
              "    }\n",
              "\n",
              "    [theme=dark] .colab-df-convert {\n",
              "      background-color: #3B4455;\n",
              "      fill: #D2E3FC;\n",
              "    }\n",
              "\n",
              "    [theme=dark] .colab-df-convert:hover {\n",
              "      background-color: #434B5C;\n",
              "      box-shadow: 0px 1px 3px 1px rgba(0, 0, 0, 0.15);\n",
              "      filter: drop-shadow(0px 1px 2px rgba(0, 0, 0, 0.3));\n",
              "      fill: #FFFFFF;\n",
              "    }\n",
              "  </style>\n",
              "\n",
              "      <script>\n",
              "        const buttonEl =\n",
              "          document.querySelector('#df-1aac9f72-704f-409b-91f5-b33b6e3a4867 button.colab-df-convert');\n",
              "        buttonEl.style.display =\n",
              "          google.colab.kernel.accessAllowed ? 'block' : 'none';\n",
              "\n",
              "        async function convertToInteractive(key) {\n",
              "          const element = document.querySelector('#df-1aac9f72-704f-409b-91f5-b33b6e3a4867');\n",
              "          const dataTable =\n",
              "            await google.colab.kernel.invokeFunction('convertToInteractive',\n",
              "                                                     [key], {});\n",
              "          if (!dataTable) return;\n",
              "\n",
              "          const docLinkHtml = 'Like what you see? Visit the ' +\n",
              "            '<a target=\"_blank\" href=https://colab.research.google.com/notebooks/data_table.ipynb>data table notebook</a>'\n",
              "            + ' to learn more about interactive tables.';\n",
              "          element.innerHTML = '';\n",
              "          dataTable['output_type'] = 'display_data';\n",
              "          await google.colab.output.renderOutput(dataTable, element);\n",
              "          const docLink = document.createElement('div');\n",
              "          docLink.innerHTML = docLinkHtml;\n",
              "          element.appendChild(docLink);\n",
              "        }\n",
              "      </script>\n",
              "    </div>\n",
              "  </div>\n",
              "  "
            ]
          },
          "metadata": {},
          "execution_count": 29
        }
      ]
    },
    {
      "cell_type": "code",
      "source": [
        "from sklearn.model_selection import train_test_split\n",
        "X_train, X_test, y_train, y_test = train_test_split(df.iloc[0:286, 0:7], df.iloc[0:286, 7:91], test_size=0.3, random_state=42)\n",
        "X_train = X_train.astype('float')\n",
        "X_test = X_test.astype('float32')\n",
        "#X_train = X_train.reshape(60000, 286)\n",
        "#X_test = X_test.reshape(10000, 286)\n",
        "#print(X_train)\n",
        "#print(y_train)\n",
        "#print(X_test)"
      ],
      "metadata": {
        "id": "MrHlQX_YG7i2"
      },
      "execution_count": 39,
      "outputs": []
    },
    {
      "cell_type": "code",
      "metadata": {
        "id": "vwHyt7p9FSun"
      },
      "source": [
        "# Load MNIST dataset (28x28 pixel images)\n",
        "#(X_train, y_train), (X_test, y_test) = df()\n",
        "\"\"\"X_train = X_train.values.reshape(100,14)\n",
        "X_test = X_test.values.reshape(2,301)\n",
        "X_train = X_train.astype('double')\n",
        "X_test = X_test.astype('double')\n",
        "#X_train /= 255\n",
        "X_test /= 255\n",
        "Y_Train = y_train/10.\n",
        "print(y_test)\n",
        "Y_Test = y_test/10.\n",
        "#print(Y_Test)\"\"\"\n",
        "\n",
        "\n",
        "x_train: (1,7*286)\n",
        "y_train: (1,84*286)\n",
        "#Y_Train = y_train/84.\n",
        "x_test: (1,7*286)\n",
        "y_test: (1,84*286)\n",
        "\n",
        "\n",
        "#X_train = X_train.values.reshape(X_train.shape[0], len(X_train))\n",
        "#X_test = X_test.reshape(X_test.shape[0], len(X_test))\n",
        "\n",
        "\n",
        "#Y_Test = y_test/84."
      ],
      "execution_count": 31,
      "outputs": []
    },
    {
      "cell_type": "markdown",
      "metadata": {
        "id": "bW5Ef_8PXtYs"
      },
      "source": [
        "**Define the MLP achitecture using KERAS sequential API**"
      ]
    },
    {
      "cell_type": "code",
      "execution_count": 32,
      "metadata": {
        "colab": {
          "base_uri": "https://localhost:8080/"
        },
        "id": "vnEXAUWpFSus",
        "outputId": "60a1df9d-b048-4108-8f69-d9ca151fe0e6"
      },
      "outputs": [
        {
          "output_type": "stream",
          "name": "stdout",
          "text": [
            "Model: \"sequential_2\"\n",
            "_________________________________________________________________\n",
            " Layer (type)                Output Shape              Param #   \n",
            "=================================================================\n",
            " dense_14 (Dense)            (None, 7)                 56        \n",
            "                                                                 \n",
            " dense_15 (Dense)            (None, 84)                672       \n",
            "                                                                 \n",
            " dense_16 (Dense)            (None, 84)                7140      \n",
            "                                                                 \n",
            " dense_17 (Dense)            (None, 84)                7140      \n",
            "                                                                 \n",
            " dense_18 (Dense)            (None, 84)                7140      \n",
            "                                                                 \n",
            " dense_19 (Dense)            (None, 84)                7140      \n",
            "                                                                 \n",
            " dense_20 (Dense)            (None, 84)                7140      \n",
            "                                                                 \n",
            "=================================================================\n",
            "Total params: 36,428\n",
            "Trainable params: 36,428\n",
            "Non-trainable params: 0\n",
            "_________________________________________________________________\n"
          ]
        }
      ],
      "source": [
        "# Multilayer Perceptron model\n",
        "model = Sequential()\n",
        "model.add(Dense(input_dim=7, activation=\"relu\", units=7, kernel_initializer=\"normal\"))\n",
        "model.add(Dense(activation=\"relu\", units=84, kernel_initializer=\"normal\")) # after first layer no need to specify input_dim\n",
        "model.add(Dense(activation=\"relu\", units=84, kernel_initializer=\"normal\")) # after first layer no need to specify input_dim\n",
        "model.add(Dense(activation=\"relu\", units=84, kernel_initializer=\"normal\"))\n",
        "model.add(Dense(activation=\"relu\", units=84, kernel_initializer=\"normal\"))#model.add(Dense(activation=\"relu\", units=63, kernel_initializer=\"normal\"))\n",
        "model.add(Dense(activation=\"relu\", units=84, kernel_initializer=\"normal\"))\n",
        "model.add(Dense(activation=\"relu\", units=84, kernel_initializer=\"normal\"))\n",
        "model.compile(optimizer=SGD(learning_rate=learning_rate), loss='mean_squared_error', metrics=['accuracy'])\n",
        "#model.compile(optimizer=SGD(learning_rate=learning_rate), loss=tf.keras.losses.SparseCategoricalCrossentropy(from_logits=True), metrics=['accuracy'])\n",
        "model.summary()"
      ]
    },
    {
      "cell_type": "markdown",
      "metadata": {
        "id": "R1Uju_bZX45K"
      },
      "source": [
        "**Train the MLP**"
      ]
    },
    {
      "cell_type": "code",
      "source": [
        "\"\"\"X_train\n",
        "X = np.array(X_train)\n",
        "len(X)\"\"\""
      ],
      "metadata": {
        "colab": {
          "base_uri": "https://localhost:8080/",
          "height": 35
        },
        "id": "4mWW1IYFJ32d",
        "outputId": "48b23d10-5117-49d6-a3a8-18cea771e3f3"
      },
      "execution_count": 33,
      "outputs": [
        {
          "output_type": "execute_result",
          "data": {
            "text/plain": [
              "'X_train\\nX = np.array(X_train)\\nlen(X)'"
            ],
            "application/vnd.google.colaboratory.intrinsic+json": {
              "type": "string"
            }
          },
          "metadata": {},
          "execution_count": 33
        }
      ]
    },
    {
      "cell_type": "code",
      "execution_count": 34,
      "metadata": {
        "colab": {
          "base_uri": "https://localhost:8080/"
        },
        "id": "v1ZdRrtvFSu3",
        "outputId": "f51e7bfd-f967-448c-89bb-d45d8668b3b9"
      },
      "outputs": [
        {
          "output_type": "stream",
          "name": "stdout",
          "text": [
            "Epoch 1/50\n",
            "140/140 [==============================] - 1s 2ms/step - loss: 0.0987 - accuracy: 0.0143 - val_loss: 0.0891 - val_accuracy: 0.0000e+00\n",
            "Epoch 2/50\n",
            "140/140 [==============================] - 0s 2ms/step - loss: 0.0956 - accuracy: 0.0357 - val_loss: 0.0866 - val_accuracy: 0.0000e+00\n",
            "Epoch 3/50\n",
            "140/140 [==============================] - 0s 1ms/step - loss: 0.0929 - accuracy: 0.0286 - val_loss: 0.0844 - val_accuracy: 0.0000e+00\n",
            "Epoch 4/50\n",
            "140/140 [==============================] - 0s 2ms/step - loss: 0.0904 - accuracy: 0.0286 - val_loss: 0.0825 - val_accuracy: 0.0000e+00\n",
            "Epoch 5/50\n",
            "140/140 [==============================] - 0s 1ms/step - loss: 0.0883 - accuracy: 0.0286 - val_loss: 0.0808 - val_accuracy: 0.0000e+00\n",
            "Epoch 6/50\n",
            "140/140 [==============================] - 0s 2ms/step - loss: 0.0864 - accuracy: 0.0286 - val_loss: 0.0794 - val_accuracy: 0.0000e+00\n",
            "Epoch 7/50\n",
            "140/140 [==============================] - 0s 2ms/step - loss: 0.0848 - accuracy: 0.0286 - val_loss: 0.0781 - val_accuracy: 0.0000e+00\n",
            "Epoch 8/50\n",
            "140/140 [==============================] - 0s 1ms/step - loss: 0.0834 - accuracy: 0.0286 - val_loss: 0.0771 - val_accuracy: 0.0000e+00\n",
            "Epoch 9/50\n",
            "140/140 [==============================] - 0s 2ms/step - loss: 0.0821 - accuracy: 0.0286 - val_loss: 0.0762 - val_accuracy: 0.0000e+00\n",
            "Epoch 10/50\n",
            "140/140 [==============================] - 0s 1ms/step - loss: 0.0811 - accuracy: 0.0286 - val_loss: 0.0755 - val_accuracy: 0.0000e+00\n",
            "Epoch 11/50\n",
            "140/140 [==============================] - 0s 1ms/step - loss: 0.0802 - accuracy: 0.0286 - val_loss: 0.0748 - val_accuracy: 0.0000e+00\n",
            "Epoch 12/50\n",
            "140/140 [==============================] - 0s 1ms/step - loss: 0.0794 - accuracy: 0.0286 - val_loss: 0.0743 - val_accuracy: 0.0000e+00\n",
            "Epoch 13/50\n",
            "140/140 [==============================] - 0s 2ms/step - loss: 0.0787 - accuracy: 0.0286 - val_loss: 0.0739 - val_accuracy: 0.0000e+00\n",
            "Epoch 14/50\n",
            "140/140 [==============================] - 0s 2ms/step - loss: 0.0781 - accuracy: 0.0286 - val_loss: 0.0736 - val_accuracy: 0.0000e+00\n",
            "Epoch 15/50\n",
            "140/140 [==============================] - 0s 1ms/step - loss: 0.0777 - accuracy: 0.0286 - val_loss: 0.0733 - val_accuracy: 0.0000e+00\n",
            "Epoch 16/50\n",
            "140/140 [==============================] - 0s 1ms/step - loss: 0.0773 - accuracy: 0.0286 - val_loss: 0.0731 - val_accuracy: 0.0000e+00\n",
            "Epoch 17/50\n",
            "140/140 [==============================] - 0s 1ms/step - loss: 0.0769 - accuracy: 0.0286 - val_loss: 0.0729 - val_accuracy: 0.0000e+00\n",
            "Epoch 18/50\n",
            "140/140 [==============================] - 0s 1ms/step - loss: 0.0766 - accuracy: 0.0286 - val_loss: 0.0728 - val_accuracy: 0.0000e+00\n",
            "Epoch 19/50\n",
            "140/140 [==============================] - 0s 1ms/step - loss: 0.0764 - accuracy: 0.0286 - val_loss: 0.0727 - val_accuracy: 0.0000e+00\n",
            "Epoch 20/50\n",
            "140/140 [==============================] - 0s 2ms/step - loss: 0.0762 - accuracy: 0.0286 - val_loss: 0.0727 - val_accuracy: 0.0000e+00\n",
            "Epoch 21/50\n",
            "140/140 [==============================] - 0s 1ms/step - loss: 0.0760 - accuracy: 0.0286 - val_loss: 0.0726 - val_accuracy: 0.0000e+00\n",
            "Epoch 22/50\n",
            "140/140 [==============================] - 0s 1ms/step - loss: 0.0759 - accuracy: 0.0286 - val_loss: 0.0726 - val_accuracy: 0.0000e+00\n",
            "Epoch 23/50\n",
            "140/140 [==============================] - 0s 1ms/step - loss: 0.0758 - accuracy: 0.0286 - val_loss: 0.0726 - val_accuracy: 0.0000e+00\n",
            "Epoch 24/50\n",
            "140/140 [==============================] - 0s 1ms/step - loss: 0.0757 - accuracy: 0.0286 - val_loss: 0.0726 - val_accuracy: 0.0000e+00\n",
            "Epoch 25/50\n",
            "140/140 [==============================] - 0s 1ms/step - loss: 0.0756 - accuracy: 0.0286 - val_loss: 0.0726 - val_accuracy: 0.0000e+00\n",
            "Epoch 26/50\n",
            "140/140 [==============================] - 0s 1ms/step - loss: 0.0755 - accuracy: 0.0286 - val_loss: 0.0726 - val_accuracy: 0.0000e+00\n",
            "Epoch 27/50\n",
            "140/140 [==============================] - 0s 1ms/step - loss: 0.0755 - accuracy: 0.0286 - val_loss: 0.0726 - val_accuracy: 0.0000e+00\n",
            "Epoch 28/50\n",
            "140/140 [==============================] - 0s 1ms/step - loss: 0.0755 - accuracy: 0.0286 - val_loss: 0.0726 - val_accuracy: 0.0000e+00\n",
            "Epoch 29/50\n",
            "140/140 [==============================] - 0s 2ms/step - loss: 0.0754 - accuracy: 0.0286 - val_loss: 0.0726 - val_accuracy: 0.0000e+00\n",
            "Epoch 30/50\n",
            "140/140 [==============================] - 0s 1ms/step - loss: 0.0754 - accuracy: 0.0286 - val_loss: 0.0727 - val_accuracy: 0.0000e+00\n",
            "Epoch 31/50\n",
            "140/140 [==============================] - 0s 2ms/step - loss: 0.0754 - accuracy: 0.0286 - val_loss: 0.0727 - val_accuracy: 0.0000e+00\n",
            "Epoch 32/50\n",
            "140/140 [==============================] - 0s 1ms/step - loss: 0.0754 - accuracy: 0.0286 - val_loss: 0.0727 - val_accuracy: 0.0000e+00\n",
            "Epoch 33/50\n",
            "140/140 [==============================] - 0s 1ms/step - loss: 0.0753 - accuracy: 0.0286 - val_loss: 0.0727 - val_accuracy: 0.0000e+00\n",
            "Epoch 34/50\n",
            "140/140 [==============================] - 0s 1ms/step - loss: 0.0753 - accuracy: 0.0286 - val_loss: 0.0727 - val_accuracy: 0.0000e+00\n",
            "Epoch 35/50\n",
            "140/140 [==============================] - 0s 2ms/step - loss: 0.0753 - accuracy: 0.0286 - val_loss: 0.0727 - val_accuracy: 0.0000e+00\n",
            "Epoch 36/50\n",
            "140/140 [==============================] - 0s 2ms/step - loss: 0.0753 - accuracy: 0.0286 - val_loss: 0.0728 - val_accuracy: 0.0000e+00\n",
            "Epoch 37/50\n",
            "140/140 [==============================] - 0s 1ms/step - loss: 0.0753 - accuracy: 0.0286 - val_loss: 0.0728 - val_accuracy: 0.0000e+00\n",
            "Epoch 38/50\n",
            "140/140 [==============================] - 0s 1ms/step - loss: 0.0753 - accuracy: 0.0286 - val_loss: 0.0728 - val_accuracy: 0.0000e+00\n",
            "Epoch 39/50\n",
            "140/140 [==============================] - 0s 2ms/step - loss: 0.0753 - accuracy: 0.0286 - val_loss: 0.0728 - val_accuracy: 0.0000e+00\n",
            "Epoch 40/50\n",
            "140/140 [==============================] - 0s 1ms/step - loss: 0.0753 - accuracy: 0.0286 - val_loss: 0.0728 - val_accuracy: 0.0000e+00\n",
            "Epoch 41/50\n",
            "140/140 [==============================] - 0s 2ms/step - loss: 0.0753 - accuracy: 0.0286 - val_loss: 0.0728 - val_accuracy: 0.0000e+00\n",
            "Epoch 42/50\n",
            "140/140 [==============================] - 0s 1ms/step - loss: 0.0753 - accuracy: 0.0286 - val_loss: 0.0728 - val_accuracy: 0.0000e+00\n",
            "Epoch 43/50\n",
            "140/140 [==============================] - 0s 2ms/step - loss: 0.0753 - accuracy: 0.0286 - val_loss: 0.0728 - val_accuracy: 0.0000e+00\n",
            "Epoch 44/50\n",
            "140/140 [==============================] - 0s 1ms/step - loss: 0.0753 - accuracy: 0.0286 - val_loss: 0.0728 - val_accuracy: 0.0000e+00\n",
            "Epoch 45/50\n",
            "140/140 [==============================] - 0s 1ms/step - loss: 0.0753 - accuracy: 0.0286 - val_loss: 0.0729 - val_accuracy: 0.0000e+00\n",
            "Epoch 46/50\n",
            "140/140 [==============================] - 0s 1ms/step - loss: 0.0753 - accuracy: 0.0286 - val_loss: 0.0729 - val_accuracy: 0.0000e+00\n",
            "Epoch 47/50\n",
            "140/140 [==============================] - 0s 1ms/step - loss: 0.0753 - accuracy: 0.0286 - val_loss: 0.0729 - val_accuracy: 0.0000e+00\n",
            "Epoch 48/50\n",
            "140/140 [==============================] - 0s 1ms/step - loss: 0.0753 - accuracy: 0.0286 - val_loss: 0.0729 - val_accuracy: 0.0000e+00\n",
            "Epoch 49/50\n",
            "140/140 [==============================] - 0s 2ms/step - loss: 0.0753 - accuracy: 0.0286 - val_loss: 0.0729 - val_accuracy: 0.0000e+00\n",
            "Epoch 50/50\n",
            "140/140 [==============================] - 0s 1ms/step - loss: 0.0753 - accuracy: 0.0286 - val_loss: 0.0729 - val_accuracy: 0.0000e+00\n"
          ]
        }
      ],
      "source": [
        "# Train\n",
        "#y=np.array(y_train)\n",
        "history = model.fit(X_train, y_train, validation_split=val_split, epochs=epochs, batch_size=batch_size, verbose=1)\n",
        "#history = model.fit(X_train, y_train, epochs=epochs, batch_size=batch_size, verbose=1)"
      ]
    },
    {
      "cell_type": "markdown",
      "metadata": {
        "id": "87neTyT0X-1f"
      },
      "source": [
        "**Evaluate the MLP performance**"
      ]
    },
    {
      "cell_type": "code",
      "execution_count": 35,
      "metadata": {
        "colab": {
          "base_uri": "https://localhost:8080/"
        },
        "id": "tOlt7lO3FSvA",
        "outputId": "797267fa-708d-4f68-b5aa-e70d0e6e5c31"
      },
      "outputs": [
        {
          "output_type": "stream",
          "name": "stdout",
          "text": [
            "3/3 [==============================] - 0s 3ms/step - loss: 0.0671 - accuracy: 0.0116\n",
            "Summary: Loss over the test dataset: 0.07, Accuracy: 0.01\n"
          ]
        }
      ],
      "source": [
        "# Evaluate\n",
        "evaluation = model.evaluate(X_test, y_test, verbose=1)\n",
        "print('Summary: Loss over the test dataset: %.2f, Accuracy: %.2f' % (evaluation[0], evaluation[1]))"
      ]
    },
    {
      "cell_type": "markdown",
      "metadata": {
        "id": "bEmgseziYHhS"
      },
      "source": [
        "**Plot the training and validation performances**"
      ]
    },
    {
      "cell_type": "code",
      "source": [
        "Y= model.predict(X_test)\n",
        "print(len(Y))\n",
        "print(len(Y[0]))"
      ],
      "metadata": {
        "id": "kk2Lhl06vSqV",
        "outputId": "898bf7f6-55a7-4410-cbcb-ac6b51feaa89",
        "colab": {
          "base_uri": "https://localhost:8080/"
        }
      },
      "execution_count": 36,
      "outputs": [
        {
          "output_type": "stream",
          "name": "stdout",
          "text": [
            "86\n",
            "84\n"
          ]
        }
      ]
    },
    {
      "cell_type": "code",
      "execution_count": 37,
      "metadata": {
        "colab": {
          "base_uri": "https://localhost:8080/",
          "height": 573
        },
        "id": "2kdXNm_WFbME",
        "outputId": "312eb40c-d5d4-4ccd-d794-1f3153cfd8c4"
      },
      "outputs": [
        {
          "output_type": "display_data",
          "data": {
            "text/plain": [
              "<Figure size 432x288 with 1 Axes>"
            ],
            "image/png": "[encoded data removed]"
          },
          "metadata": {
            "needs_background": "light"
          }
        },
        {
          "output_type": "display_data",
          "data": {
            "text/plain": [
              "<Figure size 432x288 with 1 Axes>"
            ],
            "image/png": "[encoded data removed]"
          },
          "metadata": {
            "needs_background": "light"
          }
        }
      ],
      "source": [
        "# Training History Visualization\n",
        "\n",
        "# Plot training & validation accuracy values\n",
        "plt.plot(history.history['accuracy'])\n",
        "plt.plot(history.history['val_accuracy'])\n",
        "plt.title('Model accuracy')\n",
        "plt.ylabel('Accuracy')\n",
        "plt.xlabel('Epoch')\n",
        "plt.legend(['Train', 'Test'], loc='upper left')\n",
        "plt.show()\n",
        "\n",
        "# Plot training & validation loss values\n",
        "plt.plot(history.history['loss'])\n",
        "plt.plot(history.history['val_loss'])\n",
        "plt.title('Model loss')\n",
        "plt.ylabel('Loss')\n",
        "plt.xlabel('Epoch')\n",
        "plt.legend(['Train', 'Test'], loc='upper right')\n",
        "plt.show()"
      ]
    }
  ],
  "metadata": {
    "colab": {
      "collapsed_sections": [],
      "name": "Cópia de Versão 1. Espectrometria de netron- Sinal-neutron_ MLP_Keras_new.ipynb",
      "provenance": [],
      "include_colab_link": true
    },
    "kernelspec": {
      "display_name": "Python 3",
      "language": "python",
      "name": "python3"
    }
  },
  "nbformat": 4,
  "nbformat_minor": 0
}