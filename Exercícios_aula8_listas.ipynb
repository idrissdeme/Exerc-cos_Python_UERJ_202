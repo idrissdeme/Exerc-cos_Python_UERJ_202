{
  "nbformat": 4,
  "nbformat_minor": 0,
  "metadata": {
    "kernelspec": {
      "display_name": "Python 3",
      "language": "python",
      "name": "python3"
    },
    "language_info": {
      "codemirror_mode": {
        "name": "ipython",
        "version": 3
      },
      "file_extension": ".py",
      "mimetype": "text/x-python",
      "name": "python",
      "nbconvert_exporter": "python",
      "pygments_lexer": "ipython3",
      "version": "3.6.4"
    },
    "colab": {
      "name": "Exercícios_aula8-listas.ipynb",
      "provenance": [],
      "collapsed_sections": [
        "CEWkC2n7J34R",
        "gCNirG2ZJ35J",
        "Yfp6Hh42J35Y",
        "iJ4DZl8dJ35g"
      ],
      "include_colab_link": true
    }
  },
  "cells": [
    {
      "cell_type": "markdown",
      "metadata": {
        "id": "view-in-github",
        "colab_type": "text"
      },
      "source": [
        "<a href=\"https://colab.research.google.com/github/idrissdeme/Exerc-cos_Python_UERJ_202/blob/main/Exerc%C3%ADcios_aula8_listas.ipynb\" target=\"_parent\"><img src=\"https://colab.research.google.com/assets/colab-badge.svg\" alt=\"Open In Colab\"/></a>"
      ]
    },
    {
      "cell_type": "markdown",
      "metadata": {
        "id": "NiQ_H4VUJ33w"
      },
      "source": [
        "# Strings\n",
        "\n",
        "Strings não são como números inteiros ```int```, de ponto flutuante ```float``` ou booleanos ```bool```. Uma string é uma sequência, ou seja, uma coleção ordenada de outros valores, ou seja um **tipo de variável composta** (como também são listas e  tuplas que veremos depois). Vamos ver como acessar os caracteres que compõem uma string e aprender alguns métodos que as strings oferecem. \n",
        "\n",
        " - Aula baseada no livro: http://openbookproject.net/thinkcs/python/english3e/index.html\n",
        "\n",
        "Uma `string` é uma sequência de caracteres. Como já vimos, é possível acessar  um caractere de cada vez com o operador de colchete.  \n",
        "- O índice é uma referência do começo da string, e a referência do primeiro caractere é `0`\n",
        "- Índices negativos contam de trás para a frente a partir do fim da string. \n",
        "- Uma `string` é imutável. "
      ]
    },
    {
      "cell_type": "code",
      "metadata": {
        "id": "fe5Nck5sLPG3",
        "colab": {
          "base_uri": "https://localhost:8080/",
          "height": 35
        },
        "outputId": "e8a38eb7-408c-490d-82f3-fb496017b13a"
      },
      "source": [
        "fruta = 'banana'\n",
        "letra = fruta[1]\n",
        "letra"
      ],
      "execution_count": null,
      "outputs": [
        {
          "output_type": "execute_result",
          "data": {
            "application/vnd.google.colaboratory.intrinsic+json": {
              "type": "string"
            },
            "text/plain": [
              "'a'"
            ]
          },
          "metadata": {},
          "execution_count": 1
        }
      ]
    },
    {
      "cell_type": "markdown",
      "metadata": {
        "id": "BEbouUfULb0-"
      },
      "source": [
        "É possível utilizar algumas funções integradas ao python com as `strings`, por exemplo, `len`."
      ]
    },
    {
      "cell_type": "code",
      "metadata": {
        "id": "7p0jJNe3MkBC"
      },
      "source": [
        "len(fruta)\n"
      ],
      "execution_count": null,
      "outputs": []
    },
    {
      "cell_type": "code",
      "metadata": {
        "id": "mhQQNAYXM9Y5",
        "colab": {
          "base_uri": "https://localhost:8080/"
        },
        "outputId": "bdfef335-0680-4f4d-82dc-66a33ffb7e82"
      },
      "source": [
        "tamanho = len(fruta)\n",
        "ultimaLetra = fruta[tamanho-1]\n",
        "print(ultimaLetra)"
      ],
      "execution_count": null,
      "outputs": [
        {
          "output_type": "stream",
          "name": "stdout",
          "text": [
            "a\n"
          ]
        }
      ]
    },
    {
      "cell_type": "code",
      "metadata": {
        "id": "2l6h4nSHaOfO"
      },
      "source": [
        "ultima_alt = fruta[-1]\n",
        "print(ultima_alt)"
      ],
      "execution_count": null,
      "outputs": []
    },
    {
      "cell_type": "markdown",
      "metadata": {
        "id": "BaoP_gw8NSNW"
      },
      "source": [
        "## Exercícios: \n",
        "   1. Percorra toda a `string` \"banana\", utilizando as iterações\n",
        "apresentadas nas aulas anteriores, e imprima na tela uma letra por linha como se fosse em uma escada. \n",
        "   1. Escreva uma função que receba uma `string` como argumento e exiba as letras de trás para a frente, uma por linha.\n"
      ]
    },
    {
      "cell_type": "markdown",
      "metadata": {
        "id": "Ijj6avSgSu2U"
      },
      "source": [
        "## Métodos e operadores de `strings`\n",
        "Os métodos são funções próprias dos tipos de variável (ou objetos), vale a pena pesquisar sobre os métodos e operadores que podem ser utilizados com as `strings`, por exemplo: \n",
        " - métodos: `upper`, `find`, `split`\n",
        " - operadores: `in` e a sua negação `not in`"
      ]
    },
    {
      "cell_type": "markdown",
      "metadata": {
        "id": "7iG9bnzMb1Ve"
      },
      "source": [
        "O método `upper` de uma `string` devolve uma nova `string` com todas as letras maiúsculas, sem modificar a instancia original.\n"
      ]
    },
    {
      "cell_type": "code",
      "metadata": {
        "id": "D4rur9A-UWQ0",
        "colab": {
          "base_uri": "https://localhost:8080/"
        },
        "outputId": "07c82d6b-1b17-4455-eac1-9c4908bc117a"
      },
      "source": [
        "nova_fruta = fruta.upper()\n",
        "print(fruta,nova_fruta)"
      ],
      "execution_count": null,
      "outputs": [
        {
          "output_type": "stream",
          "name": "stdout",
          "text": [
            "banana BANANA\n"
          ]
        }
      ]
    },
    {
      "cell_type": "markdown",
      "metadata": {
        "id": "g5Rgnx3ScCo_"
      },
      "source": [
        "O método `find` encontra a posição de um caractere específico na `string` (por default, a primeira ocorrência deste). Usando um argumento opcional é possível achar os índices das ocorrências subsequentes.\n",
        "\n"
      ]
    },
    {
      "cell_type": "code",
      "metadata": {
        "id": "2CRHCX3FUjLC",
        "colab": {
          "base_uri": "https://localhost:8080/"
        },
        "outputId": "670899f4-73a5-4365-f9ba-aab83ab6aa3c"
      },
      "source": [
        "indice = fruta.index(\"a\")\n",
        "indice"
      ],
      "execution_count": null,
      "outputs": [
        {
          "output_type": "execute_result",
          "data": {
            "text/plain": [
              "1"
            ]
          },
          "metadata": {},
          "execution_count": 4
        }
      ]
    },
    {
      "cell_type": "code",
      "metadata": {
        "id": "6BH0WLHkU04e",
        "colab": {
          "base_uri": "https://localhost:8080/"
        },
        "outputId": "786cc982-ec36-4785-97d2-077d533c755e"
      },
      "source": [
        "indice = fruta.index(\"a\",2)\n",
        "indice"
      ],
      "execution_count": null,
      "outputs": [
        {
          "output_type": "execute_result",
          "data": {
            "text/plain": [
              "3"
            ]
          },
          "metadata": {},
          "execution_count": 5
        }
      ]
    },
    {
      "cell_type": "markdown",
      "metadata": {
        "id": "f41zQFaFcToa"
      },
      "source": [
        "`in` é um operador binário booleano que recebe duas `strings` e retorna verdadeiro (`True`) se a primeira aparecer como uma `substring` da segunda\n"
      ]
    },
    {
      "cell_type": "code",
      "metadata": {
        "id": "E8qhTLPVVost",
        "colab": {
          "base_uri": "https://localhost:8080/"
        },
        "outputId": "61682648-d26e-4587-8b87-517f364af276"
      },
      "source": [
        "'a' in 'banana'"
      ],
      "execution_count": null,
      "outputs": [
        {
          "output_type": "execute_result",
          "data": {
            "text/plain": [
              "True"
            ]
          },
          "metadata": {},
          "execution_count": 6
        }
      ]
    },
    {
      "cell_type": "code",
      "metadata": {
        "id": "HeG5NZU2VxeT",
        "colab": {
          "base_uri": "https://localhost:8080/"
        },
        "outputId": "bcfd7c80-b930-428a-bca4-42c01e129d32"
      },
      "source": [
        "'nn' in 'banana'"
      ],
      "execution_count": null,
      "outputs": [
        {
          "output_type": "execute_result",
          "data": {
            "text/plain": [
              "False"
            ]
          },
          "metadata": {},
          "execution_count": 7
        }
      ]
    },
    {
      "cell_type": "code",
      "metadata": {
        "id": "bXiMcc9mWc8t",
        "colab": {
          "base_uri": "https://localhost:8080/"
        },
        "outputId": "7b91a586-bc1f-493a-ed65-3da1963d18f0"
      },
      "source": [
        "'ana' in 'banana'"
      ],
      "execution_count": null,
      "outputs": [
        {
          "output_type": "execute_result",
          "data": {
            "text/plain": [
              "True"
            ]
          },
          "metadata": {},
          "execution_count": 8
        }
      ]
    },
    {
      "cell_type": "markdown",
      "metadata": {
        "id": "EIz-9Yuqcj2r"
      },
      "source": [
        "Aplicando o que já aprenderam sobre funções, podemos implementar\n",
        "a função a seguir, que imprime todas as letras (ou caracteres) de `palavra1` que também aparecem em `palavra2`:"
      ]
    },
    {
      "cell_type": "code",
      "metadata": {
        "id": "sPrGliL3V3W6",
        "colab": {
          "base_uri": "https://localhost:8080/"
        },
        "outputId": "d33f139d-e578-4927-e302-284717ce1ca5"
      },
      "source": [
        "\n",
        "def in_both(palavra1, palavra2):\n",
        "    for letra in palavra1:\n",
        "        if letra in palavra2:\n",
        "            print(letra)\n",
        "\n",
        "in_both(\"aulas\", \"remotas\")"
      ],
      "execution_count": null,
      "outputs": [
        {
          "output_type": "stream",
          "name": "stdout",
          "text": [
            "a\n",
            "a\n",
            "s\n"
          ]
        }
      ]
    },
    {
      "cell_type": "markdown",
      "metadata": {
        "id": "AtxgfQT9KY8y"
      },
      "source": [
        "# Listas \n",
        "\n",
        "Uma lista (`list`) é uma coleção ordenada de valores. Os valores que compõem uma lista são chamados de seus **elementos** ou seus **itens** . Nós usaremos o termo elemento ou item para significar a mesma coisa. ***A lista mantém a ordem de seus elementos***, portanto podem ser identificadas como **sequências**, como também são sequências as `strings` (cadeias de carateres) e as tuplas (`tuple`). \n",
        "\n",
        "\n",
        "## Valores de lista\n",
        "Existem várias maneiras de criar uma nova lista; o mais simples é incluir os elementos entre colchetes:\n"
      ]
    },
    {
      "cell_type": "code",
      "metadata": {
        "id": "sgtadaMKJ33y"
      },
      "source": [
        "ps  =  [ 10 ,  20 ,  30 ,  40 ] \n",
        "qs  =  [ \"spam\" ,  \"bungee\" ,  \"cantar\" ]\n",
        "print(ps, type(ps))\n",
        "print(qs, type(qs))"
      ],
      "execution_count": null,
      "outputs": []
    },
    {
      "cell_type": "markdown",
      "metadata": {
        "id": "EjIqwfYwJ34A"
      },
      "source": [
        "O primeiro exemplo é uma lista de quatro números inteiros. O segundo é uma lista de três `strings`. Os elementos de uma lista não precisam ser do mesmo tipo. A lista a seguir contém uma `string`, um `float`, um inteiro e (incrivelmente) outra lista:"
      ]
    },
    {
      "cell_type": "code",
      "metadata": {
        "id": "g17yeeHiJ34D"
      },
      "source": [
        "zs  =  [ \"olá\" ,  2.0 ,  5 ,  [ 10 ,  20 ]]"
      ],
      "execution_count": null,
      "outputs": []
    },
    {
      "cell_type": "markdown",
      "metadata": {
        "id": "rHOG3ji-J34K"
      },
      "source": [
        "- Uma lista dentro de outra lista é dita ***aninhada*** .\n",
        "- Finalmente, uma lista sem elementos é chamada de lista vazia e é denotada \\[ \\] .\n",
        "- Já vimos que podemos atribuir valores de lista a variáveis ou passar ***listas como parâmetros*** para funções."
      ]
    },
    {
      "cell_type": "code",
      "metadata": {
        "id": "nR-63WGFJ34M",
        "colab": {
          "base_uri": "https://localhost:8080/"
        },
        "outputId": "647c48c6-8d7e-4eee-bbb9-06c590f18be4"
      },
      "source": [
        "palavras  =  [ \"maça\" ,  \"queijo\" ,  \"cachorro\" ] \n",
        "numeros  =  [ 17 ,  123 ] \n",
        "lista_vazia  =  [] \n",
        "print ( palavras ,  numeros ,  lista_vazia )"
      ],
      "execution_count": null,
      "outputs": [
        {
          "output_type": "stream",
          "name": "stdout",
          "text": [
            "['maça', 'queijo', 'cachorro'] [17, 123] []\n"
          ]
        }
      ]
    },
    {
      "cell_type": "markdown",
      "metadata": {
        "id": "CEWkC2n7J34R"
      },
      "source": [
        "## Acessando elementos \n",
        "A sintaxe para acessar os elementos de uma lista é o operador índice (colchetes): `[ ]` (não confundir com uma lista vazia). A expressão dentro dos colchetes especifica o índice. Lembre-se que os índices no Python começam em 0:"
      ]
    },
    {
      "cell_type": "code",
      "metadata": {
        "id": "WMzE-8IIJ34T",
        "colab": {
          "base_uri": "https://localhost:8080/"
        },
        "outputId": "d308e520-1a2a-4c08-f6fc-8a8fa5089509"
      },
      "source": [
        "numeros[0]"
      ],
      "execution_count": null,
      "outputs": [
        {
          "output_type": "execute_result",
          "data": {
            "text/plain": [
              "17"
            ]
          },
          "metadata": {},
          "execution_count": 13
        }
      ]
    },
    {
      "cell_type": "code",
      "metadata": {
        "id": "feodhl5uJ34Z",
        "colab": {
          "base_uri": "https://localhost:8080/",
          "height": 35
        },
        "outputId": "e7c9caa9-010f-4f0d-8b62-b89cd32d14b9"
      },
      "source": [
        "palavras[1]"
      ],
      "execution_count": null,
      "outputs": [
        {
          "output_type": "execute_result",
          "data": {
            "application/vnd.google.colaboratory.intrinsic+json": {
              "type": "string"
            },
            "text/plain": [
              "'queijo'"
            ]
          },
          "metadata": {},
          "execution_count": 14
        }
      ]
    },
    {
      "cell_type": "markdown",
      "metadata": {
        "id": "JzRGayFKJ34s"
      },
      "source": [
        "Qualquer expressão que avalie para um inteiro pode ser usada como um índice:"
      ]
    },
    {
      "cell_type": "code",
      "metadata": {
        "id": "8z3Y5YJ1J34t",
        "colab": {
          "base_uri": "https://localhost:8080/"
        },
        "outputId": "c197ef0e-5019-4bc6-a342-da8e9882effe"
      },
      "source": [
        "numeros[ 9 - 8 ]"
      ],
      "execution_count": null,
      "outputs": [
        {
          "output_type": "execute_result",
          "data": {
            "text/plain": [
              "123"
            ]
          },
          "metadata": {},
          "execution_count": 15
        }
      ]
    },
    {
      "cell_type": "code",
      "metadata": {
        "id": "JsKKbKEcJ34z"
      },
      "source": [
        "numeros[ 1.0 ] "
      ],
      "execution_count": null,
      "outputs": []
    },
    {
      "cell_type": "markdown",
      "metadata": {
        "id": "tDAZ2i0ZJ342"
      },
      "source": [
        "Ao tentar acessar o elemento `1.0` temos um erro pois os índices devem ser números de tipo inteiro, não de ponto flutuante. Se tentássemos acessar ou atribuir um elemento que não existe também teremos um erro de execução:"
      ]
    },
    {
      "cell_type": "code",
      "metadata": {
        "id": "16G3GtIcJ343"
      },
      "source": [
        "numeros[2]"
      ],
      "execution_count": null,
      "outputs": []
    },
    {
      "cell_type": "markdown",
      "metadata": {
        "id": "Ec1RflQiJ348"
      },
      "source": [
        "É comum usar uma variável de loop como um índice de lista.\n"
      ]
    },
    {
      "cell_type": "code",
      "metadata": {
        "id": "tcQgc-SrJ349",
        "colab": {
          "base_uri": "https://localhost:8080/"
        },
        "outputId": "79732a02-15bb-4fe8-87c5-42eb0931c1ed"
      },
      "source": [
        "horta  =  [ \"manjericao\" ,  \"hortela\" ,  \"cebolinha\" ,  \"salsa\" ] \n",
        "\n",
        "for  i  in  [ 0 ,  1 ,  2 ,  3 ]: \n",
        "    print ( horta [ i ])"
      ],
      "execution_count": null,
      "outputs": [
        {
          "output_type": "stream",
          "name": "stdout",
          "text": [
            "manjericao\n",
            "hortela\n",
            "cebolinha\n",
            "salsa\n"
          ]
        }
      ]
    },
    {
      "cell_type": "markdown",
      "metadata": {
        "id": "SiDiCnxrJ35D"
      },
      "source": [
        "Mas o exemplo acima **não precisa** usar o índice `i` para coisa nenhuma além de obter os itens da lista, então esta versão onde o própio loop `for` obtem os elementos de (percorre) a lista é mais direta :"
      ]
    },
    {
      "cell_type": "code",
      "metadata": {
        "id": "3CVWgAiYJ35D",
        "colab": {
          "base_uri": "https://localhost:8080/"
        },
        "outputId": "e66440d7-c271-4b05-f0fb-4bbde0c2bd64"
      },
      "source": [
        "for i in horta  : \n",
        "    print ( i )"
      ],
      "execution_count": null,
      "outputs": [
        {
          "output_type": "stream",
          "name": "stdout",
          "text": [
            "manjericao\n",
            "hortela\n",
            "cebolinha\n",
            "salsa\n"
          ]
        }
      ]
    },
    {
      "cell_type": "markdown",
      "metadata": {
        "id": "gCNirG2ZJ35J"
      },
      "source": [
        "## Comprimento de uma lista\n",
        "A utilização dos índices pode ser útil se o objetivo for **atualizar** o valor do elemento. Nesse caso também é possível usar a função `len` sobre a lista para conhecer seu comprimento. P. ex.:"
      ]
    },
    {
      "cell_type": "code",
      "metadata": {
        "id": "WY6xVqSiJ35K",
        "colab": {
          "base_uri": "https://localhost:8080/"
        },
        "outputId": "ada12040-3ffb-41a4-a353-569025cb233f"
      },
      "source": [
        "n = len(horta)\n",
        "for i in range(n):\n",
        "    horta[i] = horta[i].upper()\n",
        "    print(horta[i])"
      ],
      "execution_count": null,
      "outputs": [
        {
          "output_type": "stream",
          "name": "stdout",
          "text": [
            "MANJERICAO\n",
            "HORTELA\n",
            "CEBOLINHA\n",
            "SALSA\n"
          ]
        }
      ]
    },
    {
      "cell_type": "markdown",
      "metadata": {
        "id": "qVHfGdUZJ35P"
      },
      "source": [
        "_(A função `upper` é um ***método*** das strings que muda as letras minúsculas a maiúsculas)_\n",
        "\n",
        "O último valor do índice `i` do loop acima é `n-1`.  "
      ]
    },
    {
      "cell_type": "markdown",
      "metadata": {
        "id": "8sU6VM7je0oK"
      },
      "source": [
        "Uma lista pode conter outra lista como elemento, porém esta lista **aninhada** conta como um só valor."
      ]
    },
    {
      "cell_type": "code",
      "metadata": {
        "id": "aE6TBIFKJ35Q",
        "colab": {
          "base_uri": "https://localhost:8080/"
        },
        "outputId": "408a694b-5178-48e8-bde2-b4fc90ce0d83"
      },
      "source": [
        "listaCarros = [\"marcas de carro\", 1, [\"Ford\", \"Toyota\", \"BMW\"], [1, 2, 3]]\n",
        "len(listaCarros)"
      ],
      "execution_count": null,
      "outputs": [
        {
          "output_type": "execute_result",
          "data": {
            "text/plain": [
              "4"
            ]
          },
          "metadata": {},
          "execution_count": 22
        }
      ]
    },
    {
      "cell_type": "code",
      "metadata": {
        "id": "gmbiltZqJ35U",
        "colab": {
          "base_uri": "https://localhost:8080/"
        },
        "outputId": "14d7f714-247c-4f16-c67e-dae876668aeb"
      },
      "source": [
        "print(listaCarros[2],len(listaCarros[2]))"
      ],
      "execution_count": null,
      "outputs": [
        {
          "output_type": "stream",
          "name": "stdout",
          "text": [
            "['Ford', 'Toyota', 'BMW'] 3\n"
          ]
        }
      ]
    },
    {
      "cell_type": "code",
      "metadata": {
        "id": "GGhXb41Ce5rQ",
        "colab": {
          "base_uri": "https://localhost:8080/"
        },
        "outputId": "1dc90ff7-fc86-4e46-cd34-dc9d93ae7409"
      },
      "source": [
        "print(listaCarros[3],len(listaCarros[3]))"
      ],
      "execution_count": null,
      "outputs": [
        {
          "output_type": "stream",
          "name": "stdout",
          "text": [
            "[1, 2, 3] 3\n"
          ]
        }
      ]
    },
    {
      "cell_type": "markdown",
      "metadata": {
        "id": "Yfp6Hh42J35Y"
      },
      "source": [
        "## As listas são _mutáveis_\n",
        "\n",
        "Como foi visto acima, os valores dos elementos de uma lista podem ser mudados, e/ou mais elementos adicionados. Isto quer dizer que as listas são _mutáveis_. É o que as distingue das tuplas.  Examinemos os exemplos:"
      ]
    },
    {
      "cell_type": "code",
      "metadata": {
        "id": "OJEtcmC2J35Z",
        "colab": {
          "base_uri": "https://localhost:8080/"
        },
        "outputId": "6679260b-b247-4a47-a691-541d7cb6270e"
      },
      "source": [
        "mylist = [1,2,3,\"maria\"]\n",
        "print(mylist[3].capitalize())\n",
        "print(mylist[3])"
      ],
      "execution_count": null,
      "outputs": [
        {
          "output_type": "stream",
          "name": "stdout",
          "text": [
            "Maria\n",
            "maria\n"
          ]
        }
      ]
    },
    {
      "cell_type": "markdown",
      "metadata": {
        "id": "xJVE2Vx1J35c"
      },
      "source": [
        "Aqui ao chamar a função `capitalize()` (outro  método dos strings) esta retorna o string com a primeira letra em maiúscula, mas o quarto elemento da lista (que tem índice 3) não muda.  Porém podemos __atualizar__ o valor desse elemento, ou de outros (como o terceiro, de índice 2)."
      ]
    },
    {
      "cell_type": "code",
      "metadata": {
        "id": "gEk5VrlkJ35c",
        "colab": {
          "base_uri": "https://localhost:8080/"
        },
        "outputId": "296a9bce-4e39-414d-a514-1f1ab4072e39"
      },
      "source": [
        "mylist[3]=mylist[3].capitalize()\n",
        "print(mylist)\n",
        "mylist[2]=\"trois\"\n",
        "print(mylist)"
      ],
      "execution_count": null,
      "outputs": [
        {
          "output_type": "stream",
          "name": "stdout",
          "text": [
            "[1, 2, 3, 'Maria']\n",
            "[1, 2, 'trois', 'Maria']\n"
          ]
        }
      ]
    },
    {
      "cell_type": "markdown",
      "metadata": {
        "id": "iJ4DZl8dJ35g"
      },
      "source": [
        "## _Fatias_ de listas\n",
        "\n",
        "Podemos aplicar operações de fatia (_slices_) para seleçionar sublistas"
      ]
    },
    {
      "cell_type": "code",
      "metadata": {
        "id": "0pADNmv9J35g",
        "colab": {
          "base_uri": "https://localhost:8080/"
        },
        "outputId": "a49a0e40-4364-455e-fa5c-8ff2aafd070d"
      },
      "source": [
        "print(mylist)\n",
        "mylist[1:3]"
      ],
      "execution_count": null,
      "outputs": [
        {
          "output_type": "stream",
          "name": "stdout",
          "text": [
            "[1, 2, 'trois', 'Maria']\n"
          ]
        },
        {
          "output_type": "execute_result",
          "data": {
            "text/plain": [
              "[2, 'trois']"
            ]
          },
          "metadata": {},
          "execution_count": 27
        }
      ]
    },
    {
      "cell_type": "markdown",
      "metadata": {
        "id": "p2f8NdzNJ35k"
      },
      "source": [
        "O operador seleciona a sublista incluindo o primeiro índice e excluindo o último (no caso acima, os índices 1 e 2). Ao deixar um lado do operador em branco, selecionamos até o fim (ou desde o começo) da lista:"
      ]
    },
    {
      "cell_type": "code",
      "metadata": {
        "id": "IWdOdlghJ35l",
        "colab": {
          "base_uri": "https://localhost:8080/"
        },
        "outputId": "54f3730e-1714-435c-d996-9207801ad1db"
      },
      "source": [
        "mylist[2:]"
      ],
      "execution_count": null,
      "outputs": [
        {
          "output_type": "execute_result",
          "data": {
            "text/plain": [
              "['trois', 'Maria']"
            ]
          },
          "metadata": {},
          "execution_count": 28
        }
      ]
    },
    {
      "cell_type": "code",
      "metadata": {
        "id": "eiH-0SqdJ35p",
        "colab": {
          "base_uri": "https://localhost:8080/"
        },
        "outputId": "db4d3c4d-5212-466c-f7a0-be200fbbb0d1"
      },
      "source": [
        "mylist[:2]"
      ],
      "execution_count": null,
      "outputs": [
        {
          "output_type": "execute_result",
          "data": {
            "text/plain": [
              "[1, 2]"
            ]
          },
          "metadata": {},
          "execution_count": 29
        }
      ]
    },
    {
      "cell_type": "markdown",
      "metadata": {
        "id": "id5P0OxEJ35t"
      },
      "source": [
        "Com o operador de fatia, podemos atualizar toda uma sub-lista de uma só vez:"
      ]
    },
    {
      "cell_type": "code",
      "metadata": {
        "id": "GnyEmR05J35u",
        "colab": {
          "base_uri": "https://localhost:8080/"
        },
        "outputId": "a0aec55b-fa85-4914-e168-24e88e6dbc9b"
      },
      "source": [
        "a_list = [ \"a\" , \"b\" , \"c\" , \"d\" , \"e\" , \"f\" ]\n",
        "a_list [ 1 : 3 ] = [ \"x\" , \"y\" ]\n",
        "a_list"
      ],
      "execution_count": null,
      "outputs": [
        {
          "output_type": "execute_result",
          "data": {
            "text/plain": [
              "['a', 'x', 'y', 'd', 'e', 'f']"
            ]
          },
          "metadata": {},
          "execution_count": 30
        }
      ]
    },
    {
      "cell_type": "markdown",
      "metadata": {
        "id": "ZqR73_vYJ35x"
      },
      "source": [
        "Também podemos remover elementos de uma lista atribuindo uma lista vazia a eles:"
      ]
    },
    {
      "cell_type": "code",
      "metadata": {
        "id": "Gf_v4uk-J35y"
      },
      "source": [
        "a_list[1:3]=[]\n",
        "a_list"
      ],
      "execution_count": null,
      "outputs": []
    },
    {
      "cell_type": "markdown",
      "metadata": {
        "id": "UUnEgeELJ351"
      },
      "source": [
        "Porém tem uma alternativa mais legível e menos propensa a erros, utilizando o comando `del`:"
      ]
    },
    {
      "cell_type": "code",
      "metadata": {
        "id": "kWu_Pa5uJ351",
        "colab": {
          "base_uri": "https://localhost:8080/"
        },
        "outputId": "694e99bf-463b-405a-a042-3f25f53e268b"
      },
      "source": [
        "a = [\"um\", \"dois\", \"três\"]\n",
        "del a[1]\n",
        "a"
      ],
      "execution_count": null,
      "outputs": [
        {
          "output_type": "execute_result",
          "data": {
            "text/plain": [
              "['um', 'três']"
            ]
          },
          "metadata": {},
          "execution_count": 31
        }
      ]
    },
    {
      "cell_type": "markdown",
      "metadata": {
        "id": "fvbNIfdNJ359"
      },
      "source": [
        "Este comando também pode ser utlizado com fatias:"
      ]
    },
    {
      "cell_type": "code",
      "metadata": {
        "id": "cgqdE6wVJ35-",
        "colab": {
          "base_uri": "https://localhost:8080/"
        },
        "outputId": "bb1a13e7-21a3-43d0-c6dc-59f9375f6957"
      },
      "source": [
        "b=[\"un\",\"deux\",\"trois\",\"quatre\",\"cinq\"]\n",
        "del b[2:4]\n",
        "b"
      ],
      "execution_count": null,
      "outputs": [
        {
          "output_type": "execute_result",
          "data": {
            "text/plain": [
              "['un', 'deux', 'cinq']"
            ]
          },
          "metadata": {},
          "execution_count": 33
        }
      ]
    },
    {
      "cell_type": "markdown",
      "metadata": {
        "id": "rPleF8RsJ36C"
      },
      "source": [
        "Podemos fatiar em passos:"
      ]
    },
    {
      "cell_type": "code",
      "metadata": {
        "id": "Xstl1kWMJ36D",
        "colab": {
          "base_uri": "https://localhost:8080/"
        },
        "outputId": "dd087ee4-117e-42bf-8028-bdd960a41c8f"
      },
      "source": [
        "print(a_list)\n",
        "a_list[1:4:2]      # pegar uma fatia de índices 1 a 4 com passo de 2 elementos."
      ],
      "execution_count": null,
      "outputs": [
        {
          "output_type": "stream",
          "name": "stdout",
          "text": [
            "['a', 'x', 'y', 'd', 'e', 'f']\n"
          ]
        },
        {
          "output_type": "execute_result",
          "data": {
            "text/plain": [
              "['x', 'd']"
            ]
          },
          "metadata": {},
          "execution_count": 41
        }
      ]
    },
    {
      "cell_type": "markdown",
      "metadata": {
        "id": "mF3TGXnpJ36I"
      },
      "source": [
        "Em resumo:"
      ]
    },
    {
      "cell_type": "code",
      "metadata": {
        "id": "Gzsm_dThJ36J",
        "colab": {
          "base_uri": "https://localhost:8080/"
        },
        "outputId": "d977a3cf-4e3d-405c-9948-4e9dc24a1483"
      },
      "source": [
        "start=2\n",
        "stop=3\n",
        "print(a_list[start:stop])  # items start through stop-1\n",
        "print(a_list[start:])     # items start through the rest of the array\n",
        "print(a_list[:stop])       # items from the beginning through stop-1\n",
        "print(a_list[:])          # a copy of the whole array\n",
        "print(a_list[-1])   # last item in the array\n",
        "print(a_list[-2:])  # last two items in the array\n",
        "print(a_list[:-2])   # everything except the last two items"
      ],
      "execution_count": null,
      "outputs": [
        {
          "output_type": "stream",
          "name": "stdout",
          "text": [
            "['y']\n",
            "['y', 'd', 'e', 'f']\n",
            "['a', 'x', 'y']\n",
            "['a', 'x', 'y', 'd', 'e', 'f']\n",
            "f\n",
            "['e', 'f']\n",
            "['a', 'x', 'y', 'd']\n"
          ]
        }
      ]
    },
    {
      "cell_type": "markdown",
      "metadata": {
        "id": "JSCZGPTgJ36M"
      },
      "source": [
        "De modo similar, o \"passo\" pode ser um número negativo:\n"
      ]
    },
    {
      "cell_type": "code",
      "metadata": {
        "id": "0UOABZDSJ36M",
        "colab": {
          "base_uri": "https://localhost:8080/"
        },
        "outputId": "5564ee79-330b-4060-f1ea-a2b9b81556f6"
      },
      "source": [
        "print(a_list[::-1])    # all items in the array, reversed\n",
        "print(a_list[1::-1])   # the first two items, reversed\n",
        "print(a_list[:-3:-1])  # the last two items, reversed\n",
        "print(a_list[-3::-1])  # everything except the last two items, reversed"
      ],
      "execution_count": null,
      "outputs": [
        {
          "output_type": "stream",
          "name": "stdout",
          "text": [
            "['f', 'e', 'd', 'y', 'x', 'a']\n",
            "['x', 'a']\n",
            "['f', 'e']\n",
            "['d', 'y', 'x', 'a']\n"
          ]
        }
      ]
    },
    {
      "cell_type": "markdown",
      "metadata": {
        "id": "yo3q2X7rJ36Q"
      },
      "source": [
        "Método `slice()`:"
      ]
    },
    {
      "cell_type": "code",
      "metadata": {
        "id": "jipg_R5SJ36R",
        "colab": {
          "base_uri": "https://localhost:8080/"
        },
        "outputId": "b99b3298-4e7a-48b4-edb2-41092539d376"
      },
      "source": [
        "print(a_list[1:4:2])\n",
        "print(a_list[slice(1, 4, 2)])"
      ],
      "execution_count": null,
      "outputs": [
        {
          "output_type": "stream",
          "name": "stdout",
          "text": [
            "['x', 'd']\n",
            "['x', 'd']\n"
          ]
        }
      ]
    },
    {
      "cell_type": "markdown",
      "metadata": {
        "id": "Ftpl-Fy9bOm3"
      },
      "source": [
        "Obs.: O fatiamento também funciona com `strings`."
      ]
    },
    {
      "cell_type": "markdown",
      "metadata": {
        "id": "CKBfUaLoJ36U"
      },
      "source": [
        "## Métodos de lista\n",
        "\n",
        "O operador de ponto pode ser usado para acessar métodos internos de objetos de tipo `list`. Um método muito útil para adicionar algo ao final de uma lista existente é o `append`:"
      ]
    },
    {
      "cell_type": "code",
      "metadata": {
        "id": "mSEk8r7CJ36V",
        "colab": {
          "base_uri": "https://localhost:8080/"
        },
        "outputId": "58a0c08e-b004-4ce4-febe-a3b1c9f12d04"
      },
      "source": [
        "milista=[]\n",
        "\n",
        "milista.append(10)\n",
        "milista.append(25)\n",
        "milista.append(5)\n",
        "milista.append(35)\n",
        "milista.append(30)\n",
        "\n",
        "milista"
      ],
      "execution_count": null,
      "outputs": [
        {
          "output_type": "execute_result",
          "data": {
            "text/plain": [
              "[10, 25, 5, 35, 30]"
            ]
          },
          "metadata": {},
          "execution_count": 37
        }
      ]
    },
    {
      "cell_type": "markdown",
      "metadata": {
        "id": "BJpFrBQuJ36Y"
      },
      "source": [
        "Este método de lista adiciona o argumento passado para o __final__ da lista. Nós vamos usá-lo frequentemente para  criar novas listas. \n",
        "\n",
        "Outro método bastante utilizado é `extend`, ele toma uma lista como argumento e adiciona todos os elementos:"
      ]
    },
    {
      "cell_type": "code",
      "metadata": {
        "id": "TyJp1D0lbyLf",
        "colab": {
          "base_uri": "https://localhost:8080/"
        },
        "outputId": "c0b9fbf6-fbfb-4cf8-eee5-c4ed170e6220"
      },
      "source": [
        "lista1 = ['a', 'b', 'c']\n",
        "lista2 = ['d', 'e', 'f']\n",
        "lista1.extend(lista2)\n",
        "lista1"
      ],
      "execution_count": null,
      "outputs": [
        {
          "output_type": "execute_result",
          "data": {
            "text/plain": [
              "['a', 'b', 'c', 'd', 'e', 'f']"
            ]
          },
          "metadata": {},
          "execution_count": 38
        }
      ]
    },
    {
      "cell_type": "markdown",
      "metadata": {
        "id": "MlDR-8z1c2vj"
      },
      "source": [
        "Também é possível excluir elementos de uma lista de diferentes formas, dependendo do objetivo da operação."
      ]
    },
    {
      "cell_type": "markdown",
      "metadata": {
        "id": "G3sjd7pBg-9B"
      },
      "source": [
        "Para utilizar o elemento excluído, utilize o método `pop`, que retira o elemento da lista e retorna ele como valor.\n"
      ]
    },
    {
      "cell_type": "code",
      "metadata": {
        "id": "QGi2ggWKc2Et",
        "colab": {
          "base_uri": "https://localhost:8080/"
        },
        "outputId": "5793506d-7ed0-49b1-a272-a035a9ba425a"
      },
      "source": [
        "lista = ['a', 'b', 'c', 'd', 'e', 'f']\n",
        "ele = lista.pop(2)\n",
        "print(lista)\n",
        "print(ele)"
      ],
      "execution_count": null,
      "outputs": [
        {
          "output_type": "stream",
          "name": "stdout",
          "text": [
            "['a', 'b', 'd', 'e', 'f']\n",
            "c\n"
          ]
        }
      ]
    },
    {
      "cell_type": "markdown",
      "metadata": {
        "id": "EabBpTfwhLp4"
      },
      "source": [
        "Caso não queira utilizar o elemento excluído, utilize a instrução `del`\n"
      ]
    },
    {
      "cell_type": "code",
      "metadata": {
        "id": "Z_xFNBX1dxET",
        "colab": {
          "base_uri": "https://localhost:8080/"
        },
        "outputId": "7002ad97-3fad-4176-a42c-90bd5fd6a9d7"
      },
      "source": [
        "lista = ['a', 'b', 'c', 'd', 'e', 'f']\n",
        "del lista[2]\n",
        "print(lista)"
      ],
      "execution_count": null,
      "outputs": [
        {
          "output_type": "stream",
          "name": "stdout",
          "text": [
            "['a', 'b', 'd', 'e', 'f']\n"
          ]
        }
      ]
    },
    {
      "cell_type": "markdown",
      "metadata": {
        "id": "Esca6ehlhTLB"
      },
      "source": [
        "Caso saiba o elemento que quer excluir, mas não o seu índice, utilize o método `remove`\n"
      ]
    },
    {
      "cell_type": "code",
      "metadata": {
        "id": "czrloIUCeV2j"
      },
      "source": [
        "lista = ['a', 'b', 'c', 'd', 'e', 'f']\n",
        "lista.remove('d')\n",
        "print(lista)"
      ],
      "execution_count": null,
      "outputs": []
    },
    {
      "cell_type": "markdown",
      "metadata": {
        "id": "QuAg2OjIJ36Y"
      },
      "source": [
        "## Exercícios\n",
        "\n",
        "   1. Resolução numérica de equações diferenciais. Imagine que tem um/a maratonista treinando, que num trecho de $5 \\mathrm{km}$ tem velocidade quase constante de $12 \\mathrm{km/h}$. Produza uma lista com a  distância percorrida em intervalos de 1 minuto. \n",
        "\n",
        "   1. O/A mesmo/a atleta no seguinte trecho acelera nos seguintes $200$ metros até chegar numa velocidade de $15 \\mathrm{km/h}$, e mantém esta velocidade por $1,8 \\mathrm{km}$. Queremos obter uma tabela ou gráfico da distância percorrida en função do tempo, e calcular e o tempo total para chegar em $7 \\mathrm{km}$, faça isto utilizando listas. \n",
        "\n",
        "   1. Considere um péndulo simples num plano. O comprimento da linha é $1$ metro, a massa é $0,2 \\mathrm{kg}$ e a aceleração de gravidade $9,8 \\mathrm{m}/\\mathrm{s}^2$. Faça um gráfico ou crie uma tabela para a posição da massa em coordenadas cartesianas em função do tempo, utilizando listas.\n",
        "\n",
        "   1. (opcional) Pesquise sobre o pacote `numpy` e os objetos desse pacote chamados `array`, tente utilizálos ao invés de listas para resolver os exercícios.\n",
        "\n",
        "Dica: podem usar o pacote `matplotlib.pyplot` para fazer um gráfico:"
      ]
    },
    {
      "cell_type": "code",
      "metadata": {
        "id": "XEkSrUBqJ36Z",
        "colab": {
          "base_uri": "https://localhost:8080/",
          "height": 296
        },
        "outputId": "d41b1587-81a7-487b-c35b-1a6649b01f5d"
      },
      "source": [
        "import matplotlib.pyplot as plt\n",
        "\n",
        "t=[0,1,2,3,4,5,6,7,8,9,10]\n",
        "x=[0,4.2,8,10,23,30,35,41,44,50,55]\n",
        "\n",
        "plt.plot(t,x)\n",
        "plt.xlabel(\"tempo s\")\n",
        "plt.ylabel(\"distância m\")"
      ],
      "execution_count": null,
      "outputs": [
        {
          "output_type": "execute_result",
          "data": {
            "text/plain": [
              "Text(0, 0.5, 'distância m')"
            ]
          },
          "metadata": {},
          "execution_count": 42
        },
        {
          "output_type": "display_data",
          "data": {
            "image/png": "[encoded data removed]",
            "text/plain": [
              "<Figure size 432x288 with 1 Axes>"
            ]
          },
          "metadata": {
            "needs_background": "light"
          }
        }
      ]
    },
    {
      "cell_type": "markdown",
      "metadata": {
        "id": "btVHH_4Iybgr"
      },
      "source": [
        "1. Resolução numérica de equações diferenciais. Imagine que tem um/a maratonista treinando, que num trecho de  5km  tem velocidade quase constante de  12km/h . Produza uma lista com a distância percorrida em intervalos de 1 minuto.\n"
      ]
    },
    {
      "cell_type": "code",
      "metadata": {
        "id": "BDeMtHWoycCp",
        "colab": {
          "base_uri": "https://localhost:8080/",
          "height": 331
        },
        "outputId": "e5edf14a-9f80-41f8-8138-5cdcbf610752"
      },
      "source": [
        "import matplotlib.pyplot as plt\n",
        "\n",
        "t = 0;  p0 = 0;  p = 0; d=5; v=12\n",
        "dist = [] # distância percorrida\n",
        "tempo = []\n",
        "v = v/60 #  #conversão em minutos\n",
        "while p < d:\n",
        "  p = p0 + v*t ;\n",
        "  p = round(p, 3) # dois dígitos após a vírgula\n",
        "  dist.append(p) #adiciona item à lista\n",
        "  tempo.append(t) #adiciona item à lista\n",
        "  t = t+1\n",
        "print(dist)\n",
        "print(tempo)\n",
        "plt.plot(tempo,dist)\n",
        "plt.ylabel(\"distância em km\")\n",
        "plt.xlabel(\"tempo em minuto \")"
      ],
      "execution_count": 55,
      "outputs": [
        {
          "output_type": "stream",
          "name": "stdout",
          "text": [
            "[0.0, 0.2, 0.4, 0.6, 0.8, 1.0, 1.2, 1.4, 1.6, 1.8, 2.0, 2.2, 2.4, 2.6, 2.8, 3.0, 3.2, 3.4, 3.6, 3.8, 4.0, 4.2, 4.4, 4.6, 4.8, 5.0]\n",
            "[0, 1, 2, 3, 4, 5, 6, 7, 8, 9, 10, 11, 12, 13, 14, 15, 16, 17, 18, 19, 20, 21, 22, 23, 24, 25]\n"
          ]
        },
        {
          "output_type": "execute_result",
          "data": {
            "text/plain": [
              "Text(0.5, 0, 'tempo em minuto ')"
            ]
          },
          "metadata": {},
          "execution_count": 55
        },
        {
          "output_type": "display_data",
          "data": {
            "image/png": "[encoded data removed]",
            "text/plain": [
              "<Figure size 432x288 with 1 Axes>"
            ]
          },
          "metadata": {
            "needs_background": "light"
          }
        }
      ]
    },
    {
      "cell_type": "markdown",
      "metadata": {
        "id": "149oq9or6jxD"
      },
      "source": [
        "2. O/A mesmo/a atleta no seguinte trecho acelera nos seguintes  200  metros até chegar numa velocidade de  15km/h , e mantém esta velocidade por  1,8km . Queremos obter uma tabela ou gráfico da distância percorrida en função do tempo, e calcular e o tempo total para chegar em  7km , faça isto utilizando listas."
      ]
    },
    {
      "cell_type": "code",
      "metadata": {
        "colab": {
          "base_uri": "https://localhost:8080/",
          "height": 386
        },
        "id": "mFIgCVyQ6oqy",
        "outputId": "65519fcd-708b-4b51-d14e-ef53f312b8a1"
      },
      "source": [
        "import matplotlib.pyplot as plt\n",
        "# Para calcular as Raízes de uma Equação do 2º Grau\n",
        "def raizes(a, b, c):\n",
        "    D = (b**2 - 4*a*c)\n",
        "    x1 = (-b + D**(1/2)) / (2*a)\n",
        "    x2 = (-b - D**(1/2)) / (2*a)\n",
        "    print('\\nValor da raiz 1: {0}'.format(x1))\n",
        "    print('Valor da raiz 2: {0}'.format(x2))\n",
        "    return x1\n",
        "\n",
        "def dist(d1,d2,v0,vf,deltaP,deltaT):\n",
        "  t = 0;  p0 = 0;  p = 0;\n",
        "  dist = [] # distância percorrida\n",
        "  tempo = []\n",
        "  v0 = v0/60   #conversão em minuto ->12\n",
        "  vf = vf/60    #(-> 15)\n",
        "  while p < d1:\n",
        "    p = p0 + v*t ;\n",
        "    p = round(p, 3) # dois dígitos após a vírgula\n",
        "    dist.append(p) #adiciona item à lista\n",
        "    tempo.append(t) #adiciona item à lista\n",
        "    t = t+deltaT\n",
        "\n",
        "  t1 = (p-p0)/v0\n",
        "  a = ( (vf**2) -(v0**2))/(2*deltaP)        #usando a equação de Torricelli   \n",
        "  p1 = p + v0*(t-t1) +(a/2)*((t-t1)**2)\n",
        "  while (p1-p) < deltaP:     \n",
        "    p1 = p + v0*(t-t1) +(a/2)*((t-t1)**2)\n",
        "    dist.append(round(p1,3))\n",
        "    tempo.append(t)\n",
        "    t = t+deltaT\n",
        "\n",
        "  t2 = raizes( round(a/2,3), v0, -deltaP )\n",
        "  p2 = p+deltaP\n",
        "  while p2 < d2:\n",
        "    p2 = p + deltaP + vf*(t-t1+t2)\n",
        "    tempo.append(t)\n",
        "    dist.append(round(p2,3))\n",
        "    t = t+deltaT\n",
        " \n",
        "  print(dist)\n",
        "  print(tempo)\n",
        "  plt.plot(tempo,dist, ) \n",
        "  plt.xlabel(\"tempo em minutos \")\n",
        "  plt.ylabel(\"distância em km\")\n",
        " \n",
        "#dist(d1,d2,v0,vf,deltaP,deltaT)\n",
        "dist(5, 7, 12, 15, 0.2, 1)\n"
      ],
      "execution_count": 65,
      "outputs": [
        {
          "output_type": "stream",
          "name": "stdout",
          "text": [
            "\n",
            "Valor da raiz 1: 0.8892842845702846\n",
            "Valor da raiz 2: -8.032141427427428\n",
            "[0.0, 0.2, 0.4, 0.6, 0.8, 1.0, 1.2, 1.4, 1.6, 1.8, 2.0, 2.2, 2.4, 2.6, 2.8, 3.0, 3.2, 3.4, 3.6, 3.8, 4.0, 4.2, 4.4, 4.6, 4.8, 5.0, 5.672, 5.922, 6.172, 6.422, 6.672, 6.922, 7.172]\n",
            "[0, 1, 2, 3, 4, 5, 6, 7, 8, 9, 10, 11, 12, 13, 14, 15, 16, 17, 18, 19, 20, 21, 22, 23, 24, 25, 26, 27, 28, 29, 30, 31, 32]\n"
          ]
        },
        {
          "output_type": "display_data",
          "data": {
            "image/png": "[encoded data removed]",
            "text/plain": [
              "<Figure size 432x288 with 1 Axes>"
            ]
          },
          "metadata": {
            "needs_background": "light"
          }
        }
      ]
    },
    {
      "cell_type": "markdown",
      "metadata": {
        "id": "CnLOq5YdeJKW"
      },
      "source": [
        "3. Considere um péndulo simples num plano. O comprimento da linha é  1  metro, a massa é  0,2kg  e a aceleração de gravidade  9,8m/s2 . Faça um gráfico ou crie uma tabela para a posição da massa em coordenadas cartesianas em função do tempo, utilizando listas."
      ]
    },
    {
      "cell_type": "code",
      "metadata": {
        "colab": {
          "base_uri": "https://localhost:8080/",
          "height": 368
        },
        "id": "gSRkkA0ReN2z",
        "outputId": "1faad7ad-a004-4566-b560-c14375143fbc"
      },
      "source": [
        "import math\n",
        "import matplotlib.pyplot as plt\n",
        "\n",
        "L = 1 #metro\n",
        "m = 0.2 #Kg\n",
        "g = 9.8 #m/s²\n",
        "theta = 0\n",
        "coordx = [] ; coordy = [] ; tempo = []\n",
        "\n",
        "x=0; y=0 ; t=0;\n",
        "while t < 10:\n",
        "  theta = math.cos( math.sqrt(g/L) * t )\n",
        "  x = L * math.sin( theta )\n",
        "  y = L * math.cos( theta )\n",
        "  coordx.append(x)\n",
        "  coordy.append(y)\n",
        "  tempo.append(t)\n",
        "  t = t+0.01\n",
        "print(coordx)\n",
        "print(coordy)\n",
        "print(tempo)\n",
        "plt.plot(tempo, coordx)\n",
        "plt.xlabel(\"tempo s \")\n",
        "plt.ylabel(\"distância x [m]\")"
      ],
      "execution_count": 2,
      "outputs": [
        {
          "output_type": "stream",
          "name": "stdout",
          "text": [
            "[0.8414709848078965, 0.8412061573069126, 0.840410723616845, 0.8390818396669684, 0.8372147969387739, 0.8348030697380892, 0.8318383811193967, 0.8283107871992988, 0.8242087795120192, 0.8195194049695567, 0.8142284028916911, 0.8083203584658811, 0.8017788718838615, 0.7945867422804923, 0.786726165471533, 0.7781789443513103, 0.7689267106699171, 0.7589511567641957, 0.7482342756693205, 0.7367586078906111, 0.7245074929709614, 0.7114653238509185, 0.6976178018891557, 0.6829521902942324, 0.6674575636175613, 0.6511250508758682, 0.633948069812544, 0.6159225497743559, 0.597047140675994, 0.5773234055524773, 0.5567559942607088, 0.535352795988074, 0.5131250683589625, 0.49008754109977576, 0.46625849242899753, 0.44165979658007465, 0.41631694113923096, 0.39025901318516915, 0.36351865354939344, 0.33613197887034446, 0.30813847148678086, 0.2795808376003442, 0.25050483452803896, 0.22095906825608436, 0.19099476289068468, 0.16066550397203744, 0.13002695796876537, 0.09913657059452442, 0.06805324688080477, 0.03683701619438165, 0.00554868559966814, -0.025750514868733063, -0.05699929134285454, -0.08813664592422286, -0.11910223339988356, -0.1498367111628068, -0.18028207872471752, -0.2103820033570546, -0.24008212859141576, -0.2693303625506781, -0.2980771433614457, -0.3262756792122485, -0.3538821609641822, -0.3808559455851341, -0.40715970905887866, -0.4327595678094563, -0.45762516807275977, -0.4817297430346928, -0.5050501379325161, -0.5275668036773418, -0.5492637598960908, -0.5701285286060458, -0.5901520400206609, -0.6093285122384978, -0.6276553067858036, -0.6451327621658965, -0.6617640077145193, -0.6775547601697279, -0.6925131054385337, -0.7066492680817863, -0.7199753710456965, -0.73250518814541, -0.7442538917559881, -0.7552377980922087, -0.7654741123640854, -0.7749806759833822, -0.7837757178711312, -0.791877611780647, -0.7993046414080234, -0.806074774915637, -0.8122054503465442, -0.8177133732613077, -0.8226143277858097, -0.8269230021207631, -0.8306528294322121, -0.8338158449182946, -0.8364225597314415, -0.8384818523271752, -0.8400008777105783, -0.8409849949587738, -0.8414377133116251, -0.8413606570422361, -0.8407535492424706, -0.8396142145851957, -0.8379386010527687, -0.8357208205488755, -0.8329532082366394, -0.8296264003684541, -0.8257294302908886, -0.8212498422200567, -0.8161738222880431, -0.8104863462586233, -0.8041713432001475, -0.797211874285032, -0.789590325759045, -0.7812886149901779, -0.7722884083673949, -0.7625713496753966, -0.7521192974245793, -0.7409145694678021, -0.7289401930899713, -0.7161801586156462, -0.7026196744470016, -0.688245421322824, -0.6730458034822216, -0.6570111943278425, -0.6401341741160692, -0.6224097571591665, -0.6038356060097889, -0.584412230114355, -0.5641431664708804, -0.5430351399108045, -0.5210982007443437, -0.49834583766559104, -0.47479506400681193, -0.45046647566026843, -0.42538427924878736, -0.3995762894206896, -0.37307389446735745, -0.3459119898086913, -0.31812887925822136, -0.2897661443604729, -0.2608684824824532, -0.23148351473262557, -0.20166156516793446, -0.17145541312570503, -0.14092002087590652, -0.11011223912387132, -0.07909049319793286, -0.04791445302488761, -0.016644690223606137, 0.01465767417084716, 0.04593132770710254, 0.077115126514266, 0.10814845353996855, 0.13897157129915494, 0.1695259654814055, 0.19975467589448823, 0.22960261140086896, 0.25901684572856637, 0.2879468913037206, 0.31634494855449796, 0.34416612846881656, 0.3713686465457061, 0.39791398665545435, 0.42376703371039387, 0.44889617443960433, 0.47327336595040836, 0.49687417214107366, 0.5196777683967383, 0.5416669153489311, 0.5628279028033745, 0.5831504652370834, 0.6026276705307183, 0.6212557838332605, 0.6390341086516046, 0.655964807416675, 0.6720527039000026, 0.6873050699408857, 0.7017313989955183, 0.7153431690375952, 0.7281535973272011, 0.7401773895239887, 0.751430485554799, 0.7619298045582646, 0.7716929911229815, 0.7807381649150096, 0.7890836756582034, 0.7967478652904736, 0.8037488389737031, 0.8101042464875091, 0.8158310753899847, 0.8209454571841566, 0.8254624875890613, 0.8293960618805101, 0.8327587261398975, 0.835561545130455, 0.837813987409482, 0.8395238281822315, 0.8406970703078605, 0.8413378837794984, 0.8414485639180397, 0.8410295084415482, 0.8400792134978055, 0.8385942886750583, 0.8365694909338665, 0.8339977773295688, 0.830870376318746, 0.8271768773627456, 0.8229053384555761, 0.8180424111112077, 0.8125734822456938, 0.8064828322820429, 0.7997538086901748, 0.792369014050772, 0.7843105076008638, 0.7755600190815016, 0.7660991735651913, 0.7559097257945494, 0.744973802416023, 0.7332741503458987, 0.7207943893629841, 0.7075192668862859, 0.6934349127699874, 0.6785290918354492, 0.6627914517642413, 0.6462137639008687, 0.6287901544621836, 0.6105173236256897, 0.5913947499738653, 0.5714248778088024, 0.5506132849228504, 0.528968828518092, 0.5065037671111153, 0.4832338564398875, 0.4591784176059402, 0.4343603759361335, 0.4088062693318375, 0.38254622518641956, 0.3556139052908012, 0.32804641850699495, 0.29988420136593347, 0.2711708671328937, 0.24195302427523582, 0.21228006565667767, 0.1822039301632028, 0.15177883883138615, 0.1210610078937552, 0.09010834147157147, 0.058980106927236826, 0.02773659613100075, -0.00356122390475912, -0.034852067419626334, -0.06607468962339867, -0.09716824598686188, -0.12807264735952475, -0.15872890722834754, -0.1890794775433227, -0.2190685696977652, -0.24864245746008662, -0.2777497589056981, -0.30634169468773587, -0.33437232030793723, -0.36179873039843424, -0.38858123339490597, -0.4146834953649787, -0.44007265214626823, -0.46471938933942775, -0.48859799008668453, -0.5116863509394803, -0.5339659664746312, -0.555421883651735, -0.5760426272112248, -0.5958200976888683, -0.6147494438658413, -0.6328289116818234, -0.6500596718105346, -0.6664456282324766, -0.6819932102385162, -0.6967111503614198, -0.7106102507620784, -0.7237031405950964, -0.736004026847242, -0.7475284410849259, -0.7582929844665754, -0.768315073275938, -0.7776126871163879, -0.7862041217777206, -0.7941077486490371, -0.8013417824073591, -0.8079240585645505, -0.8138718223075985, -0.8192015299217573, -0.8239286639444011, -0.8280675630613371, -0.8316312676279897, -0.8346313815761076, -0.8370779513529064, -0.8389793624338808, -0.8403422538526433, -0.8411714511004285, -0.8414699176634912, -0.8412387253873775, -0.8404770437816687, -0.8391821483058235, -0.8373494476046647, -0.834972529589274, -0.8320432261840774, -0.8285516964822133, -0.8244865279675904, -0.8198348553721833, -0.8145824966401747, -0.8087141053659017, -0.8022133389598414, -0.7950630416761206, -0.7872454415066179, -0.7787423598114227, -0.7695354324144059, -0.7596063407474615, -0.7489370514796213, -0.7375100629199566, -0.7253086563386677, -0.7123171502119454, -0.698521155266221, -0.6839078280796846, -0.668466120896863, -0.6521870252290763, -0.6350638067531884, -0.6170922289863648, -0.5982707632086602, -0.5786007821307313, -0.5580867348630301, -0.536736300837181, -0.5145605204608628, -0.49157390045492155, -0.4677944920251376, -0.44324394026007186, -0.4179475034187585, -0.39193404107500146, -0.36523597041522793, -0.3378891903399844, -0.3099329733904763, -0.28140982590540536, -0.2523653172039656, -0.22284787898177674, -0.19290857649123766, -0.1626008534496138, -0.13198025297045846, -0.10110411714044978, -0.0700312681581448, -0.03882167420818767, -0.007536103459123976, 0.023764230258902015, 0.05501802642191557, 0.08616425768443754, 0.11714252690247383, 0.14789341759403152, 0.17835883421750687, 0.20848232879281875, 0.23820941058286207, 0.267487835790009, 0.2962678744995095, 0.3245025524133527, 0.3521478652588422, 0.37916296411935085, 0.40551031031406454, 0.4311557988422837, 0.45606884979940804, 0.4802224675596028, 0.5035932678982427, 0.5261614735897067, 0.5479108793579577, 0.5688287873738841, 0.5889059147808681, 0.6081362749853849, 0.6265170346703194, 0.6440483486736729, 0.6607331750236181, 0.6765770725326229, 0.69158798342921, 0.705776003547338, 0.7191531426022825, 0.7317330770607151, 0.7435308980642767, 0.7545628567933791, 0.7648461095646938, 0.7743984648451285, 0.7832381342405917, 0.7913834893828859, 0.7988528264959076, 0.8056641402760449, 0.8118349085740139, 0.817381889218882, 0.8223209301817815, 0.8266667941385897, 0.8304329983590043, 0.833631670724927, 0.8362734225644595, 0.8383672388792932, 0.839920386442693, 0.8409383401520976, 0.8414247279338359, 0.8413812944165195, 0.8408078835130773, 0.8397024399777486, 0.8380610299321274, 0.8358778802819999, 0.8331454368726868, 0.8298544411533858, 0.8259940250392367, 0.8215518235722824, 0.8165141048881527, 0.8108659168934425, 0.8045912499489016, 0.7976732147356381, 0.7900942343557554, 0.7818362495858824, 0.7728809360628965, 0.7632099320372374, 0.7528050751823635, 0.741648646801301, 0.7297236216254316, 0.7170139212594583, 0.7035046691930228, 0.6891824451769761, 0.6740355366542728, 0.6580541848453232, 0.6412308230188436, 0.6235603044350675, 0.6050401174317848, 0.585670585137717, 0.565455047344697, 0.5444000221517883, 0.5225153451121741, 0.49981428376800263, 0.4763136256492779, 0.45203373803959057, 0.42699859807222834, 0.4012357920127175, 0.3747764829048278, 0.3476553461026145, 0.31991047257652766, 0.291583240261668, 0.26271815410524163, 0.23336265586175678, 0.20356690507220973, 0.1733835330406463, 0.14286737198146351, 0.11207516184714718, 0.0810652376525682, 0.04989720038290466, 0.018631574802357234, -0.012670542334107845, -0.04394784002744886, -0.07513915301617886, -0.10618382023750428, -0.13702203803430107, -0.16759520444914652, -0.19784625107339593, -0.22771995909525647, -0.2571632564127058, -0.2861254929406023, -0.3145586915414493, -0.3424177723403606, -0.3696607485407756, -0.3962488922318036, -0.42214686906431736, -0.44732284106419373, -0.4717485372410238, -0.49539929203283645, -0.5182540519960296, -0.5402953514994406, -0.5615092585074362, -0.5818852918351297, -0.6014163115258474, -0.620098384234279, -0.6379306256965769, -0.6549150225300023, -0.6710562357293837, -0.6863613883160775, -0.7008398396485797, -0.7145029489240837, -0.7273638303894677, -0.7394371027410812, -0.7507386351283483, -0.7612852920898795, -0.7710946796458704, -0.7801848946506064, -0.7885742793772372, -0.7962811831670271, -0.8033237328301157, -0.8097196133373661, -0.8154858601957115, -0.8206386647547853, -0.8251931935524485, -0.8291634226725848, -0.8325619879613311, -0.8354000518284618, -0.8376871872492577, -0.8394312794788324, -0.8406384458951631, -0.8413129742983, -0.8414572799104416, -0.8410718812435822, -0.8401553949269133, -0.8387045495136068, -0.836714218214488, -0.8341774704328337, -0.8310856418986252, -0.8274284231205644, -0.8231939657887932, -0.8183690066694161, -0.8129390084328038, -0.8068883167506622, -0.8002003328817864, -0.7928577008433803, -0.7848425081342959, -0.7761364988394505, -0.7667212978022826, -0.7565786444060378, -0.7456906343571236, -0.7340399677169555, -0.7216102012856104, -0.7083860033039459, -0.6943534083141747, -0.6795000699052561, -0.6638155089726395, -0.6472913550451509, -0.6299215781784914, -0.611702708888319, -0.5926340435987411, -0.572717833117209, -0.5519594517158826, -0.5303675445044145, -0.5079541509204394, -0.48473480234198363, -0.4607285920402846, -0.4359582159402815, -0.4104499829377729, -0.38423379383339107, -0.3573430882809686, -0.3298147595068422, -0.30168903693206156, -0.2730093372161215, -0.24382208463198402, -0.21417650207215974, -0.1841243743670786, -0.15371978596391503, -0.1230188353594677, -0.0920793289983032, -0.06096045763168359, -0.029722458377721295, 0.0015737340750913344, 0.03286684352508836, 0.06409561187595555, 0.09519915856630713, 0.12611733606287026, 0.15679107772583167, 0.18716273446371587, 0.2171763967538138, 0.24677819881043864, 0.2759166019324481, 0.30454265434922473, 0.33261022520521233, 0.36007621067079426, 0.38690071053611824, 0.41304717402703045, 0.4384825139727183, 0.4631771888456856, 0.4871052525803391, 0.510244372450673, 0.5325758156443857, 0.5540844055058459, 0.5747584487286161, 0.5945896350568057, 0.6135729112999413, 0.6317063316766062, 0.6489908866765166, 0.6654303127682131, 0.6810308853808663, 0.6958011976542403, 0.7097519274826847, 0.7228955953788377, 0.7352463156533119, 0.7468195433509217, 0.7576318193049956, 0.7677005155727018, 0.7770435833991943, 0.7856793057305715, 0.7936260561582017, 0.8009020660333148, 0.8075252013438277, 0.8135127507977686, 0.8188812264119689, 0.8236461777626882, 0.8278220209183953, 0.8314218829450977, 0.8344574627523655, 0.8369389089339493, 0.8388747151506912, 0.840271633505087, 0.8411346062656914, 0.8414667162147952, 0.8412691558132515, 0.8405412153007469, 0.8392802897767403, 0.8374819052351874, 0.8351397634534922, 0.8322458055613193, 0.8287902940364917, 0.8247619127918686, 0.820147884927654, 0.8149341076271264, 0.809105303569633, 0.8026451881224695, 0.7955366514530474, 0.7877619545747623, 0.7793029382051315, 0.7701412431740194, 0.7602585409748364, 0.7496367729042928, 0.7382583960888979, 0.7261066345516793, 0.713165733333248, 0.6994212135507938, 0.6848601261599027, 0.6694713020809434, 0.6532455962675077, 0.636176123232361, 0.6182584815100625, 0.5994909645274803, 0.5798747553769605, 0.5594141030436781, 0.5381164777308169, 0.515992703054562, 0.4930570630458334, 0.4693273820972732, 0.4448250762306427, 0.4195751743302374, 0.3936063082889319, 0.36695067134212794, 0.3396439442167303, 0.3117251890924409, 0.28323671175610354, 0.25422389271997725, 0.2247349884661114, 0.19482090436411598, 0.16453494118256626, 0.1339325174680378, 0.1030708703938987, 0.07200873797785459, 0.04080602582655853, 0.009523461783263732, -0.02177775797451384, -0.05303632771863293, -0.08419119209692551, -0.11518190344820983, -0.14594897278827695, -0.1764342108398418, -0.20658105562057946, -0.23633488329330796, -0.2656432992167227, -0.29445640640979615, -0.3227270489528048, -0.3504110281867426, -0.3774672899350907, -0.4038580813502187, -0.42954907637523104, -0.45450946920353164, -0.478712035506691, -0.5021331615801624, -0.524752841919908, -0.5465546460864451, -0.5675256560309374, -0.5876563753475444, -0.6069406121735904, -0.6253753376822611, -0.6429605222998825, -0.6596989519303688, -0.6755960265835936, -0.6906595438824242, -0.7048994699668102, -0.7183277003241413, -0.7309578130557504, -0.7428048170427064, -0.7538848974028642, -0.7642151605391341, -0.7738133809692102, -0.7826977520033465, -0.7908866422023014, -0.7983983594058374, -0.8052509239760054, -0.8114618527518198, -0.8170479550653115, -0.8220251420254003, -0.8264082501374881, -0.8302108801943374, -0.8334452522488418, -0.8361220773621448, -0.8382504467115408, -0.8398377385415213, -0.8408895433476907, -0.8414096075963723, -0.841399796201455, -0.8408600739032106, -0.8397885056200127, -0.838181275771624, -0.8360327265004192, -0.8333354146430381, -0.8300801872279833, -0.826256275193243, -0.8218514049308564, -0.8168519271714582, -0.8112429626204792, -0.8050085636483258, -0.798131891219477, -0.7905954061201114, -0.7823810734113813, -0.7734705788966095, -0.7638455562470567, -0.7534878232841927, -0.7423796257687458, -0.7305038869008541, -0.7178444605939966, -0.704386386451393, -0.6901161442502283, -0.6750219056300453, -0.6590937805902825, -0.6423240563316206, -0.6247074259300764, -0.6062412043143999, -0.5869255290295062, -0.5667635433133613, -0.5457615590942286, -0.5239291976305761, -0.5012795056678713, -0.4778290451752494, -0.45359795494931904, -0.42860998263121536, -0.40289248597342303, -0.3764764025122745, -0.34939618714614684, -0.32168971748361047, -0.29339816720526557, -0.26456584807135464, -0.23524002159900054, -0.20547068182085884, -0.17531031091509885, -0.1448136098578974, -0.1140372065875163, -0.08303934447776284, -0.051879554191715915, -0.020618312219707002, 0.01068331040664073, 0.041964005592889306, 0.07316258813307816, 0.10421835437893226, 0.1350714358902077, 0.1656631444012232, 0.19593630456189035, 0.22583557108471497, 0.255307727148206, 0.2843019611681319, 0.31277011934613297, 0.34066693173431534, 0.36795020990924093, 0.39458101472193, 0.42052379297633335, 0.4457464822797164, 0.4702205836987608, 0.49392120223797104, 0.5168270555266667, 0.5389204514519971, 0.5601872358028868, 0.5806167112900565, 0.6002015295761861, 0.6189375581859501, 0.6368237243656805, 0.6538618381260877, 0.6700563968285173, 0.6854143737658268, 0.6999449932446992, 0.7136594946983026, 0.7265708883493817, 0.7386937049063994, 0.7500437417125105, 0.7606378076821532, 0.7704934692561536, 0.7796287994871945, 0.7880621322364153, 0.7958118233224519, 0.802896020319252, 0.8093324425516163, 0.8151381726901817, 0.8203294612026817, 0.8249215447778522, 0.8289284797036592, 0.832362991053881, 0.8352363384171014, 0.8375581987902747, 0.8393365671551704, 0.8405776751598009, 0.8412859282377586, 0.8414638614152429, 0.8411121139773224, 0.8402294230902678, 0.8388126364041616, 0.8368567435878863, 0.8343549266754479, 0.8312986290268809, 0.8276776426272824, 0.823480213362506, 0.8186931638186615, 0.8133020330539225, 0.8072912326846488, 0.8006442185133067, 0.7933436768030832, 0.7853717241740694, 0.7767101199591324, 0.7673404897154974, 0.7572445584422088, 0.7464043919060264, 0.7348026443314872, 0.7224228105673017, 0.7092494807042363, 0.695268594992088, 0.6804676967889101, 0.6648361811776154, 0.6483655368069013, 0.6310495784586778, 0.6128846678156985, 0.5938699199042224, 0.5740073927193668, 0.5533022576078491, 0.5317629480853385, 0.5094012849045549, 0.48623257536607756, 0.46227568507555095, 0.4375530805979075, 0.41209084173866317, 0.3859186424919452, 0.3590697000307222, 0.33158069147234037, 0.3034916385272691, 0.2748457605247368, 0.24568929670034975, 0.21607129902071073, 0.18604339720251908, 0.1556595379515997, 0.1249757007941686, 0.09404959319250328, 0.06294032792338818, 0.03170808594568953, 0.00041376818757165126, -0.030881360158856862, -0.06211602914119202, -0.09322932360005283, -0.12416103902273372, -0.15485203000080103, -0.18524454770036453, -0.21528256290973705, -0.2449120714321498, -0.27408137883806144, -0.3027413618769379, -0.33084570416724934, -0.3583511041298839, -0.385217453497483, -0.4114079851144708, -0.43688938913232667, -0.4616318970961013, -0.4856093338042464, -0.5087991371988485, -0.5311823469016995, -0.5527435623479293, -0.5734708717793514, -0.5933557536399255, -0.6123929521635489, -0.630580329157122, -0.6479186941585029, -0.6644116152890008, -0.6800652132234215, -0.6948879407686914, -0.7088903505757846, -0.7220848535116066, -0.734485470189785, -0.7461075781051408, -0.7569676567390973, -0.7670830329056566, -0.7764716284935602, -0.785151712632984, -0.7931416601783153, -0.8004597182551524, -0.8071237824728353, -0.8131511842562674, -0.8185584906047955, -0.8233613174437343, -0.8275741575971923, -0.8312102242806398, -0.8342813108888891, -0.8367976677403847, -0.8387678963320297, -0.840198861559906, -0.8410956222696869, -0.8414613804153698, -0.8412974490251337, -0.840603239097322, -0.8393762654763671, -0.8376121716863533, -0.835304773627324, -0.8324461219648018, -0.8290265829648661, -0.825034937444135, -0.8204584974149852, -0.8152832399103543, -0.8094939573687979, -0.803074423848819, -0.7960075762217025, -0.7882757093646507, -0.7798606842414963, -0.7707441476179165, -0.7609077620133348, -0.7503334443444314, -0.7390036115678221, -0.72690143148437, -0.71401107672795, -0.7003179798301519, -0.6858090871329677, -0.6704731092172398, -0.6543007654290196, -0.6372850200225931, -0.6194213074007154, -0.6007077439229899, -0.581145323774569, -0.5607380964421755, -0.5394933234341086, -0.5174216120069701, -0.49453702382456244, -0.4708571566734769, -0.44640319759463193, -0.421199946058098, -0.3952758061079944, -0.3686627467310387, -0.3413962300529282, -0.3135151073359955, -0.2850614831340925, -0.2560805483509027, -0.22662038333892912, -0.19673173256246734, -0.16646775272152006, -0.13588373658887695, -0.10503681514264503, -0.07398564087524506, -0.042790055422129644, -0.011510744873511156, 0.01979111369316114, 0.051054210797603944, 0.08221746452248971, 0.11322037810539312, 0.14400339143569732, 0.17450822282195708, 0.20467819753361438, 0.23445855980751223, 0.26379676524160195, 0.2926427507704139, 0.3209491797245409, 0.34867165981380516, 0.3757689322343297, 0.4022030304775968, 0.42793940780730905, 0.4529470327616076, 0.47719845242678977, 0.5006698236083164, 0.5233409123897913, 0.5451950629151534, 0.566219136549491, 0.5864034228650854, 0.6057415241589996, 0.6242302154337926, 0.6418692819625407, 0.6586613367123952, 0.6746116200171441, 0.6897277839697223, 0.7040196640511888, 0.7174990405256856, 0.7301793921133228, 0.742075644407812, 0.7532039154360693, 0.7635812606660694, 0.7732254196606884, 0.7821545664522553, 0.7903870655787854, 0.7979412355814011, 0.8048351216165277, 0.8110862786888634, 0.816711566864305, 0.8217269596783, 0.8261473668161043, 0.8299864720087408, 0.8332565869629451, 0.8359685220257568, 0.8381314741748844]\n",
            "[0.5403023058681398, 0.540714528109739, 0.541950012113489, 0.544005208009166, 0.5468741937473075, 0.5505486670185145, 0.5550179345720833, 0.5602688995556311, 0.5662860476608157, 0.5730514330130794, 0.5805446648832853, 0.5887428964238886, 0.5976208167397136, 0.60715064769139, 0.6173021468960385, 0.6280426184330808, 0.6393369327814102, 0.6511475575061995, 0.6634346001781993, 0.6761558649446804, 0.6892669240787145, 0.7027212057122707, 0.7164700988089752, 0.7304630762552687, 0.7446478367454706, 0.7589704659088508, 0.7733756168776914, 0.7878067102274873, 0.8022061529373979, 0.816515575724854, 0.8306760878072569, 0.8446285478408552, 0.8583138494872432, 0.8716732197668893, 0.884648528082107, 0.8971826035344461, 0.9092195579289274, 0.92070511165505, 0.9315869194667967, 0.9418148930552682, 0.9513415172217548, 0.96012215641901, 0.9681153484363729, 0.9752830820615126, 0.9815910556582772, 0.9870089137558036, 0.9915104589470496, 0.9950738366426669, 0.9976816905150562, 0.9993212867931388, 0.9999846059255693, 0.9996684005128876, 0.9983742188109689, 0.9961083935221248, 0.9928819960091732, 0.9887107564843793, 0.9836149511321464, 0.9776192575146381, 0.9707525799764917, 0.9630478471022716, 0.9545417835828247, 0.9452746591095024, 0.935290017134429, 0.9246343865076906, 0.9133569791265019, 0.9015093768061276, 0.8891452106075691, 0.8763198358337718, 0.8630900058362085, 0.8495135476598789, 0.8356490424004622, 0.821555512956675, 0.8072921216384142, 0.7929178798420545, 0.7784913717335722, 0.7640704935934909, 0.749712210180425, 0.735472329167687, 0.7214052944052173, 0.7075639984619595, 0.6939996146163279, 0.6807614481887597, 0.667896806854222, 0.6554508893371281, 0.6434666916790764, 0.6319849300832576, 0.6210439791798911, 0.6106798244256797, 0.6009260272476065, 0.5918137014675355, 0.5833714994987047, 0.575625606787618, 0.568599742984026, 0.5623151683563092, 0.5567906940280706, 0.5520426946923493, 0.5480851225606321, 0.5449295214227149, 0.5425850398282818, 0.5410584425495931, 0.5403541196446118, 0.5404740926089397, 0.5414180172807224, 0.5431831833428616, 0.5457645104490845, 0.5491545411822742, 0.5533434312326203, 0.5583189373572076, 0.5640664038493025, 0.5705687484024445, 0.5778064483992246, 0.5857575287850315, 0.5943975528008764, 0.6036996169445085, 0.6136343516034001, 0.624169928854899, 0.6352720789562185, 0.6469041170484572, 0.6590269815732565, 0.671599285847105, 0.6845773841560612, 0.6979154536226203, 0.7115655929568191, 0.7254779390361697, 0.7396008020648508, 0.7538808198434962, 0.7682631314391821, 0.7826915702836382, 0.7971088764496297, 0.8114569275647144, 0.8256769875224866, 0.8397099718486455, 0.8534967282778579, 0.866978330802668, 0.8800963851731055, 0.8927933435606566, 0.9050128258582801, 0.9166999448744356, 0.9278016324985416, 0.938266963772354, 0.9480474757004039, 0.9570974775760647, 0.9653743495905109, 0.9728388265314201, 0.9794552634674127, 0.9851918804526831, 0.9900209834727414, 0.9939191590844435, 0.9968674404782752, 0.9988514430040765, 0.9998614675480599, 0.9998925705234044, 0.9989445996325635, 0.9970221949699458, 0.9941347554516506, 0.990296370977216, 0.9855257211395334, 0.9798459416960852, 0.9732844603906412, 0.9658728040631561, 0.9576463793011089, 0.948644229162889, 0.9389087687388941, 0.9284855025054567, 0.9174227265682723, 0.905771218984294, 0.8935839213937817, 0.8809156151879537, 0.8678225953840581, 0.8543623452810792, 0.8405932148288933, 0.8265741054654175, 0.8123641639645198, 0.7980224875971353, 0.7836078426443428, 0.7691783980195032, 0.7547914754624648, 0.7405033174677177, 0.7263688738055577, 0.7124416071958407, 0.6987733184025063, 0.6854139907380475, 0.6724116537043758, 0.6598122652534424, 0.6476596119303756, 0.6359952259660964, 0.6248583182171326, 0.6142857257089239, 0.6043118724260457, 0.5949687419087025, 0.5862858601594491, 0.5782902873367503, 0.5710066167118347, 0.5644569793910594, 0.5586610533562377, 0.5536360754483536, 0.5493968550139385, 0.5459557880460874, 0.5433228707815004, 0.5415057118588689, 0.5405095423000738, 0.540337222741751, 0.5409892475184398, 0.5424637453774294, 0.5447564767871723, 0.5478608279833954, 0.5517678020774127, 0.5564660077272873, 0.5619416460420222, 0.568178496549556, 0.5751579032086422, 0.5828587615804597, 0.5912575083957364, 0.6003281148551676, 0.6100420850828305, 0.6203684612122664, 0.6312738366210823, 0.6427223788407642, 0.6546758636525477, 0.667093721836604, 0.6799330999697694, 0.693148936566192, 0.7066940547257297, 0.7205192722971955, 0.7345735303786548, 0.7488040407665075, 0.7631564527310716, 0.777575039241502, 0.792002902490215, 0.8063821982802878, 0.8206543785426331, 0.8347604509477362, 0.8486412542742648, 0.8622377478991795, 0.8754913134864527, 0.8883440666796311, 0.9007391763527446, 0.9126211887497381, 0.9239363536497637, 0.934632949538922, 0.9446616046525514, 0.9539756106793906, 0.9625312258926432, 0.9702879644951117, 0.9772088690371146, 0.9832607628869784, 0.9884144799035454, 0.9926450686764873, 0.9959319689603515, 0.998259158228389, 0.9996152666076413, 0.9999936588220448, 0.9993924821593255, 0.9978146798835802, 0.9952679699316344, 0.9917647891502919, 0.9873222037461199, 0.9819617870222569, 0.9757094658609065, 0.9685953377691888, 0.960653460633868, 0.9519216176218744, 0.9424410599140332, 0.9322562301653344, 0.9214144697438247, 0.9099657129100435, 0.8979621711592028, 0.8854580109592941, 0.8725090280812298, 0.8591723216341638, 0.8455059707931181, 0.8315687170407258, 0.8174196545444634, 0.8031179310599579, 0.7887224614949412, 0.7742916559924942, 0.7598831641019428, 0.7455536363064831, 0.7313585038738273, 0.7173517776949235, 0.703585866481026, 0.6901114144055248, 0.6769771580080411, 0.6642298019278723, 0.6519139128050374, 0.6400718304823219, 0.6287435954629126, 0.6179668914268167, 0.6077770014862012, 0.5982067767655234, 0.5892866158267849, 0.5810444534230654, 0.5735057570537999, 0.5666935298120089, 0.5606283180554283, 0.5553282224986076, 0.5508089114097174, 0.5470836347020639, 0.5441632378340518, 0.5420561745703665, 0.5407685178092373, 0.5403039678434699, 0.5406638575941806, 0.5418471545334782, 0.5438504591933547, 0.5466680003403921, 0.5502916270772152, 0.5547107983095265, 0.5599125701897095, 0.5658815823120132, 0.5726000435879055, 0.5800477188710078, 0.588201917526821, 0.597037485251054, 0.6065268005296347, 0.6166397772014471, 0.6273438746296458, 0.6386041170073783, 0.6503831233175192, 0.6626411494323386, 0.6753361437771576, 0.688423817891418, 0.7018577331011839, 0.7155894043692541, 0.7295684222136595, 0.7437425933836925, 0.7580581007566954, 0.7724596826709785, 0.7868908316435259, 0.8012940121389446, 0.8156108967624857, 0.8297826199492986, 0.8437500479191803, 0.857454063366106, 0.8708358630600458, 0.8838372662605619, 0.8964010315828099, 0.9084711797222996, 0.9199933192402101, 0.9309149724410102, 0.9411858982429506, 0.9507584088533418, 0.9595876770175248, 0.9676320306152241, 0.9748532314319542, 0.9812167350367218, 0.98669192884986, 0.9912523456849188, 0.9948758502935179, 0.9975447967285289, 0.9992461546644417, 0.9999716031691367, 0.9997175908026236, 0.9984853613191519, 0.9962809446625434, 0.9931151133634526, 0.989003304864224, 0.9839655107048071, 0.9780261338947559, 0.9712138161649913, 0.9635612371325328, 0.9551048877162879, 0.9458848204074423, 0.935944379220069, 0.9253299123232902, 0.9140904704836339, 0.9022774945240916, 0.8899444950347437, 0.8771467275495965, 0.8639408663372562, 0.8503846798419574, 0.8365367106596037, 0.8224559627449707, 0.8082015983256338, 0.7938326467504976, 0.7794077272313316, 0.7649847871498591, 0.7506208573062761, 0.7363718251828936, 0.7222922269942538, 0.7084350589974693, 0.6948516082483088, 0.6815913027139193, 0.6687015803957174, 0.6562277768791981, 0.6442130305137831, 0.6326982042376194, 0.6217218229009794, 0.6113200248087475, 0.6015265260979762, 0.5923725964908078, 0.5838870449159003, 0.5760962134721693, 0.5690239782161816, 0.5626917552875879, 0.5571185109440128, 0.5523207741560756, 0.5483126505127572, 0.5451058363051254, 0.5427096317902947, 0.5411309527852155, 0.540374339899176, 0.5404419648824303, 0.5413336337437933, 0.5430467864700199, 0.5455764933619317, 0.5489154481842087, 0.5530539585051533, 0.557979933777194, 0.5636788718760717, 0.5701338449741933, 0.5773254857692486, 0.5852319752205589, 0.5938290330605805, 0.6030899124453273, 0.6129854001832283, 0.6234838240351402, 0.6345510686072011, 0.6461506013614129, 0.6582435102450126, 0.6707885543878928, 0.6837422292369135, 0.6970588473867435, 0.7106906362290244, 0.7245878533758928, 0.7386989206213763, 0.7529705769866158, 0.7673480511544787, 0.7817752533387367, 0.7961949863558123, 0.8105491753770676, 0.8247791155408862, 0.8388257363011297, 0.8526298810869261, 0.8661326005534479, 0.8792754574198234, 0.8920008406240181, 0.9042522862809647, 0.9159748027145328, 0.9271151966511428, 0.9376223975173968, 0.9474477766799935, 0.9565454584067118, 0.9648726193148681, 0.9723897731101183, 0.9790610375044663, 0.9848543803376939, 0.989741842109906, 0.9936997323623147, 0.9967087976155988, 0.9987543588860818, 0.9998264171446882, 0.9999197254564787, 0.9990338269332635, 0.9971730580415875, 0.9943465172261475, 0.990567999227174, 0.9858558958821765, 0.9802330646005586, 0.9737266660771157, 0.9663679731609554, 0.9581921531141326, 0.9492380257742161, 0.9395478003728522, 0.929166793954817, 0.9181431344867033, 0.9065274518398183, 0.894372559877738, 0.8817331328757894, 0.8686653794490514, 0.8552267170696298, 0.8414754501161017, 0.82747045422204, 0.813270869480732, 0.7989358048245458, 0.7845240556350306, 0.7700938363591634, 0.7557025296136878, 0.7414064529586385, 0.7272606442183068, 0.7133186659280362, 0.6996324291932072, 0.6862520369668579, 0.6732256464885126, 0.6605993503823817, 0.6484170756909683, 0.6367204999227152, 0.6255489830213317, 0.6149395140212337, 0.6049266710388288, 0.5955425931634855, 0.5868169627548154, 0.578776996623795, 0.5714474445734123, 0.564850593798671, 0.5590062776945215, 0.5539318876918682, 0.5496423868343884, 0.5461503239204634, 0.5434658471629383, 0.5415967164625031, 0.5405483135459291, 0.5403236493859219, 0.5409233684926004, 0.5423457498452463, 0.544586704414621, 0.5476397694084297, 0.5514960995530964, 0.5561444559014771, 0.5615711928261778, 0.5677602440193564, 0.5746931084700017, 0.5823488375263489, 0.5907040242721248, 0.5997327965484948, 0.609406815036843, 0.619695277878949, 0.6305649333488501, 0.6419801021031598, 0.653902710522538, 0.6662923366151456, 0.6791062698827709, 0.6922995864512277, 0.7058252406389716, 0.7196341739818148, 0.73367544254851, 0.7478963631729971, 0.7622426789965334, 0.7766587444593145, 0.7910877296094867, 0.8054718433116116, 0.8197525746403782, 0.8338709514436285, 0.8477678147561146, 0.86138410744725, 0.8746611751978466, 0.8875410776277214, 0.8999669071439054, 0.9118831128529478, 0.9232358266859011, 0.9339731887253616, 0.9440456686047788, 0.9534063797746506, 0.9620113834008484, 0.969819978679401, 0.9767949764204023, 0.9829029528717125, 0.9881144809197, 0.9924043360177344, 0.9957516744506244, 0.9981401818408754, 0.9995581901360143, 0.9999987616797638, 0.9994597393575678, 0.9979437622122035, 0.995458246340984, 0.992015331305119, 0.9876317926968391, 0.9823289219136656, 0.9761323745747961, 0.9690719893753382, 0.9611815795041283, 0.9524986990447434, 0.9430643870324751, 0.932922892048942, 0.9221213803977473, 0.9107096310176389, 0.8987397203529868, 0.8862657004155177, 0.8733432732371871, 0.8600294648338619, 0.846382301676209, 0.8324604925011356, 0.8183231180988808, 0.8040293314817654, 0.7896380705860847, 0.7752077853838193, 0.7607961809912224, 0.7464599780625872, 0.7322546914546559, 0.7182344278457591, 0.7044517026983567, 0.6909572766690251, 0.6778000112999634, 0.6650267435743624, 0.6526821786877611, 0.6408088001809962, 0.6294467963999334, 0.6186340020939094, 0.6084058538399996, 0.5987953578841171, 0.5898330689225644, 0.5815470783087535, 0.573963010158346, 0.5671040238412298, 0.5609908213888922, 0.5556416584094719, 0.5510723571881323, 0.5472963207554483, 0.5443245468292299, 0.5421656406733026, 0.5408258260681164, 0.5403089537502496, 0.5406165068486711, 0.54174760302261, 0.5436989931867364, 0.5464650568916923, 0.550037794609466, 0.5544068173512936, 0.5595593342183701, 0.565480138650243, 0.5721515942900934, 0.5795536215277921, 0.5876636859084386, 0.596456789703869, 0.6059054680351321, 0.6159797910033658, 0.6266473733327612, 0.6378733930509846, 0.6496206207278314, 0.6618494607610086, 0.6745180061378999, 0.6875821080133151, 0.7009954613257141, 0.7147097075282628, 0.7286745553374581, 0.742837920202009, 0.7571460829701944, 0.7715438679874553, 0.7859748405902518, 0.8003815236809951, 0.8147056327757346, 0.8288883286160067, 0.8428704861332963, 0.856592978254227, 0.8699969727422142, 0.8830242399921534, 0.8956174694345812, 0.9077205919696605, 0.9192791056448298, 0.9302404016175397, 0.9405540873107205, 0.9501723035772417, 0.9590500326435477, 0.9671453936044474, 0.9744199222917893, 0.9808388324402475, 0.9863712552229255, 0.9909904544266175, 0.994674014778834, 0.9974040012225922, 0.9991670872563018, 0.9999546508095568, 0.9997628365055402, 0.9985925835605438, 0.9964496189839698, 0.993344416160904, 0.9892921193166591, 0.9843124347712581, 0.9784294902846536, 0.9716716641637434, 0.9640713861438139, 0.9556649123642811, 0.9464920770266457, 0.9365960235475644, 0.9260229181986038, 0.9148216493547363, 0.9030435155545861, 0.8907419056069631, 0.8779719739610374, 0.864790314493352, 0.8512546357565285, 0.8374234405850608, 0.8233557127673641, 0.8091106132744681, 0.7947471882896769, 0.7803240910152639, 0.7658993189472506, 0.7515299680132342, 0.7372720046661614, 0.7231800567245489, 0.7093072234515239, 0.6957049050761613, 0.6824226516849765, 0.6695080311528394, 0.6570065155444601, 0.6449613852023588, 0.6334136495474344, 0.6224019834551526, 0.611962677935484, 0.6021296037383209, 0.5929341864286369, 0.5844053914266909, 0.5765697174874803, 0.5694511970995586, 0.5630714023147463, 0.5574494545758777, 0.5526020371875807, 0.5485434091734323, 0.545285419379523, 0.5428375198173605, 0.5412067773859749, 0.540397883271686, 0.5404131594920224, 0.5412525622253322, 0.5429136817473895, 0.545391738978372, 0.5486795788256342, 0.5527676606873052, 0.5576440466566072, 0.5632943881344709, 0.5697019117162742, 0.5768474053649498, 0.5847092060150479, 0.5932631898684253, 0.6024827667397806, 0.6123388798874168, 0.6228000128192475, 0.6338322045946732, 0.6453990751477913, 0.657461862135325, 0.669979470762692, 0.6829085379629868, 0.6962035121963361, 0.7098167500009765, 0.723698630263453, 0.7377976869844349, 0.7520607611005966, 0.7664331716840634, 0.780858906581604, 0.7952808322796583, 0.8096409224918378, 0.8238805046673234, 0.8379405233159671, 0.8517618187440552, 0.8652854194988926, 0.878452846535834, 0.8912064268539559, 0.9034896141012742, 0.9152473134329077, 0.9264262077205155, 0.9369750820634104, 0.9468451434449642, 0.955990332315443, 0.9643676228670708, 0.9719373088003679, 0.9786632714637202, 0.9845132273803392, 0.9894589523572591, 0.9934764795976381, 0.9965462695071933, 0.9986533491942381, 0.9997874200054783, 0.9999429318109886, 0.9991191231452834, 0.9973200267204452, 0.9945544402447496, 0.9908358628988746, 0.9861823982342716, 0.9806166246574806, 0.9741654350431659, 0.9668598473710743, 0.9587347886021212, 0.949828854291238, 0.9401840466752919, 0.929845494169728, 0.9188611553553736, 0.9072815106353694, 0.8951592447912597, 0.8825489236671227, 0.8695066681629287, 0.8560898286252651, 0.8423566625882267, 0.8283660186436435, 0.814177029011946, 0.7998488131480891, 0.785440194455831, 0.7710094319040617, 0.75661396804604, 0.7423101946418253, 0.7281532367813793, 0.7141967561055412, 0.7004927734295076, 0.6870915107925512, 0.6740412526927839, 0.6613882260200107, 0.6491764979760803, 0.6374478910731579, 0.6262419141275645, 0.6155957080219083, 0.6055440048916302, 0.5961190993044152, 0.5873508299418966, 0.579266570262182, 0.5718912266182425, 0.5652472423296925, 0.5593546062527601, 0.5542308644633902, 0.5498911337597591, 0.5463481158008974, 0.5436121108255171, 0.5416910300373676, 0.5405904058981559, 0.540313399734033, 0.5408608062344689, 0.5422310546007078, 0.5444202062825183, 0.5474219494242798, 0.5512275903221899, 0.5558260423711975, 0.5612038131507524, 0.5673449904603386, 0.5742312282666193, 0.5818417336616174, 0.5901532560534597, 0.599140079915554, 0.6087740225047099, 0.6190244380215125, 0.6298582297256028, 0.6412398715326275, 0.6531314406072213, 0.6654926624264125, 0.6782809697193737, 0.6914515765923457, 0.7049575690215484, 0.7187500127427671, 0.7327780793847452, 0.7469891914861719, 0.761329186804958, 0.775742502075995, 0.7901723761031139, 0.8045610717856989, 0.8188501163848696, 0.8329805590324767, 0.8468932441834623, 0.860529099413604, 0.8738294356754479, 0.8867362578511888, 0.8991925831874288, 0.9111427649688714, 0.9225328185908479, 0.9333107470290092, 0.9434268625827466, 0.952834101690338, 0.961488329581581, 0.9693486315494996, 0.9763775876880331, 0.9825415280573874, 0.9878107654023085, 0.9921598027591152, 0.9955675135420624, 0.9980172919949315, 0.9994971722249447, 0.9999999143979398, 0.9995230570600855, 0.9980689349557628, 0.9956446621265423, 0.9922620804952668, 0.9879376745547418, 0.9826924531852717, 0.976551800012173, 0.9695452940769779, 0.9617065029281163, 0.9530727505331883, 0.9436848626708373, 0.9335868926719639, 0.9228258305449163, 0.911451298635342, 0.8995152370380295, 0.8870715819951931, 0.8741759404846349, 0.8608852641239176, 0.8472575253959109, 0.8333513990405973, 0.819225951261696, 0.8049403391695537, 0.7905535226285525, 0.7761239904036569, 0.7617095022119262, 0.7473668479863559, 0.733151625356844, 0.7191180360512783, 0.7053187016239829, 0.6918044986331917, 0.6786244131182508, 0.6658254139743248, 0.6534523445905756, 0.6415478319098735, 0.630152211885794, 0.6193034701577992, 0.6090371966387486, 0.5993865526109857, 0.5903822488580963, 0.5820525333186257, 0.5744231867350056, 0.5675175247843173, 0.5613564052162382, 0.5559582385857128, 0.5513390012519672, 0.5475122494193648, 0.5444891331172197, 0.5422784091529349, 0.5408864522233555, 0.5403172635308447, 0.5405724764208797, 0.5416513587346481, 0.5435508117507942, 0.5462653657727818, 0.5497871725999116, 0.554105995298519, 0.5592091958628703, 0.5650817215204826, 0.5717060905916121, 0.5790623789552172, 0.5871282083015623, 0.5958787374624869, 0.6052866582022525, 0.6153221969226014, 0.6259531237835507, 0.6371447707646445, 0.6488600601885265, 0.661059545198632, 0.673701463624442, 0.6867418065808821, 0.7001344030325846, 0.7138310214095595, 0.7277814891887849, 0.7419338311578515, 0.7562344268538685, 0.7706281874255594, 0.7850587519020398, 0.7994687025712461, 0.8137997988786625, 0.8279932289568589, 0.8419898775935613, 0.8557306091452546, 0.8691565636102302, 0.8822094637949476, 0.8948319312459116, 0.9069678083816731, 0.918562484050854, 0.929563219567516, 0.9399194721387828, 0.9495832125054124, 0.958509233567101, 0.9666554467628582, 0.973983163024555, 0.980457355218966, 0.9860468991401204, 0.9907247903079062, 0.9944683340683552, 0.9972593067724559, 0.9990840861293764, 0.999933749181643, 0.9998041367281816, 0.9986958834198897, 0.9966144131646367, 0.9935698998971697, 0.989577194187001, 0.9846557165667207, 0.9788293188571696, 0.9721261151378391, 0.9645782843543945, 0.9562218468647982, 0.9470964174962042, 0.9372449379125427, 0.926713391274493, 0.9155505023070204, 0.9038074259738794, 0.8915374279930457, 0.8787955604129306, 0.8656383354080487, 0.8521234003470511, 0.838309217039239, 0.824254747881472, 0.8100191514107008, 0.7956614895227317, 0.7812404483508779, 0.7668140745140848, 0.7524395281484357, 0.7381728538342794, 0.7240687702285026, 0.710180478913108, 0.6965594926815086, 0.6832554832074298, 0.6703161477815752, 0.6577870945615872, 0.6457117455642387, 0.6341312564371452, 0.6230844518826357, 0.612607775469555, 0.6027352524606694, 0.5934984642040021, 0.5849265325856329, 0.5770461130187533, 0.5698813944478776, 0.5634541048770673, 0.5577835209850536, 0.5528864804667084, 0.548777395837394, 0.5454682685522917]\n",
            "[0, 0.01, 0.02, 0.03, 0.04, 0.05, 0.060000000000000005, 0.07, 0.08, 0.09, 0.09999999999999999, 0.10999999999999999, 0.11999999999999998, 0.12999999999999998, 0.13999999999999999, 0.15, 0.16, 0.17, 0.18000000000000002, 0.19000000000000003, 0.20000000000000004, 0.21000000000000005, 0.22000000000000006, 0.23000000000000007, 0.24000000000000007, 0.25000000000000006, 0.26000000000000006, 0.2700000000000001, 0.2800000000000001, 0.2900000000000001, 0.3000000000000001, 0.3100000000000001, 0.3200000000000001, 0.3300000000000001, 0.34000000000000014, 0.35000000000000014, 0.36000000000000015, 0.37000000000000016, 0.38000000000000017, 0.3900000000000002, 0.4000000000000002, 0.4100000000000002, 0.4200000000000002, 0.4300000000000002, 0.4400000000000002, 0.45000000000000023, 0.46000000000000024, 0.47000000000000025, 0.48000000000000026, 0.49000000000000027, 0.5000000000000002, 0.5100000000000002, 0.5200000000000002, 0.5300000000000002, 0.5400000000000003, 0.5500000000000003, 0.5600000000000003, 0.5700000000000003, 0.5800000000000003, 0.5900000000000003, 0.6000000000000003, 0.6100000000000003, 0.6200000000000003, 0.6300000000000003, 0.6400000000000003, 0.6500000000000004, 0.6600000000000004, 0.6700000000000004, 0.6800000000000004, 0.6900000000000004, 0.7000000000000004, 0.7100000000000004, 0.7200000000000004, 0.7300000000000004, 0.7400000000000004, 0.7500000000000004, 0.7600000000000005, 0.7700000000000005, 0.7800000000000005, 0.7900000000000005, 0.8000000000000005, 0.8100000000000005, 0.8200000000000005, 0.8300000000000005, 0.8400000000000005, 0.8500000000000005, 0.8600000000000005, 0.8700000000000006, 0.8800000000000006, 0.8900000000000006, 0.9000000000000006, 0.9100000000000006, 0.9200000000000006, 0.9300000000000006, 0.9400000000000006, 0.9500000000000006, 0.9600000000000006, 0.9700000000000006, 0.9800000000000006, 0.9900000000000007, 1.0000000000000007, 1.0100000000000007, 1.0200000000000007, 1.0300000000000007, 1.0400000000000007, 1.0500000000000007, 1.0600000000000007, 1.0700000000000007, 1.0800000000000007, 1.0900000000000007, 1.1000000000000008, 1.1100000000000008, 1.1200000000000008, 1.1300000000000008, 1.1400000000000008, 1.1500000000000008, 1.1600000000000008, 1.1700000000000008, 1.1800000000000008, 1.1900000000000008, 1.2000000000000008, 1.2100000000000009, 1.2200000000000009, 1.2300000000000009, 1.2400000000000009, 1.2500000000000009, 1.260000000000001, 1.270000000000001, 1.280000000000001, 1.290000000000001, 1.300000000000001, 1.310000000000001, 1.320000000000001, 1.330000000000001, 1.340000000000001, 1.350000000000001, 1.360000000000001, 1.370000000000001, 1.380000000000001, 1.390000000000001, 1.400000000000001, 1.410000000000001, 1.420000000000001, 1.430000000000001, 1.440000000000001, 1.450000000000001, 1.460000000000001, 1.470000000000001, 1.480000000000001, 1.490000000000001, 1.500000000000001, 1.5100000000000011, 1.5200000000000011, 1.5300000000000011, 1.5400000000000011, 1.5500000000000012, 1.5600000000000012, 1.5700000000000012, 1.5800000000000012, 1.5900000000000012, 1.6000000000000012, 1.6100000000000012, 1.6200000000000012, 1.6300000000000012, 1.6400000000000012, 1.6500000000000012, 1.6600000000000013, 1.6700000000000013, 1.6800000000000013, 1.6900000000000013, 1.7000000000000013, 1.7100000000000013, 1.7200000000000013, 1.7300000000000013, 1.7400000000000013, 1.7500000000000013, 1.7600000000000013, 1.7700000000000014, 1.7800000000000014, 1.7900000000000014, 1.8000000000000014, 1.8100000000000014, 1.8200000000000014, 1.8300000000000014, 1.8400000000000014, 1.8500000000000014, 1.8600000000000014, 1.8700000000000014, 1.8800000000000014, 1.8900000000000015, 1.9000000000000015, 1.9100000000000015, 1.9200000000000015, 1.9300000000000015, 1.9400000000000015, 1.9500000000000015, 1.9600000000000015, 1.9700000000000015, 1.9800000000000015, 1.9900000000000015, 2.0000000000000013, 2.010000000000001, 2.020000000000001, 2.0300000000000007, 2.0400000000000005, 2.0500000000000003, 2.06, 2.07, 2.0799999999999996, 2.0899999999999994, 2.099999999999999, 2.109999999999999, 2.1199999999999988, 2.1299999999999986, 2.1399999999999983, 2.149999999999998, 2.159999999999998, 2.1699999999999977, 2.1799999999999975, 2.1899999999999973, 2.199999999999997, 2.209999999999997, 2.2199999999999966, 2.2299999999999964, 2.239999999999996, 2.249999999999996, 2.259999999999996, 2.2699999999999956, 2.2799999999999954, 2.289999999999995, 2.299999999999995, 2.3099999999999947, 2.3199999999999945, 2.3299999999999943, 2.339999999999994, 2.349999999999994, 2.3599999999999937, 2.3699999999999934, 2.3799999999999932, 2.389999999999993, 2.399999999999993, 2.4099999999999926, 2.4199999999999924, 2.429999999999992, 2.439999999999992, 2.4499999999999917, 2.4599999999999915, 2.4699999999999913, 2.479999999999991, 2.489999999999991, 2.4999999999999907, 2.5099999999999905, 2.5199999999999902, 2.52999999999999, 2.53999999999999, 2.5499999999999896, 2.5599999999999894, 2.569999999999989, 2.579999999999989, 2.5899999999999888, 2.5999999999999885, 2.6099999999999883, 2.619999999999988, 2.629999999999988, 2.6399999999999877, 2.6499999999999875, 2.6599999999999873, 2.669999999999987, 2.679999999999987, 2.6899999999999866, 2.6999999999999864, 2.709999999999986, 2.719999999999986, 2.7299999999999858, 2.7399999999999856, 2.7499999999999853, 2.759999999999985, 2.769999999999985, 2.7799999999999847, 2.7899999999999845, 2.7999999999999843, 2.809999999999984, 2.819999999999984, 2.8299999999999836, 2.8399999999999834, 2.849999999999983, 2.859999999999983, 2.869999999999983, 2.8799999999999826, 2.8899999999999824, 2.899999999999982, 2.909999999999982, 2.9199999999999817, 2.9299999999999815, 2.9399999999999813, 2.949999999999981, 2.959999999999981, 2.9699999999999807, 2.9799999999999804, 2.9899999999999802, 2.99999999999998, 3.00999999999998, 3.0199999999999796, 3.0299999999999794, 3.039999999999979, 3.049999999999979, 3.0599999999999787, 3.0699999999999785, 3.0799999999999783, 3.089999999999978, 3.099999999999978, 3.1099999999999777, 3.1199999999999775, 3.1299999999999772, 3.139999999999977, 3.149999999999977, 3.1599999999999766, 3.1699999999999764, 3.179999999999976, 3.189999999999976, 3.1999999999999758, 3.2099999999999755, 3.2199999999999753, 3.229999999999975, 3.239999999999975, 3.2499999999999747, 3.2599999999999745, 3.2699999999999743, 3.279999999999974, 3.289999999999974, 3.2999999999999736, 3.3099999999999734, 3.319999999999973, 3.329999999999973, 3.3399999999999728, 3.3499999999999726, 3.3599999999999723, 3.369999999999972, 3.379999999999972, 3.3899999999999717, 3.3999999999999715, 3.4099999999999713, 3.419999999999971, 3.429999999999971, 3.4399999999999706, 3.4499999999999704, 3.45999999999997, 3.46999999999997, 3.47999999999997, 3.4899999999999696, 3.4999999999999694, 3.509999999999969, 3.519999999999969, 3.5299999999999687, 3.5399999999999685, 3.5499999999999683, 3.559999999999968, 3.569999999999968, 3.5799999999999677, 3.5899999999999674, 3.5999999999999672, 3.609999999999967, 3.619999999999967, 3.6299999999999666, 3.6399999999999664, 3.649999999999966, 3.659999999999966, 3.6699999999999657, 3.6799999999999655, 3.6899999999999653, 3.699999999999965, 3.709999999999965, 3.7199999999999647, 3.7299999999999645, 3.7399999999999642, 3.749999999999964, 3.759999999999964, 3.7699999999999636, 3.7799999999999634, 3.789999999999963, 3.799999999999963, 3.8099999999999627, 3.8199999999999625, 3.8299999999999623, 3.839999999999962, 3.849999999999962, 3.8599999999999617, 3.8699999999999615, 3.8799999999999613, 3.889999999999961, 3.899999999999961, 3.9099999999999606, 3.9199999999999604, 3.92999999999996, 3.93999999999996, 3.9499999999999598, 3.9599999999999596, 3.9699999999999593, 3.979999999999959, 3.989999999999959, 3.9999999999999587, 4.009999999999959, 4.019999999999959, 4.0299999999999585, 4.039999999999958, 4.049999999999958, 4.059999999999958, 4.069999999999958, 4.079999999999957, 4.089999999999957, 4.099999999999957, 4.109999999999957, 4.119999999999957, 4.129999999999956, 4.139999999999956, 4.149999999999956, 4.159999999999956, 4.1699999999999555, 4.179999999999955, 4.189999999999955, 4.199999999999955, 4.209999999999955, 4.2199999999999545, 4.229999999999954, 4.239999999999954, 4.249999999999954, 4.259999999999954, 4.269999999999953, 4.279999999999953, 4.289999999999953, 4.299999999999953, 4.3099999999999525, 4.319999999999952, 4.329999999999952, 4.339999999999952, 4.349999999999952, 4.3599999999999515, 4.369999999999951, 4.379999999999951, 4.389999999999951, 4.399999999999951, 4.40999999999995, 4.41999999999995, 4.42999999999995, 4.43999999999995, 4.4499999999999496, 4.459999999999949, 4.469999999999949, 4.479999999999949, 4.489999999999949, 4.4999999999999485, 4.509999999999948, 4.519999999999948, 4.529999999999948, 4.539999999999948, 4.549999999999947, 4.559999999999947, 4.569999999999947, 4.579999999999947, 4.589999999999947, 4.599999999999946, 4.609999999999946, 4.619999999999946, 4.629999999999946, 4.6399999999999455, 4.649999999999945, 4.659999999999945, 4.669999999999945, 4.679999999999945, 4.689999999999944, 4.699999999999944, 4.709999999999944, 4.719999999999944, 4.729999999999944, 4.739999999999943, 4.749999999999943, 4.759999999999943, 4.769999999999943, 4.7799999999999425, 4.789999999999942, 4.799999999999942, 4.809999999999942, 4.819999999999942, 4.8299999999999415, 4.839999999999941, 4.849999999999941, 4.859999999999941, 4.869999999999941, 4.87999999999994, 4.88999999999994, 4.89999999999994, 4.90999999999994, 4.9199999999999395, 4.929999999999939, 4.939999999999939, 4.949999999999939, 4.959999999999939, 4.9699999999999385, 4.979999999999938, 4.989999999999938, 4.999999999999938, 5.009999999999938, 5.019999999999937, 5.029999999999937, 5.039999999999937, 5.049999999999937, 5.0599999999999365, 5.069999999999936, 5.079999999999936, 5.089999999999936, 5.099999999999936, 5.1099999999999355, 5.119999999999935, 5.129999999999935, 5.139999999999935, 5.149999999999935, 5.159999999999934, 5.169999999999934, 5.179999999999934, 5.189999999999934, 5.199999999999934, 5.209999999999933, 5.219999999999933, 5.229999999999933, 5.239999999999933, 5.2499999999999325, 5.259999999999932, 5.269999999999932, 5.279999999999932, 5.289999999999932, 5.299999999999931, 5.309999999999931, 5.319999999999931, 5.329999999999931, 5.339999999999931, 5.34999999999993, 5.35999999999993, 5.36999999999993, 5.37999999999993, 5.3899999999999295, 5.399999999999929, 5.409999999999929, 5.419999999999929, 5.429999999999929, 5.4399999999999284, 5.449999999999928, 5.459999999999928, 5.469999999999928, 5.479999999999928, 5.489999999999927, 5.499999999999927, 5.509999999999927, 5.519999999999927, 5.5299999999999265, 5.539999999999926, 5.549999999999926, 5.559999999999926, 5.569999999999926, 5.5799999999999255, 5.589999999999925, 5.599999999999925, 5.609999999999925, 5.619999999999925, 5.629999999999924, 5.639999999999924, 5.649999999999924, 5.659999999999924, 5.6699999999999235, 5.679999999999923, 5.689999999999923, 5.699999999999923, 5.709999999999923, 5.7199999999999225, 5.729999999999922, 5.739999999999922, 5.749999999999922, 5.759999999999922, 5.769999999999921, 5.779999999999921, 5.789999999999921, 5.799999999999921, 5.809999999999921, 5.81999999999992, 5.82999999999992, 5.83999999999992, 5.84999999999992, 5.8599999999999195, 5.869999999999919, 5.879999999999919, 5.889999999999919, 5.899999999999919, 5.909999999999918, 5.919999999999918, 5.929999999999918, 5.939999999999918, 5.949999999999918, 5.959999999999917, 5.969999999999917, 5.979999999999917, 5.989999999999917, 5.9999999999999165, 6.009999999999916, 6.019999999999916, 6.029999999999916, 6.039999999999916, 6.0499999999999154, 6.059999999999915, 6.069999999999915, 6.079999999999915, 6.089999999999915, 6.099999999999914, 6.109999999999914, 6.119999999999914, 6.129999999999914, 6.1399999999999135, 6.149999999999913, 6.159999999999913, 6.169999999999913, 6.179999999999913, 6.1899999999999125, 6.199999999999912, 6.209999999999912, 6.219999999999912, 6.229999999999912, 6.239999999999911, 6.249999999999911, 6.259999999999911, 6.269999999999911, 6.2799999999999105, 6.28999999999991, 6.29999999999991, 6.30999999999991, 6.31999999999991, 6.3299999999999095, 6.339999999999909, 6.349999999999909, 6.359999999999909, 6.369999999999909, 6.379999999999908, 6.389999999999908, 6.399999999999908, 6.409999999999908, 6.419999999999908, 6.429999999999907, 6.439999999999907, 6.449999999999907, 6.459999999999907, 6.4699999999999065, 6.479999999999906, 6.489999999999906, 6.499999999999906, 6.509999999999906, 6.519999999999905, 6.529999999999905, 6.539999999999905, 6.549999999999905, 6.559999999999905, 6.569999999999904, 6.579999999999904, 6.589999999999904, 6.599999999999904, 6.6099999999999035, 6.619999999999903, 6.629999999999903, 6.639999999999903, 6.649999999999903, 6.659999999999902, 6.669999999999902, 6.679999999999902, 6.689999999999902, 6.699999999999902, 6.709999999999901, 6.719999999999901, 6.729999999999901, 6.739999999999901, 6.7499999999999005, 6.7599999999999, 6.7699999999999, 6.7799999999999, 6.7899999999999, 6.7999999999998995, 6.809999999999899, 6.819999999999899, 6.829999999999899, 6.839999999999899, 6.849999999999898, 6.859999999999898, 6.869999999999898, 6.879999999999898, 6.8899999999998975, 6.899999999999897, 6.909999999999897, 6.919999999999897, 6.929999999999897, 6.9399999999998965, 6.949999999999896, 6.959999999999896, 6.969999999999896, 6.979999999999896, 6.989999999999895, 6.999999999999895, 7.009999999999895, 7.019999999999895, 7.0299999999998946, 7.039999999999894, 7.049999999999894, 7.059999999999894, 7.069999999999894, 7.0799999999998935, 7.089999999999893, 7.099999999999893, 7.109999999999893, 7.119999999999893, 7.129999999999892, 7.139999999999892, 7.149999999999892, 7.159999999999892, 7.169999999999892, 7.179999999999891, 7.189999999999891, 7.199999999999891, 7.209999999999891, 7.2199999999998905, 7.22999999999989, 7.23999999999989, 7.24999999999989, 7.25999999999989, 7.269999999999889, 7.279999999999889, 7.289999999999889, 7.299999999999889, 7.309999999999889, 7.319999999999888, 7.329999999999888, 7.339999999999888, 7.349999999999888, 7.3599999999998875, 7.369999999999887, 7.379999999999887, 7.389999999999887, 7.399999999999887, 7.4099999999998865, 7.419999999999886, 7.429999999999886, 7.439999999999886, 7.449999999999886, 7.459999999999885, 7.469999999999885, 7.479999999999885, 7.489999999999885, 7.4999999999998845, 7.509999999999884, 7.519999999999884, 7.529999999999884, 7.539999999999884, 7.5499999999998835, 7.559999999999883, 7.569999999999883, 7.579999999999883, 7.589999999999883, 7.599999999999882, 7.609999999999882, 7.619999999999882, 7.629999999999882, 7.6399999999998816, 7.649999999999881, 7.659999999999881, 7.669999999999881, 7.679999999999881, 7.6899999999998805, 7.69999999999988, 7.70999999999988, 7.71999999999988, 7.72999999999988, 7.739999999999879, 7.749999999999879, 7.759999999999879, 7.769999999999879, 7.779999999999879, 7.789999999999878, 7.799999999999878, 7.809999999999878, 7.819999999999878, 7.8299999999998775, 7.839999999999877, 7.849999999999877, 7.859999999999877, 7.869999999999877, 7.879999999999876, 7.889999999999876, 7.899999999999876, 7.909999999999876, 7.919999999999876, 7.929999999999875, 7.939999999999875, 7.949999999999875, 7.959999999999875, 7.9699999999998745, 7.979999999999874, 7.989999999999874, 7.999999999999874, 8.009999999999874, 8.019999999999873, 8.029999999999873, 8.039999999999873, 8.049999999999873, 8.059999999999873, 8.069999999999872, 8.079999999999872, 8.089999999999872, 8.099999999999872, 8.109999999999872, 8.119999999999871, 8.129999999999871, 8.139999999999871, 8.14999999999987, 8.15999999999987, 8.16999999999987, 8.17999999999987, 8.18999999999987, 8.19999999999987, 8.20999999999987, 8.21999999999987, 8.229999999999869, 8.239999999999869, 8.249999999999869, 8.259999999999868, 8.269999999999868, 8.279999999999868, 8.289999999999868, 8.299999999999867, 8.309999999999867, 8.319999999999867, 8.329999999999867, 8.339999999999867, 8.349999999999866, 8.359999999999866, 8.369999999999866, 8.379999999999866, 8.389999999999866, 8.399999999999865, 8.409999999999865, 8.419999999999865, 8.429999999999865, 8.439999999999864, 8.449999999999864, 8.459999999999864, 8.469999999999864, 8.479999999999864, 8.489999999999863, 8.499999999999863, 8.509999999999863, 8.519999999999863, 8.529999999999863, 8.539999999999862, 8.549999999999862, 8.559999999999862, 8.569999999999862, 8.579999999999862, 8.589999999999861, 8.599999999999861, 8.60999999999986, 8.61999999999986, 8.62999999999986, 8.63999999999986, 8.64999999999986, 8.65999999999986, 8.66999999999986, 8.67999999999986, 8.68999999999986, 8.699999999999859, 8.709999999999859, 8.719999999999859, 8.729999999999858, 8.739999999999858, 8.749999999999858, 8.759999999999858, 8.769999999999857, 8.779999999999857, 8.789999999999857, 8.799999999999857, 8.809999999999857, 8.819999999999856, 8.829999999999856, 8.839999999999856, 8.849999999999856, 8.859999999999856, 8.869999999999855, 8.879999999999855, 8.889999999999855, 8.899999999999855, 8.909999999999854, 8.919999999999854, 8.929999999999854, 8.939999999999854, 8.949999999999854, 8.959999999999853, 8.969999999999853, 8.979999999999853, 8.989999999999853, 8.999999999999853, 9.009999999999852, 9.019999999999852, 9.029999999999852, 9.039999999999852, 9.049999999999851, 9.059999999999851, 9.069999999999851, 9.07999999999985, 9.08999999999985, 9.09999999999985, 9.10999999999985, 9.11999999999985, 9.12999999999985, 9.13999999999985, 9.14999999999985, 9.15999999999985, 9.169999999999849, 9.179999999999849, 9.189999999999849, 9.199999999999848, 9.209999999999848, 9.219999999999848, 9.229999999999848, 9.239999999999847, 9.249999999999847, 9.259999999999847, 9.269999999999847, 9.279999999999847, 9.289999999999846, 9.299999999999846, 9.309999999999846, 9.319999999999846, 9.329999999999846, 9.339999999999845, 9.349999999999845, 9.359999999999845, 9.369999999999845, 9.379999999999844, 9.389999999999844, 9.399999999999844, 9.409999999999844, 9.419999999999844, 9.429999999999843, 9.439999999999843, 9.449999999999843, 9.459999999999843, 9.469999999999843, 9.479999999999842, 9.489999999999842, 9.499999999999842, 9.509999999999842, 9.519999999999841, 9.529999999999841, 9.539999999999841, 9.54999999999984, 9.55999999999984, 9.56999999999984, 9.57999999999984, 9.58999999999984, 9.59999999999984, 9.60999999999984, 9.61999999999984, 9.62999999999984, 9.639999999999839, 9.649999999999839, 9.659999999999838, 9.669999999999838, 9.679999999999838, 9.689999999999838, 9.699999999999838, 9.709999999999837, 9.719999999999837, 9.729999999999837, 9.739999999999837, 9.749999999999837, 9.759999999999836, 9.769999999999836, 9.779999999999836, 9.789999999999836, 9.799999999999836, 9.809999999999835, 9.819999999999835, 9.829999999999835, 9.839999999999835, 9.849999999999834, 9.859999999999834, 9.869999999999834, 9.879999999999834, 9.889999999999834, 9.899999999999833, 9.909999999999833, 9.919999999999833, 9.929999999999833, 9.939999999999833, 9.949999999999832, 9.959999999999832, 9.969999999999832, 9.979999999999832, 9.989999999999831, 9.999999999999831]\n"
          ]
        },
        {
          "output_type": "execute_result",
          "data": {
            "text/plain": [
              "Text(0, 0.5, 'distância x [m]')"
            ]
          },
          "metadata": {},
          "execution_count": 2
        },
        {
          "output_type": "display_data",
          "data": {
            "image/png": "[encoded data removed]",
            "text/plain": [
              "<Figure size 432x288 with 1 Axes>"
            ]
          },
          "metadata": {
            "needs_background": "light"
          }
        }
      ]
    }
  ]
}