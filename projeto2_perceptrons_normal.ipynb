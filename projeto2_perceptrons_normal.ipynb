{
  "nbformat": 4,
  "nbformat_minor": 0,
  "metadata": {
    "colab": {
      "name": "projeto2_perceptrons-normal.ipynb",
      "provenance": [],
      "collapsed_sections": [],
      "include_colab_link": true
    },
    "kernelspec": {
      "display_name": "Python 3",
      "name": "python3"
    }
  },
  "cells": [
    {
      "cell_type": "markdown",
      "metadata": {
        "id": "view-in-github",
        "colab_type": "text"
      },
      "source": [
        "<a href=\"https://colab.research.google.com/github/idrissdeme/Exerc-cos_Python_UERJ_202/blob/main/projeto2_perceptrons_normal.ipynb\" target=\"_parent\"><img src=\"https://colab.research.google.com/assets/colab-badge.svg\" alt=\"Open In Colab\"/></a>"
      ]
    },
    {
      "cell_type": "markdown",
      "metadata": {
        "id": "-5vP_ogRktgm"
      },
      "source": [
        "# Projeto 2 - Perceptrons _ Idrissa Deme e Iasmin \n",
        "\n",
        "Nesse segundo projeto da disciplina de Introdução a Python, vamos construir uma classe de um modelo de Redes Neurais, que é a base das Redes Neurais clássicas e Redes Neurais Profundas (Deep Learning), chamado Peceptron.\n",
        "\n",
        "No mundo atual, o aprendizado de máquina está presente em muitas tecnologias à nossa volta: classificação de bilhões de imagens (por exemplo, Google Images), reconhecimento de fala (por exemplo, a Siri da Apple), recomendação de vídeos no YouTube, entre muitas outras.\n",
        "\n",
        "![Aprendizado Supervisionado](https://miro.medium.com/max/1400/1*eEKb2RxREV6-MtLz2DNWFQ.gif)\n",
        "\n",
        "O Perceptron é uma das arquiteturas de Redes Neurais Artificiais mais simples que existem. Foi inventado em 1957 por Frank Rosenblatt. \n",
        "\n",
        "Para entender como um Perceptron funciona, vamos começar com um esquema do perceptron original, sem muitos detalhes. \n",
        "\n",
        "O Perceptron:\n",
        "* toma alguns inputs, \n",
        "* faz um processamento \n",
        "* retorna um único output.\n",
        "\n",
        "![perceptrons](https://raw.githubusercontent.com/malbouis/Python_intro/master/aulas_2020-1/pics/perceptrons%201.png)\n",
        "\n",
        "Antes de continuar, vamos pensar em um exemplo concreto.\n",
        "\n",
        "Vamos considerar um conjunto de dados de flores Iris, e suas três espécies: Iris-Setosa, Iris-Versicolor e Iris-Virgina, que têm as seguintes características:\n",
        "* comprimento e largura da sépala;\n",
        "* comprimento e largura da pétala.\n",
        "\n",
        "**Iris dataset**: Famoso conjunto de dados com o comprimento e a largura das pétalas e sépalas de 150 flores Iris de 3 espécies diferentes: Iris-Setosa, Iris-Versicolor e Iris-Virginica.\n",
        "\n",
        "![](https://s3.amazonaws.com/assets.datacamp.com/blog_assets/Machine+Learning+R/iris-machinelearning.png)\n",
        "\n",
        "### Funcionamento do Perceptron\n",
        "\n",
        "Podemos pensar no Perceptron como um mecanismo que toma como input as *features* (características) de uma Iris (comprimento e largura da sépala e da pétala) e nos retorna a **classificação** da espécie da flor, ou a maior probabilidade de que seja de uma dada espécie.\n",
        "\n",
        "É importante notar que o Perceptron tem um comportamento **binário**, ou seja, só podemos comparar *duas* espécies de flores com o Perceptron.\n",
        "\n",
        "Na nossa representação simples do perceptron acima, teríamos:\n",
        "\n",
        "![](https://raw.githubusercontent.com/malbouis/Python_intro/master/aulas_2020-1/pics/perceptrons2.png)\n",
        "\n",
        "#### Processamento\n",
        "\n",
        "O Processamento do Perceptron, é onde se dá a decisão do mecanismo. \n",
        "\n",
        "A fórmula para a decisão do neurônio perceptron é relativamente simples:\n",
        "\n",
        "$\n",
        "    output=\\left\\{\n",
        "                \\begin{array}{ll}\n",
        "                  0, se \\sum_j w_j x_j \\leq b\\\\\n",
        "                  1, se \\sum_j w_j x_j > b\\\\\n",
        "                \\end{array}\n",
        "              \\right.\n",
        "  $\n",
        "\n",
        "Essa fórmula é conhecida como *Heaviside stepfunction*.\n",
        "\n"
      ]
    },
    {
      "cell_type": "code",
      "metadata": {
        "colab": {
          "base_uri": "https://localhost:8080/",
          "height": 282
        },
        "id": "9ymCQOFAxHaf",
        "outputId": "863f3118-efad-46a2-fd95-fb97b0f7fa8c"
      },
      "source": [
        "import numpy as np\n",
        "import matplotlib.pyplot as plt\n",
        "\n",
        "x = np.linspace (-1.5,1.5)\n",
        "y = np.heaviside(x,0)\n",
        "\n",
        "plt.plot(x,y)"
      ],
      "execution_count": null,
      "outputs": [
        {
          "data": {
            "text/plain": [
              "[<matplotlib.lines.Line2D at 0x7f4c0c9cdcc0>]"
            ]
          },
          "execution_count": 11,
          "metadata": {
            "tags": []
          },
          "output_type": "execute_result"
        },
        {
          "data": {
            "image/png": "[encoded data removed]",
            "text/plain": [
              "<Figure size 432x288 with 1 Axes>"
            ]
          },
          "metadata": {
            "tags": []
          },
          "output_type": "display_data"
        }
      ]
    },
    {
      "cell_type": "markdown",
      "metadata": {
        "id": "9EV3Wrapyk2t"
      },
      "source": [
        "A fórmula de decisão do neurônio (perceptron), também é chamada de **função de ativação**.\n",
        "\n",
        "Podemos reescrevê-la da seguinte forma:\n",
        "\n",
        "$\n",
        "    ativação=\\left\\{\n",
        "                \\begin{array}{ll}\n",
        "                  1, se \\sum_j w_j x_j + b > 0\\\\\n",
        "                  0, se \\sum_j w_j x_j + b \\leq 0\\\\\n",
        "                \\end{array}\n",
        "              \\right.\n",
        "  $\n",
        "\n",
        "Podemos incorporar b no somatório da primeira linha da equação acima, considerando: $w_0=b$ e $x_0 = 1$. Sendo assim, a função de ativação pode ser reescrita como:\n",
        "\n",
        "$\n",
        "    f(x)=\\left\\{\n",
        "                \\begin{array}{ll}\n",
        "                  1, se \\sum_{j=0}^{N} w_j x_j > 0\\\\\n",
        "                  0, para \\; o \\; resto\\\\\n",
        "                \\end{array}\n",
        "              \\right.\n",
        "  $\n",
        "\n",
        "E assim incorporamos o $b$, que também é conhecido como **bias**, como  peso $w_0 = b$ do input $x_0=1$ do nosso peceptron, que vai tomando corpo:\n",
        "\n",
        "![](https://raw.githubusercontent.com/malbouis/Python_intro/master/aulas_2020-1/pics/perceptrons4.png)\n",
        "\n",
        "\n",
        "Por simplicidade, usaremos a função de ativação de Heaviside, entretanto essa função pode variar. Pode ser, por exemplo, uma função [*sigmoide*](https://pt.wikipedia.org/wiki/Fun%C3%A7%C3%A3o_sigmoide)."
      ]
    },
    {
      "cell_type": "markdown",
      "metadata": {
        "id": "F10ZKPulxGNt"
      },
      "source": [
        "## Como se dá a classificação das Iris? Ou, como os perceptrons aprendem?\n",
        "\n",
        "\n",
        "O primeiro passo é **treinar** o nosso Perceptron: em um conjunto de dados em que **sabemos as espécies das Iris a priori**;\n",
        "\n",
        "### Treino\n",
        "\n",
        "Para cada **conjunto de inputs** (features):\n",
        "   1. Compararamos o output ($f(x)$, a classificação do nosso perceptron, que chamaremos de **prediction**) com a espécie real da flor (chamaremos de y e identificaremos como **label**);\n",
        "   1. Baseados no **resultado da comparação entre prediction e label**, devemos **ajustar os pesos** caso o perceptron não esteja acertando corretamente a classificação.\n",
        "   1. O último passo é **testar** o nosso perceptron: em um outro conjunto de dados, comparamos a classificação fornecida pelo perceptron com a real espécie da flor (**label**);\n",
        "\n",
        "### Prediction\n",
        "\n",
        "A predição do perceptron é calculada pela função de ativação. No nosso exemplo, ela é a *Heaviside Stepfunction*, que escrevemos acima:\n",
        "\n",
        "$\n",
        "    f(x)=\\left\\{\n",
        "                \\begin{array}{ll}\n",
        "                  1, se \\sum_{j=0}^{N} w_j x_j > 0\\\\\n",
        "                  0, para \\; o \\; resto\\\\\n",
        "                \\end{array}\n",
        "              \\right.\n",
        "  $\n",
        "\n",
        "* Note que tanto os inputs quanto os pesos são matrizes (ou arrays), logo o produto do somatório é um produto matricial (ou escalar). *Dica: o numpy tem uma função [numpy.dot](https://numpy.org/doc/stable/reference/generated/numpy.dot.html) que implementa produto escalar.* \n",
        "\n",
        "* Note também que na nossa construção do perceptron, o primeiro elemento do array dos inputs é o número 1 e o primeiro elemento do array dos pesos é o b (**bias**).\n",
        "\n",
        "### Comparação entre prediction / label e ajuste do perceptron\n",
        "\n",
        "Consideremos que o nosso perceptron teve um output, $f(x)$ e que o output esperado (o real, do qual nós temos a informação a priori, o label) é $y$.\n",
        "\n",
        "A comparação entre o output esperado e o obtido é simplesmente:\n",
        "\n",
        "`e = output_esperado - output_obtido`\n",
        "\n",
        "ou\n",
        "\n",
        "$e = y - f(x)$\n",
        "\n",
        "O que queremos é rodar o perceptron sobre os inputs até que a diferença acima (ou o erro na predição) seja o menor possível.\n",
        "\n",
        "A melhor forma de fazer isso é corrigindo os pesos de cada input, pelo erro de predição.\n",
        "\n",
        "### Ajuste dos pesos\n",
        "\n",
        "O ajuste dos pesos é dado por:\n",
        "\n",
        "$w \\rightarrow w + lr*e*x$\n",
        "\n",
        "onde \n",
        "\n",
        "`lr`: learning rate\n",
        "\n",
        "`e`: erro do output em relação ao label\n",
        "\n",
        "`x`: conjunto de inputs (features)\n",
        "\n",
        "\n",
        "Essa atualização dos pesos é feita de forma iterativa e o número de iterações é determinado pelo que chamamos de **threshold**, também conhecido como **época**.\n",
        "\n",
        "\n",
        "## PROJETO\n",
        "\n",
        "1. Criar uma `Classe` Perceptron em Python. Vocês podem seguir o esqueleto de Classe apresentado abaixo.\n",
        "\n",
        "2. Aplique essa classe nos dados das flores Iris para determinar se uma Iris com um certo comprimento e largura da **pétala** é uma Iris Setosa.\n",
        "\n",
        "3. Compare o resultado da sua classe com a classe Peceptron do módulo do scikit-learn `linear_model`.\n",
        "\n",
        "4. Você pode pensar em algum outro exemplo em que possa aplicar o modelo do Perceptron? Quando esse modelo falha?"
      ]
    },
    {
      "cell_type": "markdown",
      "metadata": {
        "id": "T60c_C3hGYph"
      },
      "source": [
        "## PROJETO\n",
        "\n",
        "1. Criando uma `Classe` Perceptron em Python. Vocês podem seguir o esqueleto de Classe apresentado abaixo."
      ]
    },
    {
      "cell_type": "code",
      "metadata": {
        "id": "6JDBy4GmuHeT"
      },
      "source": [
        "## CLASSE PERCEPTRON\n",
        "import numpy as np\n",
        "\n",
        "class MyPerceptron():\n",
        "\n",
        "    def __init__(self, no_of_inputs, threshold=100, learning_rate=0.01):\n",
        "        '''\n",
        "        método de inicialização que tem os seguintes atributos:\n",
        "        no_of_inputs: número de features passadas como input ao perceptron\n",
        "        threshold: número de iterações de atualização do peso\n",
        "        learning_rate: taxa com a qual os pesos são atualizados a cada iteração\n",
        "        weights: inicialização dos pesos (dica: pode inicializar com método np.zeros). Não se esquecer que o vetor dos pesos\n",
        "        terá no_of_inputs + 1 elementos por conta do bias que é o primeiro elemento.\n",
        "        '''\n",
        "        self.threshold = threshold\n",
        "        self.learning_rate = learning_rate\n",
        "        self.weights = np.zeros(no_of_inputs + 1) # no_of_inputs + 1 elementos pois o bias é o primeiro elemento\n",
        "           \n",
        "    def predict(self, inputs):\n",
        "      '''\n",
        "      método de implementação da função de ativação.\n",
        "      inputs: array com o conjunto de inputs (features). No projeto pedimos que considerassem o comprimento e largura da pétala da Iris.\n",
        "      Não se esquecer que o produto da função de ativação é um produto escalar e pode ser calculado pelo método np.dot\n",
        "      '''\n",
        "      S = np.dot( inputs, self.weights[1:] )  +  self.weights[0]    # Usando o método np.dot para o produto escalar\n",
        "      #S= sigmoid(S)    \n",
        "      if S > 0 :\n",
        "        return 1\n",
        "      else:\n",
        "        return 0\n",
        "\n",
        "    def train(self, training_inputs, labels):\n",
        "      '''\n",
        "      método de treino. É aqui que os pesos são atualizados um certo número de vezes (determinado pelo valor do threshold).\n",
        "      Nesse método é feita a comparação entre o resultado da função de ativação (predição) e\n",
        "      o resultado esperado (label).\n",
        "      O método deve atualizar tanto os pesos quanto o bias (lembre que o bias é o primeiro valor do vetor peso e tem input 1.)\n",
        "      A atualização é feita iterativamente um número (threshold) de vezes.\n",
        "      '''\n",
        "      i = 0;\n",
        "      while i < self.threshold :\n",
        "        for inputs, label in zip(training_inputs, labels):\n",
        "            prediction = self.predict(inputs)\n",
        "            #Fazendo a comparação entre o resultado da função de ativação (predição) e o resultado esperado (label).\n",
        "            e = label - prediction\n",
        "            self.weights[1:] += self.learning_rate * e * inputs\n",
        "            self.weights[0] += self.learning_rate * e\n",
        "        i = i+1   "
      ],
      "execution_count": 2,
      "outputs": []
    },
    {
      "cell_type": "markdown",
      "metadata": {
        "id": "uLjDgWOhGjf9"
      },
      "source": [
        "2. Aplicando a classe nos dados das flores Iris para determinar se uma Iris com um certo comprimento e largura da **pétala** é uma Iris Setosa."
      ]
    },
    {
      "cell_type": "code",
      "metadata": {
        "colab": {
          "base_uri": "https://localhost:8080/"
        },
        "id": "yrqxx1RXgRlH",
        "outputId": "888cf771-9127-41c0-c420-6eec6a2ba50f"
      },
      "source": [
        "import numpy as np\n",
        "from sklearn.datasets import load_iris\n",
        "from sklearn.linear_model import Perceptron\n",
        "\n",
        "iris = load_iris() # returns a dictionary-like object\n",
        "# características (features) das flores Iris:\n",
        "print(iris.target_names)    # target = label\n",
        "print(iris.feature_names)\n",
        "\n",
        "# Pelo primeiro print acima, as features são: 0: sepal length, 1: sepal width, 2: petal length, 3: petal width\n",
        "# Vamos selecionar somente as features petal length e petal width:\n",
        "X = iris.data[:, (2,3)]  # nos retorna um array com 150 conjuntos de inputs\n",
        "#len(iris.data[:,(2,3)])\n",
        "y = (iris.target == 0).astype(int)  # label = iris setosa. Retorna uma lista com os labels da Iris-Setosa. 0: não, 1: sim\n",
        "print(\"iris setosa classification: \", y)\n",
        "\n",
        "perceptron_clf = Perceptron()      # dois inputs: comprimento e largura da pétala\n",
        "perceptron_clf.fit(X,y)            # Train\n",
        "\n",
        "y_pred = perceptron_clf.predict([[1,0.5]])  # predict\n",
        "print(y_pred)"
      ],
      "execution_count": 3,
      "outputs": [
        {
          "output_type": "stream",
          "name": "stdout",
          "text": [
            "['setosa' 'versicolor' 'virginica']\n",
            "['sepal length (cm)', 'sepal width (cm)', 'petal length (cm)', 'petal width (cm)']\n",
            "iris setosa classification:  [1 1 1 1 1 1 1 1 1 1 1 1 1 1 1 1 1 1 1 1 1 1 1 1 1 1 1 1 1 1 1 1 1 1 1 1 1\n",
            " 1 1 1 1 1 1 1 1 1 1 1 1 1 0 0 0 0 0 0 0 0 0 0 0 0 0 0 0 0 0 0 0 0 0 0 0 0\n",
            " 0 0 0 0 0 0 0 0 0 0 0 0 0 0 0 0 0 0 0 0 0 0 0 0 0 0 0 0 0 0 0 0 0 0 0 0 0\n",
            " 0 0 0 0 0 0 0 0 0 0 0 0 0 0 0 0 0 0 0 0 0 0 0 0 0 0 0 0 0 0 0 0 0 0 0 0 0\n",
            " 0 0]\n",
            "[1]\n"
          ]
        }
      ]
    },
    {
      "cell_type": "code",
      "metadata": {
        "colab": {
          "base_uri": "https://localhost:8080/"
        },
        "id": "fW5G6thqu9JX",
        "outputId": "8b36d1b5-1a12-4c28-849e-72c8c64757d4"
      },
      "source": [
        "# Modelo de como deve funcionar com a classe criada nesse projeto\n",
        "\n",
        "perceptron = MyPerceptron(2)\n",
        "X = iris.data[:, (2,3)]             # inputs\n",
        "y = (iris.target == 0).astype(int)  # label = iris setosa. Retorna uma lista com os labels da Iris-Setosa. 0: não, 1: sim\n",
        "#print(y)\n",
        "\n",
        "treino = perceptron.train(X,y)\n",
        "\n",
        "pred = perceptron.predict([1,0.5]) \n",
        "if pred == 1:\n",
        "  print('É uma Iris Setosa')\n",
        "else:\n",
        "  print('NÃO É uma Iris Setosa')"
      ],
      "execution_count": 18,
      "outputs": [
        {
          "output_type": "stream",
          "name": "stdout",
          "text": [
            "É uma Iris Setosa\n"
          ]
        }
      ]
    },
    {
      "cell_type": "markdown",
      "metadata": {
        "id": "NPh9AIHXJHnW"
      },
      "source": [
        "3. Comparando o resultado da sua classe com a classe Peceptron do módulo do scikit-learn `linear_model`."
      ]
    },
    {
      "cell_type": "code",
      "metadata": {
        "colab": {
          "base_uri": "https://localhost:8080/"
        },
        "id": "Cn6mcxi5JSol",
        "outputId": "040072cd-945a-419c-f4a0-178d0f81d219"
      },
      "source": [
        "from sklearn.linear_model import Perceptron\n",
        "X = iris.data[:, (2,3)] \n",
        "y = (iris.target == 0).astype(int)\n",
        "perceptron_clf = Perceptron()\n",
        "perceptron_clf.fit(X,y)      # Train\n",
        "y_pred = perceptron_clf.predict([[1,0.5]])  # predict  4, 0.5  -   1.4, 0.2\n",
        "#print(y_pred)\n",
        "\n",
        "if y_pred == pred:\n",
        "  print('Nosso Perceptron e o do sklearn são COMPATÍVEIS')\n",
        "else:\n",
        "  print('Nosso Perceptron e o do sklearn são INCOMPATÍÍVEIS')"
      ],
      "execution_count": 7,
      "outputs": [
        {
          "output_type": "stream",
          "name": "stdout",
          "text": [
            "Nosso Perceptron e o do sklearn são COMPATÍVEIS\n"
          ]
        }
      ]
    },
    {
      "cell_type": "markdown",
      "metadata": {
        "id": "CqTBmYZ-JMA2"
      },
      "source": [
        "4. Você pode pensar em algum outro exemplo em que possa aplicar o modelo do Perceptron? Quando esse modelo falha?\n",
        "\n",
        "Se o conjunto for linearmente separável (resultando por exemplo num booleano -and, or,...-), o perceptron consegue classificar. Podemos usar nosso percetron por exemplo para saber se tem um carro ou não numa garagem. \n",
        "\n",
        "O modelo percetron falha quando o padrão não é linearmente separável (um XOR por exemplo)"
      ]
    },
    {
      "cell_type": "markdown",
      "metadata": {
        "id": "ZwHa1JfYPnag"
      },
      "source": [
        "No exemplo acima, usamos somente dois inputs: o comprimento e a largura da pétala. \n",
        "* Você pode expandir o código para considerar também o comprimento e largura da sépala como features;\n",
        "* Você pode separar a amostra das Iris em duas: uma para treino e outra para teste. O scikit-learn tem um método que faz isso pra você: o `train_test_slit`; Compare cada uma das Iris de teste com o label ==> coloque o resultado em um gráfico (classificação versus label);\n",
        "* **Ponto extra** para quem implementar a função de ativação sigmoid no lugar da Heaviside e/ou melhorar a estimativa do erro."
      ]
    },
    {
      "cell_type": "markdown",
      "metadata": {
        "id": "5wtlir3L5elL"
      },
      "source": [
        "Expandindo o código para considerar também o comprimento e largura da sépala como features;"
      ]
    },
    {
      "cell_type": "code",
      "metadata": {
        "colab": {
          "base_uri": "https://localhost:8080/"
        },
        "id": "fyPD4xOx5nKt",
        "outputId": "16e65ff3-12f4-4b09-de47-a7dc6978c516"
      },
      "source": [
        "perceptron = MyPerceptron(4)\n",
        "X = iris.data[:, (0,1,2,3)]             # inputs\n",
        "y = (iris.target == 0).astype(int)  # label = iris setosa. Retorna uma lista com os labels da Iris-Setosa. 0: não, 1: sim\n",
        "#print(y)\n",
        "\n",
        "treino = perceptron.train(X,y)\n",
        "#pred = perceptron.predict([1, 0.5, 1, 0.5]) # não dá iris setos\n",
        "pred = perceptron.predict([4, 0.5,1.4, 0.2]) #   4, 0.5  -   1.4, 0.2 --Dá iris setosa\n",
        "if pred == 1:\n",
        "  print('É uma Iris Setosa')\n",
        "else:\n",
        "  print('NÃO É uma Iris Setosa')"
      ],
      "execution_count": 9,
      "outputs": [
        {
          "output_type": "stream",
          "name": "stdout",
          "text": [
            "É uma Iris Setosa\n"
          ]
        }
      ]
    },
    {
      "cell_type": "markdown",
      "metadata": {
        "id": "9BFtFXoR-MWB"
      },
      "source": [
        "Você pode separar a amostra das Iris em duas: uma para treino e outra para teste. O scikit-learn tem um método que faz isso pra você: o train_test_slit; Compare cada uma das Iris de teste com o label ==> coloque o resultado em um gráfico (classificação versus label);"
      ]
    },
    {
      "cell_type": "code",
      "metadata": {
        "colab": {
          "base_uri": "https://localhost:8080/"
        },
        "id": "aP_vsNsB-NnI",
        "outputId": "2e66a797-6a83-4ede-a19c-5788e9ef7107"
      },
      "source": [
        "perceptron = MyPerceptron(2)\n",
        "\n",
        "from sklearn.model_selection import train_test_split\n",
        "import matplotlib.pyplot as plt\n",
        "\n",
        "X = iris.data[:, (2,3)]             # inputs\n",
        "y = (iris.target == 0).astype(int)  # label = iris setosa. Retorna uma lista com os labels da Iris-Setosa. 0: não, 1: sim\n",
        "#print(y)\n",
        "\n",
        "X_train, X_test, y_train, y_test = train_test_split(X, y, test_size=0.25, random_state=1)\n",
        "treino = perceptron.train(X_train,y_train)\n",
        "#print(t)\n",
        "pred = perceptron.predict(X_test[3])  #   testando comparando com um elemento de X_test\n",
        "\n",
        "if pred == 1:\n",
        "  print('É uma Iris Setosa')\n",
        "else:\n",
        "  print('NÃO É uma Iris Setosa')"
      ],
      "execution_count": 47,
      "outputs": [
        {
          "output_type": "stream",
          "name": "stdout",
          "text": [
            "É uma Iris Setosa\n"
          ]
        }
      ]
    },
    {
      "cell_type": "code",
      "metadata": {
        "id": "LXIndkjy97lm"
      },
      "source": [
        "#X_test\n",
        "y_resposta = []\n",
        "\n",
        "for i in X_test:\n",
        "  pred = perceptron.predict(i)\n",
        "  y_resposta.append(pred)"
      ],
      "execution_count": 19,
      "outputs": []
    },
    {
      "cell_type": "code",
      "metadata": {
        "colab": {
          "base_uri": "https://localhost:8080/",
          "height": 318
        },
        "id": "VbRB0EigC1ZI",
        "outputId": "930187ba-52c5-4f6e-f54b-e35296dd66b6"
      },
      "source": [
        "plt.scatter(y_resposta,y_test)\n",
        "plt.title(\"Classificação x Label\" )\n",
        "plt.xlabel('Classificação')\n",
        "plt.ylabel('Label')\n",
        "plt.show"
      ],
      "execution_count": 35,
      "outputs": [
        {
          "output_type": "execute_result",
          "data": {
            "text/plain": [
              "<function matplotlib.pyplot.show>"
            ]
          },
          "metadata": {},
          "execution_count": 35
        },
        {
          "output_type": "display_data",
          "data": {
            "image/png": "[encoded data removed]",
            "text/plain": [
              "<Figure size 432x288 with 1 Axes>"
            ]
          },
          "metadata": {}
        }
      ]
    },
    {
      "cell_type": "code",
      "metadata": {
        "id": "HrBorQ0-EPQ2"
      },
      "source": [
        "length=[]\n",
        "width =[]\n",
        "\n",
        "for i in X_test:\n",
        "  length.append(i[0])\n",
        "  width.append(i[1])"
      ],
      "execution_count": 22,
      "outputs": []
    },
    {
      "cell_type": "code",
      "metadata": {
        "id": "wfxrjDP8FyiQ"
      },
      "source": [
        "import pandas as pd\n",
        "df= pd.DataFrame({\"length\":length, \"width\":width, \"y_resposta\":y_resposta, \"y_test\":y_test})\n",
        "df"
      ],
      "execution_count": null,
      "outputs": []
    },
    {
      "cell_type": "code",
      "metadata": {
        "colab": {
          "base_uri": "https://localhost:8080/",
          "height": 302
        },
        "id": "fOty5mrNHAWN",
        "outputId": "c28ac1b7-bec5-47ce-9c6b-d7078d551873"
      },
      "source": [
        "#Classificação da resposta\n",
        "import seaborn as sns\n",
        "sns.set_theme()\n",
        "\n",
        "#sns.scatterplot(data=df,x=\"length\",y=\"width\",hue=\"y_resposta\", style=\"y_test\")\n",
        "sns.scatterplot(data=df,x=\"length\",y=\"width\",hue=\"y_resposta\")\n"
      ],
      "execution_count": 30,
      "outputs": [
        {
          "output_type": "execute_result",
          "data": {
            "text/plain": [
              "<matplotlib.axes._subplots.AxesSubplot at 0x7f2643476190>"
            ]
          },
          "metadata": {},
          "execution_count": 30
        },
        {
          "output_type": "display_data",
          "data": {
            "image/png": "[encoded data removed]",
            "text/plain": [
              "<Figure size 432x288 with 1 Axes>"
            ]
          },
          "metadata": {}
        }
      ]
    },
    {
      "cell_type": "code",
      "metadata": {
        "colab": {
          "base_uri": "https://localhost:8080/",
          "height": 302
        },
        "id": "5hT9KabaIupK",
        "outputId": "b30c416c-5196-4862-f296-02c6cb41d1b6"
      },
      "source": [
        "#Classificação dos dados de test\n",
        "sns.scatterplot(data=df,x=\"length\",y=\"width\",hue=\"y_test\")"
      ],
      "execution_count": 29,
      "outputs": [
        {
          "output_type": "execute_result",
          "data": {
            "text/plain": [
              "<matplotlib.axes._subplots.AxesSubplot at 0x7f26435a0710>"
            ]
          },
          "metadata": {},
          "execution_count": 29
        },
        {
          "output_type": "display_data",
          "data": {
            "image/png": "[encoded data removed]",
            "text/plain": [
              "<Figure size 432x288 with 1 Axes>"
            ]
          },
          "metadata": {}
        }
      ]
    },
    {
      "cell_type": "code",
      "metadata": {
        "colab": {
          "base_uri": "https://localhost:8080/",
          "height": 394
        },
        "id": "cVJHBqF4JNkT",
        "outputId": "55b6a500-23cd-405e-ac11-3fe5707278c2"
      },
      "source": [
        "# colocando um ao lado do outro\n",
        "f = plt.figure(figsize=(16, 6))\n",
        "gs = f.add_gridspec(1, 2)\n",
        "\n",
        "with sns.axes_style(\"white\"):\n",
        "    ax = f.add_subplot(gs[0, 0])\n",
        "    sns.scatterplot(data=df,x=\"length\",y=\"width\",hue=\"y_resposta\")\n",
        "\n",
        "with sns.axes_style(\"white\"):\n",
        "    ax = f.add_subplot(gs[0, 1])\n",
        "    sns.scatterplot(data=df,x=\"length\",y=\"width\",hue=\"y_test\")"
      ],
      "execution_count": 34,
      "outputs": [
        {
          "output_type": "display_data",
          "data": {
            "image/png": "[encoded data removed]",
            "text/plain": [
              "<Figure size 1152x432 with 2 Axes>"
            ]
          },
          "metadata": {}
        }
      ]
    },
    {
      "cell_type": "code",
      "metadata": {
        "colab": {
          "base_uri": "https://localhost:8080/"
        },
        "id": "c_fWmr4uO2be",
        "outputId": "f3ee7c6a-d858-4d88-c8b5-b1666be62b1b"
      },
      "source": [
        "# Usando a matriz de confusão para comparar\n",
        "from sklearn.metrics import confusion_matrix \n",
        "print(confusion_matrix(y_resposta,y_test))\n"
      ],
      "execution_count": 38,
      "outputs": [
        {
          "output_type": "stream",
          "name": "stdout",
          "text": [
            "[[23  0]\n",
            " [ 0 15]]\n"
          ]
        }
      ]
    },
    {
      "cell_type": "code",
      "metadata": {
        "colab": {
          "base_uri": "https://localhost:8080/",
          "height": 454
        },
        "id": "u8PxzJmIPbFj",
        "outputId": "560af66a-2146-4587-d56b-8e1e3272d68d"
      },
      "source": [
        "#Do modelo sklearn\n",
        "from sklearn.metrics import plot_confusion_matrix\n",
        "fig=plot_confusion_matrix(perceptron_clf,X_test,y_test)\n",
        "\n",
        "fig.figure_.suptitle(\"Confusion Matrix\")\n",
        "plt.figure(figsize=(10,10))\n",
        "plt.show()"
      ],
      "execution_count": 77,
      "outputs": [
        {
          "output_type": "stream",
          "name": "stderr",
          "text": [
            "/usr/local/lib/python3.7/dist-packages/sklearn/utils/deprecation.py:87: FutureWarning: Function plot_confusion_matrix is deprecated; Function `plot_confusion_matrix` is deprecated in 1.0 and will be removed in 1.2. Use one of the class methods: ConfusionMatrixDisplay.from_predictions or ConfusionMatrixDisplay.from_estimator.\n",
            "  warnings.warn(msg, category=FutureWarning)\n"
          ]
        },
        {
          "output_type": "error",
          "ename": "ValueError",
          "evalue": "ignored",
          "traceback": [
            "\u001b[0;31m---------------------------------------------------------------------------\u001b[0m",
            "\u001b[0;31mValueError\u001b[0m                                Traceback (most recent call last)",
            "\u001b[0;32m<ipython-input-77-6bd8f71a2f71>\u001b[0m in \u001b[0;36m<module>\u001b[0;34m()\u001b[0m\n\u001b[1;32m      1\u001b[0m \u001b[0;31m#Do modelo sklearn\u001b[0m\u001b[0;34m\u001b[0m\u001b[0;34m\u001b[0m\u001b[0;34m\u001b[0m\u001b[0m\n\u001b[1;32m      2\u001b[0m \u001b[0;32mfrom\u001b[0m \u001b[0msklearn\u001b[0m\u001b[0;34m.\u001b[0m\u001b[0mmetrics\u001b[0m \u001b[0;32mimport\u001b[0m \u001b[0mplot_confusion_matrix\u001b[0m\u001b[0;34m\u001b[0m\u001b[0;34m\u001b[0m\u001b[0m\n\u001b[0;32m----> 3\u001b[0;31m \u001b[0mfig\u001b[0m\u001b[0;34m=\u001b[0m\u001b[0mplot_confusion_matrix\u001b[0m\u001b[0;34m(\u001b[0m\u001b[0mtreino\u001b[0m\u001b[0;34m,\u001b[0m\u001b[0mX_test\u001b[0m\u001b[0;34m,\u001b[0m\u001b[0my_test\u001b[0m\u001b[0;34m)\u001b[0m\u001b[0;34m\u001b[0m\u001b[0;34m\u001b[0m\u001b[0m\n\u001b[0m\u001b[1;32m      4\u001b[0m \u001b[0;34m\u001b[0m\u001b[0m\n\u001b[1;32m      5\u001b[0m \u001b[0mfig\u001b[0m\u001b[0;34m.\u001b[0m\u001b[0mfigure_\u001b[0m\u001b[0;34m.\u001b[0m\u001b[0msuptitle\u001b[0m\u001b[0;34m(\u001b[0m\u001b[0;34m\"Confusion Matrix\"\u001b[0m\u001b[0;34m)\u001b[0m\u001b[0;34m\u001b[0m\u001b[0;34m\u001b[0m\u001b[0m\n",
            "\u001b[0;32m/usr/local/lib/python3.7/dist-packages/sklearn/utils/deprecation.py\u001b[0m in \u001b[0;36mwrapped\u001b[0;34m(*args, **kwargs)\u001b[0m\n\u001b[1;32m     86\u001b[0m         \u001b[0;32mdef\u001b[0m \u001b[0mwrapped\u001b[0m\u001b[0;34m(\u001b[0m\u001b[0;34m*\u001b[0m\u001b[0margs\u001b[0m\u001b[0;34m,\u001b[0m \u001b[0;34m**\u001b[0m\u001b[0mkwargs\u001b[0m\u001b[0;34m)\u001b[0m\u001b[0;34m:\u001b[0m\u001b[0;34m\u001b[0m\u001b[0;34m\u001b[0m\u001b[0m\n\u001b[1;32m     87\u001b[0m             \u001b[0mwarnings\u001b[0m\u001b[0;34m.\u001b[0m\u001b[0mwarn\u001b[0m\u001b[0;34m(\u001b[0m\u001b[0mmsg\u001b[0m\u001b[0;34m,\u001b[0m \u001b[0mcategory\u001b[0m\u001b[0;34m=\u001b[0m\u001b[0mFutureWarning\u001b[0m\u001b[0;34m)\u001b[0m\u001b[0;34m\u001b[0m\u001b[0;34m\u001b[0m\u001b[0m\n\u001b[0;32m---> 88\u001b[0;31m             \u001b[0;32mreturn\u001b[0m \u001b[0mfun\u001b[0m\u001b[0;34m(\u001b[0m\u001b[0;34m*\u001b[0m\u001b[0margs\u001b[0m\u001b[0;34m,\u001b[0m \u001b[0;34m**\u001b[0m\u001b[0mkwargs\u001b[0m\u001b[0;34m)\u001b[0m\u001b[0;34m\u001b[0m\u001b[0;34m\u001b[0m\u001b[0m\n\u001b[0m\u001b[1;32m     89\u001b[0m \u001b[0;34m\u001b[0m\u001b[0m\n\u001b[1;32m     90\u001b[0m         \u001b[0mwrapped\u001b[0m\u001b[0;34m.\u001b[0m\u001b[0m__doc__\u001b[0m \u001b[0;34m=\u001b[0m \u001b[0mself\u001b[0m\u001b[0;34m.\u001b[0m\u001b[0m_update_doc\u001b[0m\u001b[0;34m(\u001b[0m\u001b[0mwrapped\u001b[0m\u001b[0;34m.\u001b[0m\u001b[0m__doc__\u001b[0m\u001b[0;34m)\u001b[0m\u001b[0;34m\u001b[0m\u001b[0;34m\u001b[0m\u001b[0m\n",
            "\u001b[0;32m/usr/local/lib/python3.7/dist-packages/sklearn/metrics/_plot/confusion_matrix.py\u001b[0m in \u001b[0;36mplot_confusion_matrix\u001b[0;34m(estimator, X, y_true, labels, sample_weight, normalize, display_labels, include_values, xticks_rotation, values_format, cmap, ax, colorbar)\u001b[0m\n\u001b[1;32m    561\u001b[0m \u001b[0;34m\u001b[0m\u001b[0m\n\u001b[1;32m    562\u001b[0m     \u001b[0;32mif\u001b[0m \u001b[0;32mnot\u001b[0m \u001b[0mis_classifier\u001b[0m\u001b[0;34m(\u001b[0m\u001b[0mestimator\u001b[0m\u001b[0;34m)\u001b[0m\u001b[0;34m:\u001b[0m\u001b[0;34m\u001b[0m\u001b[0;34m\u001b[0m\u001b[0m\n\u001b[0;32m--> 563\u001b[0;31m         \u001b[0;32mraise\u001b[0m \u001b[0mValueError\u001b[0m\u001b[0;34m(\u001b[0m\u001b[0;34m\"plot_confusion_matrix only supports classifiers\"\u001b[0m\u001b[0;34m)\u001b[0m\u001b[0;34m\u001b[0m\u001b[0;34m\u001b[0m\u001b[0m\n\u001b[0m\u001b[1;32m    564\u001b[0m \u001b[0;34m\u001b[0m\u001b[0m\n\u001b[1;32m    565\u001b[0m     \u001b[0my_pred\u001b[0m \u001b[0;34m=\u001b[0m \u001b[0mestimator\u001b[0m\u001b[0;34m.\u001b[0m\u001b[0mpredict\u001b[0m\u001b[0;34m(\u001b[0m\u001b[0mX\u001b[0m\u001b[0;34m)\u001b[0m\u001b[0;34m\u001b[0m\u001b[0;34m\u001b[0m\u001b[0m\n",
            "\u001b[0;31mValueError\u001b[0m: plot_confusion_matrix only supports classifiers"
          ]
        }
      ]
    },
    {
      "cell_type": "code",
      "metadata": {
        "colab": {
          "base_uri": "https://localhost:8080/",
          "height": 254
        },
        "id": "MGsg17EYX8Jn",
        "outputId": "e5197ddd-e7e8-4fff-f78f-95434ca87892"
      },
      "source": [
        "# de nosso modelo\n",
        "#df_confusion = pd.crosstab(y_test, y_resposta,margins=True)\n",
        "y_actu = pd.Series(y_test, name='True')\n",
        "y_pred = pd.Series(y_resposta, name='Predicted')\n",
        "#df_confusion = pd.crosstab(y_test, y_resposta, rownames=['True'], colnames=['Predicted'], margins=True)\n",
        "df_confusion = pd.crosstab(y_actu, y_pred, rownames=['True Label'], colnames=['Predicted Label'])\n",
        "def plot_confusion_matrix(df_confusion, title='Confusion matrix', cmap=plt.cm.gray_r):\n",
        "    plt.matshow(df_confusion, cmap=cmap) # imshow\n",
        "    #plt.title(title)\n",
        "    plt.colorbar()\n",
        "    tick_marks = np.arange(len(df_confusion.columns))\n",
        "    plt.xticks(tick_marks, df_confusion.columns, rotation=45)\n",
        "    plt.yticks(tick_marks, df_confusion.index)\n",
        "    #plt.tight_layout()\n",
        "    plt.ylabel(df_confusion.index.name)\n",
        "    plt.xlabel(df_confusion.columns.name)\n",
        "\n",
        "plot_confusion_matrix(df_confusion)"
      ],
      "execution_count": 76,
      "outputs": [
        {
          "output_type": "display_data",
          "data": {
            "image/png": "[encoded data removed]",
            "text/plain": [
              "<Figure size 288x288 with 2 Axes>"
            ]
          },
          "metadata": {}
        }
      ]
    },
    {
      "cell_type": "markdown",
      "metadata": {
        "id": "kRa5a1oDlP6o"
      },
      "source": [
        "## Referências:\n",
        "\n",
        "1. Hands-on Machine Learning with Scikit-Learn, Keras and TensorFlow, Aurélion Géron, O'Reilly;\n",
        "1. *Introdução ao numpy*: https://sebastianraschka.com/pdf/books/dlb/appendix_f_numpy-intro.pdf"
      ]
    }
  ]
}